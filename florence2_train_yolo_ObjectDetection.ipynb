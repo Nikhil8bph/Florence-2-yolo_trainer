{
 "cells": [
  {
   "cell_type": "code",
   "execution_count": 2,
   "metadata": {},
   "outputs": [
    {
     "name": "stderr",
     "output_type": "stream",
     "text": [
      "c:\\Users\\nikhi\\Desktop\\Projects\\LLM activity\\LLM test 1\\venv\\Lib\\site-packages\\tqdm\\auto.py:21: TqdmWarning: IProgress not found. Please update jupyter and ipywidgets. See https://ipywidgets.readthedocs.io/en/stable/user_install.html\n",
      "  from .autonotebook import tqdm as notebook_tqdm\n"
     ]
    }
   ],
   "source": [
    "from transformers import AutoProcessor, AutoModelForCausalLM\n",
    "from PIL import Image\n",
    "import requests\n",
    "import copy\n",
    "import torch\n",
    "import matplotlib.pyplot as plt\n",
    "import matplotlib.patches as patches\n",
    "import os\n",
    "import tqdm\n",
    "import time\n",
    "import warnings\n",
    "warnings.filterwarnings('ignore')\n",
    "import cv2\n",
    "import json\n",
    "from ultralytics import YOLO\n",
    "from sklearn.model_selection import train_test_split\n",
    "import shutil\n",
    "from threading import Thread "
   ]
  },
  {
   "cell_type": "code",
   "execution_count": 3,
   "metadata": {},
   "outputs": [],
   "source": [
    "# Load the model\n",
    "def run_example(task_prompt, image, model, processor ,text_input=None):\n",
    "    prompt = task_prompt if text_input is None else task_prompt + text_input\n",
    "    inputs = processor(text=prompt, images=image, return_tensors=\"pt\").to('cuda', torch.float16)\n",
    "    \n",
    "    generated_ids = model.generate(\n",
    "        input_ids=inputs[\"input_ids\"].cuda(),\n",
    "        pixel_values=inputs[\"pixel_values\"].cuda(),\n",
    "        max_new_tokens=1024,\n",
    "        early_stopping=False,\n",
    "        do_sample=False,\n",
    "        num_beams=3,\n",
    "    )\n",
    "    \n",
    "    generated_text = processor.batch_decode(generated_ids, skip_special_tokens=False)[0]\n",
    "    parsed_answer = processor.post_process_generation(\n",
    "        generated_text,\n",
    "        task=task_prompt,\n",
    "        image_size=(image.width, image.height)\n",
    "    )\n",
    "\n",
    "    return parsed_answer\n",
    "\n",
    "def read_yolo_label_file(file_path):\n",
    "    with open(file_path, 'r') as file:\n",
    "        lines = file.readlines()\n",
    "        annotations = []\n",
    "        for line in lines:\n",
    "            # Split the line into components\n",
    "            parts = line.strip().split()\n",
    "            # Convert each part to a float (or int for class_id)\n",
    "            class_id = int(parts[0])\n",
    "            x_center = float(parts[1])\n",
    "            y_center = float(parts[2])\n",
    "            width = float(parts[3])\n",
    "            height = float(parts[4])\n",
    "            # Append the annotation to the list\n",
    "            annotations.append([class_id, x_center, y_center, width, height])\n",
    "    return annotations\n",
    "\n",
    "def plot_bbox(original_image, bboxes, labels, title):\n",
    "    fig, axs = plt.subplots(1, 2, figsize=(12, 6))\n",
    "    axs[0].imshow(original_image)\n",
    "    axs[0].set_title('Original Image')\n",
    "    axs[0].axis('off')\n",
    "    \n",
    "    axs[1].imshow(original_image)\n",
    "    \n",
    "    for bbox, label in zip(bboxes, labels):\n",
    "        x1, y1, x2, y2 = bbox\n",
    "        rect = patches.Rectangle((x1, y1), x2 - x1, y2 - y1, linewidth=1, edgecolor='r', facecolor='none')\n",
    "        axs[1].add_patch(rect)\n",
    "        axs[1].text(x1, y1, label, color='white', fontsize=8, bbox=dict(facecolor='red', alpha=0.5))\n",
    "    \n",
    "    axs[1].set_title(title)\n",
    "    axs[1].axis('off')\n",
    "    plt.show(block=False)\n",
    "    # plt.pause(1)\n",
    "    # Close the plot\n",
    "    plt.close()\n",
    "\n",
    "def provide_yolo_annotations(annotations, img_height,img_width):\n",
    "    xyxy_annotations = []\n",
    "    labels_annotations = []\n",
    "    for annotation in annotations:\n",
    "        class_id, x_center, y_center, iwidth, iheight = annotation\n",
    "        x1 = x_center - iwidth/2\n",
    "        x2 = x_center + iwidth/2\n",
    "        y1 = y_center - iheight/2\n",
    "        y2 = y_center + iheight/2\n",
    "        xyxy_annotations.append([x1*img_width,y1*img_height,x2*img_width,y2*img_height])\n",
    "        labels_annotations.append(class_id)\n",
    "    return xyxy_annotations,labels_annotations\n",
    "\n",
    "def save_yolo_annotations(data_path,image_path,bboxes,labels,img_height,img_width):\n",
    "    base_name = os.path.basename(image_path)\n",
    "    annotations_dir = os.path.join(data_path,\"labels\")\n",
    "    if not os.path.exists(annotations_dir):\n",
    "        os.mkdir(annotations_dir)\n",
    "    annotations_file_name = os.path.splitext(base_name)[0]+\".txt\"\n",
    "    label_path = os.path.join(annotations_dir,annotations_file_name)\n",
    "    print(label_path)\n",
    "    with open(label_path, 'w') as file:\n",
    "        count = 0\n",
    "        for bbox,label in zip(bboxes,labels):\n",
    "            count = count + 1\n",
    "            width = bbox[2]-bbox[0]\n",
    "            height = bbox[3]-bbox[1]\n",
    "            x_center = (bbox[0]+width/2)/img_width\n",
    "            y_center = (bbox[1]+height/2)/img_height\n",
    "            width = width/img_width\n",
    "            height = height/img_height\n",
    "            string = None\n",
    "            if count==1:\n",
    "                string = \"{} {} {} {} {}\".format(crud_label_map(data_path,label), x_center,y_center,width,height)\n",
    "            elif count>1:\n",
    "                string = \"\\n{} {} {} {} {}\".format(crud_label_map(data_path,label), x_center,y_center,width,height)\n",
    "            file.write(string)\n",
    "    return label_path\n",
    "\n",
    "def crud_label_map(data_path,label):\n",
    "    base_path = os.path.join(data_path,\"label_map.json\")\n",
    "    if os.path.exists(base_path) == False:\n",
    "        with open(base_path, 'w') as file:\n",
    "            json.dump({}, file)\n",
    "    with open(base_path, 'r') as file:\n",
    "        labels_map = json.load(file)\n",
    "    if label in labels_map:\n",
    "        return labels_map[label]\n",
    "    else:\n",
    "        label_count = len(labels_map)\n",
    "        labels_map[label] = label_count\n",
    "        with open(base_path, 'w') as file:\n",
    "            json.dump(labels_map, file)\n",
    "        return labels_map[label]\n",
    "\n",
    "def train_val_test_split(data_dir,split_map={\"train\":0.7,\"valid\":0.2,\"test\":0.1}):\n",
    "    images_dir = os.path.join(data_dir, 'images')\n",
    "    labels_dir = os.path.join(data_dir, 'labels')\n",
    "    train_dir = os.path.join(data_dir, 'train')\n",
    "    val_dir = os.path.join(data_dir, 'valid')\n",
    "    test_dir = os.path.join(data_dir, 'test')\n",
    "    \n",
    "    os.makedirs(os.path.join(train_dir, 'images'), exist_ok=True)\n",
    "    os.makedirs(os.path.join(train_dir, 'labels'), exist_ok=True)\n",
    "    os.makedirs(os.path.join(val_dir, 'images'), exist_ok=True)\n",
    "    os.makedirs(os.path.join(val_dir, 'labels'), exist_ok=True)\n",
    "    os.makedirs(os.path.join(test_dir, 'images'), exist_ok=True)\n",
    "    os.makedirs(os.path.join(test_dir, 'labels'), exist_ok=True)\n",
    "    # Split the data into training and validation sets\n",
    "    images = os.listdir(images_dir)\n",
    "    labels = os.listdir(labels_dir)\n",
    "    print(\"Number of Images is {} and Labels is {}\".format(len(images),len(labels)))\n",
    "    train_images, test_val_images = train_test_split(images, test_size=split_map[\"valid\"]+split_map[\"test\"])\n",
    "    test_val_split = split_map[\"test\"]/(split_map[\"test\"]+split_map[\"valid\"])\n",
    "    valid_images, test_images = train_test_split(test_val_images, test_size=round(test_val_split,1))\n",
    "\n",
    "    for image in train_images:\n",
    "        if os.path.exists(os.path.join(labels_dir, os.path.splitext(image)[0]+'.txt')):\n",
    "            shutil.copy(os.path.join(images_dir, image), os.path.join(train_dir, 'images'))\n",
    "            shutil.copy(os.path.join(labels_dir, os.path.splitext(image)[0]+'.txt'), os.path.join(train_dir, 'labels'))\n",
    "    for image in valid_images:\n",
    "        if os.path.exists(os.path.join(labels_dir, os.path.splitext(image)[0]+'.txt')):\n",
    "            shutil.copy(os.path.join(images_dir, image), os.path.join(val_dir, 'images'))\n",
    "            shutil.copy(os.path.join(labels_dir, os.path.splitext(image)[0]+ '.txt'), os.path.join(val_dir, 'labels'))\n",
    "    for image in test_images:\n",
    "        if os.path.exists(os.path.join(labels_dir, os.path.splitext(image)[0]+'.txt')):\n",
    "            shutil.copy(os.path.join(images_dir, image), os.path.join(test_dir, 'images'))\n",
    "            shutil.copy(os.path.join(labels_dir, os.path.splitext(image)[0]+ '.txt'), os.path.join(test_dir, 'labels'))\n",
    "\n",
    "    # shutil.rmtree(images_dir)\n",
    "    # shutil.rmtree(labels_dir)\n",
    "\n",
    "def create_yaml_file(base_path):\n",
    "    base_path = os.path.join(base_path,\"label_map.json\")\n",
    "    with open(base_path, 'r') as file:\n",
    "        labels_map = json.load(file)\n",
    "    # Define the yaml content\n",
    "    yaml_content = f\"\"\"\n",
    "train: train/images\n",
    "val: valid/images\n",
    "test: test/images  # Optional, only if you have a separate test dataset\n",
    "\n",
    "nc: {len(labels_map)}  # Number of classes\n",
    "names:\n",
    "\"\"\"\n",
    "    for label, idx in labels_map.items():\n",
    "        yaml_content += f\"  {idx}: '{label}'  # Class name for label {idx}\\n\"\n",
    "\n",
    "    # Write to coco.yaml\n",
    "    with open(\"coco8.yaml\", \"w\") as yaml_file:\n",
    "        yaml_file.write(yaml_content)\n",
    "    pass\n",
    "\n",
    "def yolo_trainer():\n",
    "    model_yolo = YOLO('yolo11n.pt')  # Specify the correct YOLOv11 config file\n",
    "    results = model_yolo.train(data=\"coco8.yaml\", epochs=100, imgsz=640)\n",
    "    return results\n",
    "\n",
    "def run_annotaion_tool(data_path,task_prompt,text_input,model_id):\n",
    "    model = AutoModelForCausalLM.from_pretrained(model_id, trust_remote_code=True, torch_dtype='auto').eval().cuda()\n",
    "    processor = AutoProcessor.from_pretrained(model_id, trust_remote_code=True)\n",
    "    for path_img in os.listdir(path=os.path.join(data_path,\"images\")):\n",
    "        if path_img.endswith(\".jpg\"):\n",
    "            image_path = os.path.join((os.path.join(data_path,\"images\")),path_img)\n",
    "            cv2_image = cv2.imread(image_path)\n",
    "            # cv2_image.resize((640,640,3))\n",
    "            # cv2.imwrite(image_path,cv2_image)\n",
    "            img = Image.open(image_path)\n",
    "            img_height,img_width = cv2_image.shape[:2]\n",
    "            print(\"image read : {} \\nwidth : {}, height : {}\".format(image_path,img_width,img_height))\n",
    "            print(\"run example called\")\n",
    "            results = run_example(task_prompt, img, model, processor, text_input=text_input)\n",
    "            data = results['<CAPTION_TO_PHRASE_GROUNDING>']\n",
    "            bboxes,labels = data['bboxes'],data['labels']\n",
    "            print(\"bboxes : {}\\nlabel : {}\".format(bboxes,labels))\n",
    "            # plot_bbox(img,bboxes,labels,\"Image From Florence-2\")\n",
    "            print(\"save yolo annotations called\")\n",
    "            label_path = save_yolo_annotations(data_path,image_path,bboxes,labels,img_height,img_width)\n",
    "            print(\"annotations returned path : {}\".format(label_path))\n",
    "            annotations = read_yolo_label_file(label_path)\n",
    "            xyxy_annotations,labels_annotations = provide_yolo_annotations(annotations, img_height,img_width)\n",
    "            # plot_bbox(img, xyxy_annotations, labels_annotations,\"Image From Yolo Label file\")\n",
    "    return True"
   ]
  },
  {
   "cell_type": "code",
   "execution_count": 4,
   "metadata": {},
   "outputs": [],
   "source": [
    "model_id = 'microsoft/Florence-2-large-ft'\n",
    "data_path = r\"C:\\Users\\nikhi\\Desktop\\Projects\\LLM activity\\LLM test 1\\Florence_2_training_yolo11\\datasets\"\n",
    "task_prompt = '<CAPTION_TO_PHRASE_GROUNDING>'\n",
    "\n",
    "text_input = \"a license plate\""
   ]
  },
  {
   "cell_type": "code",
   "execution_count": 5,
   "metadata": {},
   "outputs": [
    {
     "name": "stderr",
     "output_type": "stream",
     "text": [
      "Florence2LanguageForConditionalGeneration has generative capabilities, as `prepare_inputs_for_generation` is explicitly overwritten. However, it doesn't directly inherit from `GenerationMixin`. From 👉v4.50👈 onwards, `PreTrainedModel` will NOT inherit from `GenerationMixin`, and this model will lose the ability to call `generate` and other related functions.\n",
      "  - If you're using `trust_remote_code=True`, you can get rid of this warning by loading the model with an auto class. See https://huggingface.co/docs/transformers/en/model_doc/auto#auto-classes\n",
      "  - If you are the owner of the model architecture code, please modify your model class such that it inherits from `GenerationMixin` (after `PreTrainedModel`, otherwise you'll get an exception).\n",
      "  - If you are not the owner of the model architecture class, please contact the model code owner to update it.\n"
     ]
    },
    {
     "name": "stdout",
     "output_type": "stream",
     "text": [
      "image read : C:\\Users\\nikhi\\Desktop\\Projects\\LLM activity\\LLM test 1\\Florence_2_training_yolo11\\datasets\\images\\1220841d1395058453-take-look-number-plate-img_2557.jpg \n",
      "width : 597, height : 800\n",
      "run example called\n",
      "bboxes : [[184.77149963378906, 487.6000061035156, 365.06549072265625, 541.2000122070312]]\n",
      "label : ['a license plate']\n",
      "save yolo annotations called\n",
      "C:\\Users\\nikhi\\Desktop\\Projects\\LLM activity\\LLM test 1\\Florence_2_training_yolo11\\datasets\\labels\\1220841d1395058453-take-look-number-plate-img_2557.txt\n",
      "annotations returned path : C:\\Users\\nikhi\\Desktop\\Projects\\LLM activity\\LLM test 1\\Florence_2_training_yolo11\\datasets\\labels\\1220841d1395058453-take-look-number-plate-img_2557.txt\n",
      "image read : C:\\Users\\nikhi\\Desktop\\Projects\\LLM activity\\LLM test 1\\Florence_2_training_yolo11\\datasets\\images\\16855_7ae98c41cef74ccd898643340a8d56b6IMG_20230106_141542.jpg \n",
      "width : 331, height : 450\n",
      "run example called\n",
      "bboxes : [[0.1655000001192093, 11.47499942779541, 330.5035095214844, 435.375]]\n",
      "label : ['a license plate']\n",
      "save yolo annotations called\n",
      "C:\\Users\\nikhi\\Desktop\\Projects\\LLM activity\\LLM test 1\\Florence_2_training_yolo11\\datasets\\labels\\16855_7ae98c41cef74ccd898643340a8d56b6IMG_20230106_141542.txt\n",
      "annotations returned path : C:\\Users\\nikhi\\Desktop\\Projects\\LLM activity\\LLM test 1\\Florence_2_training_yolo11\\datasets\\labels\\16855_7ae98c41cef74ccd898643340a8d56b6IMG_20230106_141542.txt\n",
      "image read : C:\\Users\\nikhi\\Desktop\\Projects\\LLM activity\\LLM test 1\\Florence_2_training_yolo11\\datasets\\images\\20170803_114451.jpg \n",
      "width : 3264, height : 1836\n",
      "run example called\n",
      "bboxes : [[925.343994140625, 1280.6099853515625, 1447.583984375, 1462.3740234375]]\n",
      "label : ['a license plate']\n",
      "save yolo annotations called\n",
      "C:\\Users\\nikhi\\Desktop\\Projects\\LLM activity\\LLM test 1\\Florence_2_training_yolo11\\datasets\\labels\\20170803_114451.txt\n",
      "annotations returned path : C:\\Users\\nikhi\\Desktop\\Projects\\LLM activity\\LLM test 1\\Florence_2_training_yolo11\\datasets\\labels\\20170803_114451.txt\n",
      "image read : C:\\Users\\nikhi\\Desktop\\Projects\\LLM activity\\LLM test 1\\Florence_2_training_yolo11\\datasets\\images\\20281_bda48fbebf08499abee6eb17f3713936IMG_20230321_171215.jpg \n",
      "width : 377, height : 450\n",
      "run example called\n",
      "bboxes : [[114.79650115966797, 373.2749938964844, 224.88050842285156, 408.375]]\n",
      "label : ['a license plate']\n",
      "save yolo annotations called\n",
      "C:\\Users\\nikhi\\Desktop\\Projects\\LLM activity\\LLM test 1\\Florence_2_training_yolo11\\datasets\\labels\\20281_bda48fbebf08499abee6eb17f3713936IMG_20230321_171215.txt\n",
      "annotations returned path : C:\\Users\\nikhi\\Desktop\\Projects\\LLM activity\\LLM test 1\\Florence_2_training_yolo11\\datasets\\labels\\20281_bda48fbebf08499abee6eb17f3713936IMG_20230321_171215.txt\n",
      "image read : C:\\Users\\nikhi\\Desktop\\Projects\\LLM activity\\LLM test 1\\Florence_2_training_yolo11\\datasets\\images\\20811b8eb4ccfadbb0391923bb225149.jpg \n",
      "width : 1136, height : 853\n",
      "run example called\n",
      "bboxes : [[178.92001342773438, 542.0814819335938, 415.2080078125, 617.1455078125]]\n",
      "label : ['a license plate']\n",
      "save yolo annotations called\n",
      "C:\\Users\\nikhi\\Desktop\\Projects\\LLM activity\\LLM test 1\\Florence_2_training_yolo11\\datasets\\labels\\20811b8eb4ccfadbb0391923bb225149.txt\n",
      "annotations returned path : C:\\Users\\nikhi\\Desktop\\Projects\\LLM activity\\LLM test 1\\Florence_2_training_yolo11\\datasets\\labels\\20811b8eb4ccfadbb0391923bb225149.txt\n",
      "image read : C:\\Users\\nikhi\\Desktop\\Projects\\LLM activity\\LLM test 1\\Florence_2_training_yolo11\\datasets\\images\\21518_a77bddf0eb5f4e35b30269990f7d5294Mahindra-bolero-hd-pickup-1.7L-VXI.jpg \n",
      "width : 350, height : 245\n",
      "run example called\n",
      "bboxes : [[141.9250030517578, 142.71250915527344, 209.125, 161.57749938964844]]\n",
      "label : ['a license plate']\n",
      "save yolo annotations called\n",
      "C:\\Users\\nikhi\\Desktop\\Projects\\LLM activity\\LLM test 1\\Florence_2_training_yolo11\\datasets\\labels\\21518_a77bddf0eb5f4e35b30269990f7d5294Mahindra-bolero-hd-pickup-1.7L-VXI.txt\n",
      "annotations returned path : C:\\Users\\nikhi\\Desktop\\Projects\\LLM activity\\LLM test 1\\Florence_2_training_yolo11\\datasets\\labels\\21518_a77bddf0eb5f4e35b30269990f7d5294Mahindra-bolero-hd-pickup-1.7L-VXI.txt\n",
      "image read : C:\\Users\\nikhi\\Desktop\\Projects\\LLM activity\\LLM test 1\\Florence_2_training_yolo11\\datasets\\images\\22728_578d15101a5348da991b1122a1cda31dIMG_20230626_142906.jpg \n",
      "width : 357, height : 450\n",
      "run example called\n",
      "bboxes : [[127.9844970703125, 357.9749755859375, 219.01950073242188, 383.17498779296875]]\n",
      "label : ['a license plate']\n",
      "save yolo annotations called\n",
      "C:\\Users\\nikhi\\Desktop\\Projects\\LLM activity\\LLM test 1\\Florence_2_training_yolo11\\datasets\\labels\\22728_578d15101a5348da991b1122a1cda31dIMG_20230626_142906.txt\n",
      "annotations returned path : C:\\Users\\nikhi\\Desktop\\Projects\\LLM activity\\LLM test 1\\Florence_2_training_yolo11\\datasets\\labels\\22728_578d15101a5348da991b1122a1cda31dIMG_20230626_142906.txt\n",
      "image read : C:\\Users\\nikhi\\Desktop\\Projects\\LLM activity\\LLM test 1\\Florence_2_training_yolo11\\datasets\\images\\24124_bdb0995773b64773860de2eb513dff6dIMG_20230801_115712 (1).jpg \n",
      "width : 402, height : 450\n",
      "run example called\n",
      "bboxes : [[146.93099975585938, 378.2249755859375, 213.6630096435547, 422.3249816894531]]\n",
      "label : ['a license plate']\n",
      "save yolo annotations called\n",
      "C:\\Users\\nikhi\\Desktop\\Projects\\LLM activity\\LLM test 1\\Florence_2_training_yolo11\\datasets\\labels\\24124_bdb0995773b64773860de2eb513dff6dIMG_20230801_115712 (1).txt\n",
      "annotations returned path : C:\\Users\\nikhi\\Desktop\\Projects\\LLM activity\\LLM test 1\\Florence_2_training_yolo11\\datasets\\labels\\24124_bdb0995773b64773860de2eb513dff6dIMG_20230801_115712 (1).txt\n",
      "image read : C:\\Users\\nikhi\\Desktop\\Projects\\LLM activity\\LLM test 1\\Florence_2_training_yolo11\\datasets\\images\\24124_bdb0995773b64773860de2eb513dff6dIMG_20230801_115712.jpg \n",
      "width : 402, height : 450\n",
      "run example called\n",
      "bboxes : [[146.93099975585938, 378.2249755859375, 213.6630096435547, 422.3249816894531]]\n",
      "label : ['a license plate']\n",
      "save yolo annotations called\n",
      "C:\\Users\\nikhi\\Desktop\\Projects\\LLM activity\\LLM test 1\\Florence_2_training_yolo11\\datasets\\labels\\24124_bdb0995773b64773860de2eb513dff6dIMG_20230801_115712.txt\n",
      "annotations returned path : C:\\Users\\nikhi\\Desktop\\Projects\\LLM activity\\LLM test 1\\Florence_2_training_yolo11\\datasets\\labels\\24124_bdb0995773b64773860de2eb513dff6dIMG_20230801_115712.txt\n",
      "image read : C:\\Users\\nikhi\\Desktop\\Projects\\LLM activity\\LLM test 1\\Florence_2_training_yolo11\\datasets\\images\\27747_c94460dc1b524e03ae36c18b99194fcaIMG_20231122_095226.jpg \n",
      "width : 411, height : 450\n",
      "run example called\n",
      "bboxes : [[164.60549926757812, 371.4749755859375, 234.4755096435547, 412.42498779296875]]\n",
      "label : ['a license plate']\n",
      "save yolo annotations called\n",
      "C:\\Users\\nikhi\\Desktop\\Projects\\LLM activity\\LLM test 1\\Florence_2_training_yolo11\\datasets\\labels\\27747_c94460dc1b524e03ae36c18b99194fcaIMG_20231122_095226.txt\n",
      "annotations returned path : C:\\Users\\nikhi\\Desktop\\Projects\\LLM activity\\LLM test 1\\Florence_2_training_yolo11\\datasets\\labels\\27747_c94460dc1b524e03ae36c18b99194fcaIMG_20231122_095226.txt\n",
      "image read : C:\\Users\\nikhi\\Desktop\\Projects\\LLM activity\\LLM test 1\\Florence_2_training_yolo11\\datasets\\images\\28224_8d4ab40a86d14586bc731bb4aabac69eIMG_20231210_093724.jpg \n",
      "width : 411, height : 450\n",
      "run example called\n",
      "bboxes : [[168.30450439453125, 366.0749816894531, 278.4525146484375, 387.67498779296875]]\n",
      "label : ['a license plate']\n",
      "save yolo annotations called\n",
      "C:\\Users\\nikhi\\Desktop\\Projects\\LLM activity\\LLM test 1\\Florence_2_training_yolo11\\datasets\\labels\\28224_8d4ab40a86d14586bc731bb4aabac69eIMG_20231210_093724.txt\n",
      "annotations returned path : C:\\Users\\nikhi\\Desktop\\Projects\\LLM activity\\LLM test 1\\Florence_2_training_yolo11\\datasets\\labels\\28224_8d4ab40a86d14586bc731bb4aabac69eIMG_20231210_093724.txt\n",
      "image read : C:\\Users\\nikhi\\Desktop\\Projects\\LLM activity\\LLM test 1\\Florence_2_training_yolo11\\datasets\\images\\28546_4848f07e8f014f8cab52d207a384476dIMG_20231221_142339.jpg \n",
      "width : 557, height : 450\n",
      "run example called\n",
      "bboxes : [[0.2784999907016754, 18.674999237060547, 556.1644897460938, 449.3249816894531], [405.77447509765625, 349.875, 455.90447998046875, 375.0749816894531]]\n",
      "label : ['a license plate', 'a license plate']\n",
      "save yolo annotations called\n",
      "C:\\Users\\nikhi\\Desktop\\Projects\\LLM activity\\LLM test 1\\Florence_2_training_yolo11\\datasets\\labels\\28546_4848f07e8f014f8cab52d207a384476dIMG_20231221_142339.txt\n",
      "annotations returned path : C:\\Users\\nikhi\\Desktop\\Projects\\LLM activity\\LLM test 1\\Florence_2_training_yolo11\\datasets\\labels\\28546_4848f07e8f014f8cab52d207a384476dIMG_20231221_142339.txt\n",
      "image read : C:\\Users\\nikhi\\Desktop\\Projects\\LLM activity\\LLM test 1\\Florence_2_training_yolo11\\datasets\\images\\28546_4b5d171e271c4fac8f86e9560369fc6aIMG_20231221_142333.jpg \n",
      "width : 416, height : 450\n",
      "run example called\n",
      "bboxes : [[0.20800000429153442, 0.22499999403953552, 407.88800048828125, 449.3249816894531]]\n",
      "label : ['a license plate']\n",
      "save yolo annotations called\n",
      "C:\\Users\\nikhi\\Desktop\\Projects\\LLM activity\\LLM test 1\\Florence_2_training_yolo11\\datasets\\labels\\28546_4b5d171e271c4fac8f86e9560369fc6aIMG_20231221_142333.txt\n",
      "annotations returned path : C:\\Users\\nikhi\\Desktop\\Projects\\LLM activity\\LLM test 1\\Florence_2_training_yolo11\\datasets\\labels\\28546_4b5d171e271c4fac8f86e9560369fc6aIMG_20231221_142333.txt\n",
      "image read : C:\\Users\\nikhi\\Desktop\\Projects\\LLM activity\\LLM test 1\\Florence_2_training_yolo11\\datasets\\images\\28683_10d82450f4eb45f39e17001bcad64136IMG_20231227_150709.jpg \n",
      "width : 407, height : 450\n",
      "run example called\n",
      "bboxes : [[163.00350952148438, 371.0249938964844, 244.40350341796875, 393.5249938964844]]\n",
      "label : ['a license plate']\n",
      "save yolo annotations called\n",
      "C:\\Users\\nikhi\\Desktop\\Projects\\LLM activity\\LLM test 1\\Florence_2_training_yolo11\\datasets\\labels\\28683_10d82450f4eb45f39e17001bcad64136IMG_20231227_150709.txt\n",
      "annotations returned path : C:\\Users\\nikhi\\Desktop\\Projects\\LLM activity\\LLM test 1\\Florence_2_training_yolo11\\datasets\\labels\\28683_10d82450f4eb45f39e17001bcad64136IMG_20231227_150709.txt\n",
      "image read : C:\\Users\\nikhi\\Desktop\\Projects\\LLM activity\\LLM test 1\\Florence_2_training_yolo11\\datasets\\images\\29111_87b7937459d6402bbc99c977fabb8715IMG_20240115_151054.jpg \n",
      "width : 371, height : 450\n",
      "run example called\n",
      "bboxes : [[145.24649047851562, 392.625, 231.6894989013672, 416.0249938964844]]\n",
      "label : ['a license plate']\n",
      "save yolo annotations called\n",
      "C:\\Users\\nikhi\\Desktop\\Projects\\LLM activity\\LLM test 1\\Florence_2_training_yolo11\\datasets\\labels\\29111_87b7937459d6402bbc99c977fabb8715IMG_20240115_151054.txt\n",
      "annotations returned path : C:\\Users\\nikhi\\Desktop\\Projects\\LLM activity\\LLM test 1\\Florence_2_training_yolo11\\datasets\\labels\\29111_87b7937459d6402bbc99c977fabb8715IMG_20240115_151054.txt\n",
      "image read : C:\\Users\\nikhi\\Desktop\\Projects\\LLM activity\\LLM test 1\\Florence_2_training_yolo11\\datasets\\images\\29396_2787ac9ce0e2440191ba8638530b57b5IMG_20240117_105924.jpg \n",
      "width : 388, height : 450\n",
      "run example called\n",
      "bboxes : [[239.97801208496094, 301.7250061035156, 302.8340148925781, 342.2250061035156]]\n",
      "label : ['a license plate']\n",
      "save yolo annotations called\n",
      "C:\\Users\\nikhi\\Desktop\\Projects\\LLM activity\\LLM test 1\\Florence_2_training_yolo11\\datasets\\labels\\29396_2787ac9ce0e2440191ba8638530b57b5IMG_20240117_105924.txt\n",
      "annotations returned path : C:\\Users\\nikhi\\Desktop\\Projects\\LLM activity\\LLM test 1\\Florence_2_training_yolo11\\datasets\\labels\\29396_2787ac9ce0e2440191ba8638530b57b5IMG_20240117_105924.txt\n",
      "image read : C:\\Users\\nikhi\\Desktop\\Projects\\LLM activity\\LLM test 1\\Florence_2_training_yolo11\\datasets\\images\\29401_9b65ace12cbc497f812505a830ea351aIMG_20240117_115258.jpg \n",
      "width : 525, height : 450\n",
      "run example called\n",
      "bboxes : [[158.8125, 403.875, 228.6374969482422, 448.42498779296875]]\n",
      "label : ['a license plate']\n",
      "save yolo annotations called\n",
      "C:\\Users\\nikhi\\Desktop\\Projects\\LLM activity\\LLM test 1\\Florence_2_training_yolo11\\datasets\\labels\\29401_9b65ace12cbc497f812505a830ea351aIMG_20240117_115258.txt\n",
      "annotations returned path : C:\\Users\\nikhi\\Desktop\\Projects\\LLM activity\\LLM test 1\\Florence_2_training_yolo11\\datasets\\labels\\29401_9b65ace12cbc497f812505a830ea351aIMG_20240117_115258.txt\n",
      "image read : C:\\Users\\nikhi\\Desktop\\Projects\\LLM activity\\LLM test 1\\Florence_2_training_yolo11\\datasets\\images\\29522_0f82f9bde3e5481da7f8c69be2b3ad09IMG_20240123_104030.jpg \n",
      "width : 365, height : 450\n",
      "run example called\n",
      "bboxes : [[129.3925018310547, 348.5249938964844, 241.8125, 378.67498779296875]]\n",
      "label : ['a license plate']\n",
      "save yolo annotations called\n",
      "C:\\Users\\nikhi\\Desktop\\Projects\\LLM activity\\LLM test 1\\Florence_2_training_yolo11\\datasets\\labels\\29522_0f82f9bde3e5481da7f8c69be2b3ad09IMG_20240123_104030.txt\n",
      "annotations returned path : C:\\Users\\nikhi\\Desktop\\Projects\\LLM activity\\LLM test 1\\Florence_2_training_yolo11\\datasets\\labels\\29522_0f82f9bde3e5481da7f8c69be2b3ad09IMG_20240123_104030.txt\n",
      "image read : C:\\Users\\nikhi\\Desktop\\Projects\\LLM activity\\LLM test 1\\Florence_2_training_yolo11\\datasets\\images\\29554_0a4e8a4a7fc14bfbae7f8c05f55a6f6fIMG_20240124_153426.jpg \n",
      "width : 394, height : 450\n",
      "run example called\n",
      "bboxes : [[268.510986328125, 250.875, 363.07098388671875, 276.9750061035156]]\n",
      "label : ['a license plate']\n",
      "save yolo annotations called\n",
      "C:\\Users\\nikhi\\Desktop\\Projects\\LLM activity\\LLM test 1\\Florence_2_training_yolo11\\datasets\\labels\\29554_0a4e8a4a7fc14bfbae7f8c05f55a6f6fIMG_20240124_153426.txt\n",
      "annotations returned path : C:\\Users\\nikhi\\Desktop\\Projects\\LLM activity\\LLM test 1\\Florence_2_training_yolo11\\datasets\\labels\\29554_0a4e8a4a7fc14bfbae7f8c05f55a6f6fIMG_20240124_153426.txt\n",
      "image read : C:\\Users\\nikhi\\Desktop\\Projects\\LLM activity\\LLM test 1\\Florence_2_training_yolo11\\datasets\\images\\29562_17b017396660444e973601c3b85aaf3cIMG_20240124_193842.jpg \n",
      "width : 289, height : 450\n",
      "run example called\n",
      "bboxes : [[93.20249938964844, 382.7249755859375, 155.0485076904297, 428.625]]\n",
      "label : ['a license plate']\n",
      "save yolo annotations called\n",
      "C:\\Users\\nikhi\\Desktop\\Projects\\LLM activity\\LLM test 1\\Florence_2_training_yolo11\\datasets\\labels\\29562_17b017396660444e973601c3b85aaf3cIMG_20240124_193842.txt\n",
      "annotations returned path : C:\\Users\\nikhi\\Desktop\\Projects\\LLM activity\\LLM test 1\\Florence_2_training_yolo11\\datasets\\labels\\29562_17b017396660444e973601c3b85aaf3cIMG_20240124_193842.txt\n",
      "image read : C:\\Users\\nikhi\\Desktop\\Projects\\LLM activity\\LLM test 1\\Florence_2_training_yolo11\\datasets\\images\\29572_277a637297ee43748f9f84a6161b7aaeIMG_20240125_113857.jpg \n",
      "width : 582, height : 450\n",
      "run example called\n",
      "bboxes : [[0.29100000858306885, 1.5749999284744263, 581.1270141601562, 449.3249816894531]]\n",
      "label : ['a license plate']\n",
      "save yolo annotations called\n",
      "C:\\Users\\nikhi\\Desktop\\Projects\\LLM activity\\LLM test 1\\Florence_2_training_yolo11\\datasets\\labels\\29572_277a637297ee43748f9f84a6161b7aaeIMG_20240125_113857.txt\n",
      "annotations returned path : C:\\Users\\nikhi\\Desktop\\Projects\\LLM activity\\LLM test 1\\Florence_2_training_yolo11\\datasets\\labels\\29572_277a637297ee43748f9f84a6161b7aaeIMG_20240125_113857.txt\n",
      "image read : C:\\Users\\nikhi\\Desktop\\Projects\\LLM activity\\LLM test 1\\Florence_2_training_yolo11\\datasets\\images\\2d575bcf42a51033bec667b325e6482e.jpg \n",
      "width : 1020, height : 1530\n",
      "run example called\n",
      "bboxes : [[444.2099914550781, 1256.89501953125, 591.0899658203125, 1339.5150146484375]]\n",
      "label : ['a license plate']\n",
      "save yolo annotations called\n",
      "C:\\Users\\nikhi\\Desktop\\Projects\\LLM activity\\LLM test 1\\Florence_2_training_yolo11\\datasets\\labels\\2d575bcf42a51033bec667b325e6482e.txt\n",
      "annotations returned path : C:\\Users\\nikhi\\Desktop\\Projects\\LLM activity\\LLM test 1\\Florence_2_training_yolo11\\datasets\\labels\\2d575bcf42a51033bec667b325e6482e.txt\n",
      "image read : C:\\Users\\nikhi\\Desktop\\Projects\\LLM activity\\LLM test 1\\Florence_2_training_yolo11\\datasets\\images\\331b30508464d16faa8a7f23363d61e3.jpg \n",
      "width : 1280, height : 960\n",
      "run example called\n",
      "bboxes : [[40.31999969482422, 413.2799987792969, 282.239990234375, 494.8799743652344], [1042.5599365234375, 450.7200012207031, 1249.919921875, 525.5999755859375]]\n",
      "label : ['a license plate', 'a license plate']\n",
      "save yolo annotations called\n",
      "C:\\Users\\nikhi\\Desktop\\Projects\\LLM activity\\LLM test 1\\Florence_2_training_yolo11\\datasets\\labels\\331b30508464d16faa8a7f23363d61e3.txt\n",
      "annotations returned path : C:\\Users\\nikhi\\Desktop\\Projects\\LLM activity\\LLM test 1\\Florence_2_training_yolo11\\datasets\\labels\\331b30508464d16faa8a7f23363d61e3.txt\n",
      "image read : C:\\Users\\nikhi\\Desktop\\Projects\\LLM activity\\LLM test 1\\Florence_2_training_yolo11\\datasets\\images\\61LdKsLJKuL._AC_UF1000,1000_QL80_.jpg \n",
      "width : 1000, height : 617\n",
      "run example called\n",
      "bboxes : [[130.5, 105.81549835205078, 996.5, 609.2874755859375]]\n",
      "label : ['a license plate']\n",
      "save yolo annotations called\n",
      "C:\\Users\\nikhi\\Desktop\\Projects\\LLM activity\\LLM test 1\\Florence_2_training_yolo11\\datasets\\labels\\61LdKsLJKuL._AC_UF1000,1000_QL80_.txt\n",
      "annotations returned path : C:\\Users\\nikhi\\Desktop\\Projects\\LLM activity\\LLM test 1\\Florence_2_training_yolo11\\datasets\\labels\\61LdKsLJKuL._AC_UF1000,1000_QL80_.txt\n",
      "image read : C:\\Users\\nikhi\\Desktop\\Projects\\LLM activity\\LLM test 1\\Florence_2_training_yolo11\\datasets\\images\\61ln3Xb6o0L._AC_UF1000,1000_QL80_.jpg \n",
      "width : 1000, height : 699\n",
      "run example called\n",
      "bboxes : [[157.5, 3.1454999446868896, 829.5, 393.8865051269531], [3.5, 451.90350341796875, 996.5, 693.7575073242188]]\n",
      "label : ['a license plate', 'a license plate']\n",
      "save yolo annotations called\n",
      "C:\\Users\\nikhi\\Desktop\\Projects\\LLM activity\\LLM test 1\\Florence_2_training_yolo11\\datasets\\labels\\61ln3Xb6o0L._AC_UF1000,1000_QL80_.txt\n",
      "annotations returned path : C:\\Users\\nikhi\\Desktop\\Projects\\LLM activity\\LLM test 1\\Florence_2_training_yolo11\\datasets\\labels\\61ln3Xb6o0L._AC_UF1000,1000_QL80_.txt\n",
      "image read : C:\\Users\\nikhi\\Desktop\\Projects\\LLM activity\\LLM test 1\\Florence_2_training_yolo11\\datasets\\images\\7512_2b88eec478e74be0bc663bd5895b073ep6.jpg \n",
      "width : 544, height : 450\n",
      "run example called\n",
      "bboxes : [[17.136001586914062, 38.02499771118164, 524.14404296875, 423.67498779296875], [193.93600463867188, 381.375, 317.968017578125, 406.125]]\n",
      "label : ['a license plate', 'a license plate']\n",
      "save yolo annotations called\n",
      "C:\\Users\\nikhi\\Desktop\\Projects\\LLM activity\\LLM test 1\\Florence_2_training_yolo11\\datasets\\labels\\7512_2b88eec478e74be0bc663bd5895b073ep6.txt\n",
      "annotations returned path : C:\\Users\\nikhi\\Desktop\\Projects\\LLM activity\\LLM test 1\\Florence_2_training_yolo11\\datasets\\labels\\7512_2b88eec478e74be0bc663bd5895b073ep6.txt\n",
      "image read : C:\\Users\\nikhi\\Desktop\\Projects\\LLM activity\\LLM test 1\\Florence_2_training_yolo11\\datasets\\images\\7512_cf0ae5ee74b248e0913a36bbb72c3696p3.jpg \n",
      "width : 488, height : 450\n",
      "run example called\n",
      "bboxes : [[186.1719970703125, 364.2749938964844, 313.052001953125, 384.5249938964844]]\n",
      "label : ['a license plate']\n",
      "save yolo annotations called\n",
      "C:\\Users\\nikhi\\Desktop\\Projects\\LLM activity\\LLM test 1\\Florence_2_training_yolo11\\datasets\\labels\\7512_cf0ae5ee74b248e0913a36bbb72c3696p3.txt\n",
      "annotations returned path : C:\\Users\\nikhi\\Desktop\\Projects\\LLM activity\\LLM test 1\\Florence_2_training_yolo11\\datasets\\labels\\7512_cf0ae5ee74b248e0913a36bbb72c3696p3.txt\n",
      "image read : C:\\Users\\nikhi\\Desktop\\Projects\\LLM activity\\LLM test 1\\Florence_2_training_yolo11\\datasets\\images\\7512_e8d1c07f54c6433da1345835d437bb8bp1.jpg \n",
      "width : 700, height : 450\n",
      "run example called\n",
      "bboxes : [[502.25, 395.3249816894531, 596.0499877929688, 420.5249938964844]]\n",
      "label : ['a license plate']\n",
      "save yolo annotations called\n",
      "C:\\Users\\nikhi\\Desktop\\Projects\\LLM activity\\LLM test 1\\Florence_2_training_yolo11\\datasets\\labels\\7512_e8d1c07f54c6433da1345835d437bb8bp1.txt\n",
      "annotations returned path : C:\\Users\\nikhi\\Desktop\\Projects\\LLM activity\\LLM test 1\\Florence_2_training_yolo11\\datasets\\labels\\7512_e8d1c07f54c6433da1345835d437bb8bp1.txt\n",
      "image read : C:\\Users\\nikhi\\Desktop\\Projects\\LLM activity\\LLM test 1\\Florence_2_training_yolo11\\datasets\\images\\9334730c6c059a66077a92b1699c6dc9 (1).jpg \n",
      "width : 720, height : 760\n",
      "run example called\n",
      "bboxes : [[325.8000183105469, 533.8999633789062, 512.280029296875, 582.5399780273438]]\n",
      "label : ['a license plate']\n",
      "save yolo annotations called\n",
      "C:\\Users\\nikhi\\Desktop\\Projects\\LLM activity\\LLM test 1\\Florence_2_training_yolo11\\datasets\\labels\\9334730c6c059a66077a92b1699c6dc9 (1).txt\n",
      "annotations returned path : C:\\Users\\nikhi\\Desktop\\Projects\\LLM activity\\LLM test 1\\Florence_2_training_yolo11\\datasets\\labels\\9334730c6c059a66077a92b1699c6dc9 (1).txt\n",
      "image read : C:\\Users\\nikhi\\Desktop\\Projects\\LLM activity\\LLM test 1\\Florence_2_training_yolo11\\datasets\\images\\9334730c6c059a66077a92b1699c6dc9.jpg \n",
      "width : 720, height : 760\n",
      "run example called\n",
      "bboxes : [[325.8000183105469, 533.8999633789062, 512.280029296875, 582.5399780273438]]\n",
      "label : ['a license plate']\n",
      "save yolo annotations called\n",
      "C:\\Users\\nikhi\\Desktop\\Projects\\LLM activity\\LLM test 1\\Florence_2_training_yolo11\\datasets\\labels\\9334730c6c059a66077a92b1699c6dc9.txt\n",
      "annotations returned path : C:\\Users\\nikhi\\Desktop\\Projects\\LLM activity\\LLM test 1\\Florence_2_training_yolo11\\datasets\\labels\\9334730c6c059a66077a92b1699c6dc9.txt\n",
      "image read : C:\\Users\\nikhi\\Desktop\\Projects\\LLM activity\\LLM test 1\\Florence_2_training_yolo11\\datasets\\images\\b8c5e0f68bd89cd606680066151a3fce.jpg \n",
      "width : 960, height : 635\n",
      "run example called\n",
      "bboxes : [[677.2799682617188, 286.0675048828125, 794.3999633789062, 338.7724914550781]]\n",
      "label : ['a license plate']\n",
      "save yolo annotations called\n",
      "C:\\Users\\nikhi\\Desktop\\Projects\\LLM activity\\LLM test 1\\Florence_2_training_yolo11\\datasets\\labels\\b8c5e0f68bd89cd606680066151a3fce.txt\n",
      "annotations returned path : C:\\Users\\nikhi\\Desktop\\Projects\\LLM activity\\LLM test 1\\Florence_2_training_yolo11\\datasets\\labels\\b8c5e0f68bd89cd606680066151a3fce.txt\n",
      "image read : C:\\Users\\nikhi\\Desktop\\Projects\\LLM activity\\LLM test 1\\Florence_2_training_yolo11\\datasets\\images\\dff9f95d3023f16cf83b0b481648f2d1.jpg \n",
      "width : 235, height : 255\n",
      "run example called\n",
      "bboxes : [[66.62249755859375, 122.78250122070312, 149.34249877929688, 145.9875030517578]]\n",
      "label : ['a license plate']\n",
      "save yolo annotations called\n",
      "C:\\Users\\nikhi\\Desktop\\Projects\\LLM activity\\LLM test 1\\Florence_2_training_yolo11\\datasets\\labels\\dff9f95d3023f16cf83b0b481648f2d1.txt\n",
      "annotations returned path : C:\\Users\\nikhi\\Desktop\\Projects\\LLM activity\\LLM test 1\\Florence_2_training_yolo11\\datasets\\labels\\dff9f95d3023f16cf83b0b481648f2d1.txt\n",
      "image read : C:\\Users\\nikhi\\Desktop\\Projects\\LLM activity\\LLM test 1\\Florence_2_training_yolo11\\datasets\\images\\hyundai-keychain-12.jpg \n",
      "width : 720, height : 720\n",
      "run example called\n",
      "bboxes : [[111.96000671386719, 415.08001708984375, 518.0400390625, 567.7200317382812]]\n",
      "label : ['a license plate']\n",
      "save yolo annotations called\n",
      "C:\\Users\\nikhi\\Desktop\\Projects\\LLM activity\\LLM test 1\\Florence_2_training_yolo11\\datasets\\labels\\hyundai-keychain-12.txt\n",
      "annotations returned path : C:\\Users\\nikhi\\Desktop\\Projects\\LLM activity\\LLM test 1\\Florence_2_training_yolo11\\datasets\\labels\\hyundai-keychain-12.txt\n",
      "image read : C:\\Users\\nikhi\\Desktop\\Projects\\LLM activity\\LLM test 1\\Florence_2_training_yolo11\\datasets\\images\\IMG_20240125_193107988.jpg \n",
      "width : 4096, height : 2304\n",
      "run example called\n",
      "bboxes : [[2811.904052734375, 952.7039794921875, 2934.7841796875, 1017.2159423828125]]\n",
      "label : ['a license plate']\n",
      "save yolo annotations called\n",
      "C:\\Users\\nikhi\\Desktop\\Projects\\LLM activity\\LLM test 1\\Florence_2_training_yolo11\\datasets\\labels\\IMG_20240125_193107988.txt\n",
      "annotations returned path : C:\\Users\\nikhi\\Desktop\\Projects\\LLM activity\\LLM test 1\\Florence_2_training_yolo11\\datasets\\labels\\IMG_20240125_193107988.txt\n",
      "image read : C:\\Users\\nikhi\\Desktop\\Projects\\LLM activity\\LLM test 1\\Florence_2_training_yolo11\\datasets\\images\\IMG_20240125_193114627.jpg \n",
      "width : 4096, height : 2304\n",
      "run example called\n",
      "bboxes : [[2.0480000972747803, 1275.263916015625, 1452.0321044921875, 2300.5439453125]]\n",
      "label : ['a license plate']\n",
      "save yolo annotations called\n",
      "C:\\Users\\nikhi\\Desktop\\Projects\\LLM activity\\LLM test 1\\Florence_2_training_yolo11\\datasets\\labels\\IMG_20240125_193114627.txt\n",
      "annotations returned path : C:\\Users\\nikhi\\Desktop\\Projects\\LLM activity\\LLM test 1\\Florence_2_training_yolo11\\datasets\\labels\\IMG_20240125_193114627.txt\n",
      "image read : C:\\Users\\nikhi\\Desktop\\Projects\\LLM activity\\LLM test 1\\Florence_2_training_yolo11\\datasets\\images\\IMG_20240125_193117886.jpg \n",
      "width : 4096, height : 2304\n",
      "run example called\n",
      "bboxes : [[2955.26416015625, 902.0159912109375, 3061.76025390625, 959.615966796875]]\n",
      "label : ['a license plate']\n",
      "save yolo annotations called\n",
      "C:\\Users\\nikhi\\Desktop\\Projects\\LLM activity\\LLM test 1\\Florence_2_training_yolo11\\datasets\\labels\\IMG_20240125_193117886.txt\n",
      "annotations returned path : C:\\Users\\nikhi\\Desktop\\Projects\\LLM activity\\LLM test 1\\Florence_2_training_yolo11\\datasets\\labels\\IMG_20240125_193117886.txt\n",
      "image read : C:\\Users\\nikhi\\Desktop\\Projects\\LLM activity\\LLM test 1\\Florence_2_training_yolo11\\datasets\\images\\IMG_20240125_193119968.jpg \n",
      "width : 4096, height : 2304\n",
      "run example called\n",
      "bboxes : [[2525.18408203125, 1137.02392578125, 2643.968017578125, 1208.447998046875]]\n",
      "label : ['a license plate']\n",
      "save yolo annotations called\n",
      "C:\\Users\\nikhi\\Desktop\\Projects\\LLM activity\\LLM test 1\\Florence_2_training_yolo11\\datasets\\labels\\IMG_20240125_193119968.txt\n",
      "annotations returned path : C:\\Users\\nikhi\\Desktop\\Projects\\LLM activity\\LLM test 1\\Florence_2_training_yolo11\\datasets\\labels\\IMG_20240125_193119968.txt\n",
      "image read : C:\\Users\\nikhi\\Desktop\\Projects\\LLM activity\\LLM test 1\\Florence_2_training_yolo11\\datasets\\images\\IMG_20240125_193124973.jpg \n",
      "width : 4096, height : 2304\n",
      "run example called\n",
      "bboxes : [[2193.408203125, 1286.783935546875, 2287.6162109375, 1372.031982421875]]\n",
      "label : ['a license plate']\n",
      "save yolo annotations called\n",
      "C:\\Users\\nikhi\\Desktop\\Projects\\LLM activity\\LLM test 1\\Florence_2_training_yolo11\\datasets\\labels\\IMG_20240125_193124973.txt\n",
      "annotations returned path : C:\\Users\\nikhi\\Desktop\\Projects\\LLM activity\\LLM test 1\\Florence_2_training_yolo11\\datasets\\labels\\IMG_20240125_193124973.txt\n",
      "image read : C:\\Users\\nikhi\\Desktop\\Projects\\LLM activity\\LLM test 1\\Florence_2_training_yolo11\\datasets\\images\\IMG_20240125_193129066.jpg \n",
      "width : 4096, height : 2304\n",
      "run example called\n",
      "bboxes : [[2009.088134765625, 1353.5999755859375, 2111.488037109375, 1422.719970703125]]\n",
      "label : ['a license plate']\n",
      "save yolo annotations called\n",
      "C:\\Users\\nikhi\\Desktop\\Projects\\LLM activity\\LLM test 1\\Florence_2_training_yolo11\\datasets\\labels\\IMG_20240125_193129066.txt\n",
      "annotations returned path : C:\\Users\\nikhi\\Desktop\\Projects\\LLM activity\\LLM test 1\\Florence_2_training_yolo11\\datasets\\labels\\IMG_20240125_193129066.txt\n",
      "image read : C:\\Users\\nikhi\\Desktop\\Projects\\LLM activity\\LLM test 1\\Florence_2_training_yolo11\\datasets\\images\\IMG_20240125_193134812.jpg \n",
      "width : 4096, height : 2304\n",
      "run example called\n",
      "bboxes : [[2013.18408203125, 945.7919311523438, 2107.39208984375, 1003.3919677734375]]\n",
      "label : ['a license plate']\n",
      "save yolo annotations called\n",
      "C:\\Users\\nikhi\\Desktop\\Projects\\LLM activity\\LLM test 1\\Florence_2_training_yolo11\\datasets\\labels\\IMG_20240125_193134812.txt\n",
      "annotations returned path : C:\\Users\\nikhi\\Desktop\\Projects\\LLM activity\\LLM test 1\\Florence_2_training_yolo11\\datasets\\labels\\IMG_20240125_193134812.txt\n",
      "image read : C:\\Users\\nikhi\\Desktop\\Projects\\LLM activity\\LLM test 1\\Florence_2_training_yolo11\\datasets\\images\\IMG_20240125_193138787.jpg \n",
      "width : 4096, height : 2304\n",
      "run example called\n",
      "bboxes : [[2017.2801513671875, 971.135986328125, 2152.447998046875, 1044.864013671875]]\n",
      "label : ['a license plate']\n",
      "save yolo annotations called\n",
      "C:\\Users\\nikhi\\Desktop\\Projects\\LLM activity\\LLM test 1\\Florence_2_training_yolo11\\datasets\\labels\\IMG_20240125_193138787.txt\n",
      "annotations returned path : C:\\Users\\nikhi\\Desktop\\Projects\\LLM activity\\LLM test 1\\Florence_2_training_yolo11\\datasets\\labels\\IMG_20240125_193138787.txt\n",
      "image read : C:\\Users\\nikhi\\Desktop\\Projects\\LLM activity\\LLM test 1\\Florence_2_training_yolo11\\datasets\\images\\IMG_20240125_193142836.jpg \n",
      "width : 4096, height : 2304\n",
      "run example called\n",
      "bboxes : [[2492.416015625, 1203.8399658203125, 2623.488037109375, 1279.8719482421875], [1333.248046875, 1215.3599853515625, 1439.7440185546875, 1293.6959228515625]]\n",
      "label : ['a license plate', 'a license plate']\n",
      "save yolo annotations called\n",
      "C:\\Users\\nikhi\\Desktop\\Projects\\LLM activity\\LLM test 1\\Florence_2_training_yolo11\\datasets\\labels\\IMG_20240125_193142836.txt\n",
      "annotations returned path : C:\\Users\\nikhi\\Desktop\\Projects\\LLM activity\\LLM test 1\\Florence_2_training_yolo11\\datasets\\labels\\IMG_20240125_193142836.txt\n",
      "image read : C:\\Users\\nikhi\\Desktop\\Projects\\LLM activity\\LLM test 1\\Florence_2_training_yolo11\\datasets\\images\\IMG_20240125_193151938_HDR.jpg \n",
      "width : 4096, height : 3072\n",
      "run example called\n",
      "bboxes : [[2549.760009765625, 1485.31201171875, 2701.31201171875, 1574.4000244140625]]\n",
      "label : ['a license plate']\n",
      "save yolo annotations called\n",
      "C:\\Users\\nikhi\\Desktop\\Projects\\LLM activity\\LLM test 1\\Florence_2_training_yolo11\\datasets\\labels\\IMG_20240125_193151938_HDR.txt\n",
      "annotations returned path : C:\\Users\\nikhi\\Desktop\\Projects\\LLM activity\\LLM test 1\\Florence_2_training_yolo11\\datasets\\labels\\IMG_20240125_193151938_HDR.txt\n",
      "image read : C:\\Users\\nikhi\\Desktop\\Projects\\LLM activity\\LLM test 1\\Florence_2_training_yolo11\\datasets\\images\\IMG_20240125_193159066_HDR.jpg \n",
      "width : 4096, height : 3072\n",
      "run example called\n",
      "bboxes : [[1685.5040283203125, 1562.112060546875, 2607.10400390625, 2496.0]]\n",
      "label : ['a license plate']\n",
      "save yolo annotations called\n",
      "C:\\Users\\nikhi\\Desktop\\Projects\\LLM activity\\LLM test 1\\Florence_2_training_yolo11\\datasets\\labels\\IMG_20240125_193159066_HDR.txt\n",
      "annotations returned path : C:\\Users\\nikhi\\Desktop\\Projects\\LLM activity\\LLM test 1\\Florence_2_training_yolo11\\datasets\\labels\\IMG_20240125_193159066_HDR.txt\n",
      "image read : C:\\Users\\nikhi\\Desktop\\Projects\\LLM activity\\LLM test 1\\Florence_2_training_yolo11\\datasets\\images\\IMG_20240125_193202531_HDR.jpg \n",
      "width : 4096, height : 3072\n",
      "run example called\n",
      "bboxes : [[1910.7840576171875, 1135.10400390625, 2033.6640625, 1199.615966796875]]\n",
      "label : ['a license plate']\n",
      "save yolo annotations called\n",
      "C:\\Users\\nikhi\\Desktop\\Projects\\LLM activity\\LLM test 1\\Florence_2_training_yolo11\\datasets\\labels\\IMG_20240125_193202531_HDR.txt\n",
      "annotations returned path : C:\\Users\\nikhi\\Desktop\\Projects\\LLM activity\\LLM test 1\\Florence_2_training_yolo11\\datasets\\labels\\IMG_20240125_193202531_HDR.txt\n",
      "image read : C:\\Users\\nikhi\\Desktop\\Projects\\LLM activity\\LLM test 1\\Florence_2_training_yolo11\\datasets\\images\\IMG_20240125_193204028_HDR.jpg \n",
      "width : 4096, height : 3072\n",
      "run example called\n",
      "bboxes : [[2.0480000972747803, 1906.176025390625, 1169.4080810546875, 3067.39208984375]]\n",
      "label : ['a license plate']\n",
      "save yolo annotations called\n",
      "C:\\Users\\nikhi\\Desktop\\Projects\\LLM activity\\LLM test 1\\Florence_2_training_yolo11\\datasets\\labels\\IMG_20240125_193204028_HDR.txt\n",
      "annotations returned path : C:\\Users\\nikhi\\Desktop\\Projects\\LLM activity\\LLM test 1\\Florence_2_training_yolo11\\datasets\\labels\\IMG_20240125_193204028_HDR.txt\n",
      "image read : C:\\Users\\nikhi\\Desktop\\Projects\\LLM activity\\LLM test 1\\Florence_2_training_yolo11\\datasets\\images\\IMG_20240125_193209883_HDR.jpg \n",
      "width : 4096, height : 3072\n",
      "run example called\n",
      "bboxes : [[1198.080078125, 1273.343994140625, 1320.9600830078125, 1331.7120361328125]]\n",
      "label : ['a license plate']\n",
      "save yolo annotations called\n",
      "C:\\Users\\nikhi\\Desktop\\Projects\\LLM activity\\LLM test 1\\Florence_2_training_yolo11\\datasets\\labels\\IMG_20240125_193209883_HDR.txt\n",
      "annotations returned path : C:\\Users\\nikhi\\Desktop\\Projects\\LLM activity\\LLM test 1\\Florence_2_training_yolo11\\datasets\\labels\\IMG_20240125_193209883_HDR.txt\n",
      "image read : C:\\Users\\nikhi\\Desktop\\Projects\\LLM activity\\LLM test 1\\Florence_2_training_yolo11\\datasets\\images\\IMG_20240125_193224988_HDR.jpg \n",
      "width : 4096, height : 3072\n",
      "run example called\n",
      "bboxes : [[2537.47216796875, 1494.5279541015625, 2668.544189453125, 1580.5440673828125]]\n",
      "label : ['a license plate']\n",
      "save yolo annotations called\n",
      "C:\\Users\\nikhi\\Desktop\\Projects\\LLM activity\\LLM test 1\\Florence_2_training_yolo11\\datasets\\labels\\IMG_20240125_193224988_HDR.txt\n",
      "annotations returned path : C:\\Users\\nikhi\\Desktop\\Projects\\LLM activity\\LLM test 1\\Florence_2_training_yolo11\\datasets\\labels\\IMG_20240125_193224988_HDR.txt\n",
      "image read : C:\\Users\\nikhi\\Desktop\\Projects\\LLM activity\\LLM test 1\\Florence_2_training_yolo11\\datasets\\images\\IMG_20240125_193228838_HDR.jpg \n",
      "width : 4096, height : 3072\n",
      "run example called\n",
      "bboxes : [[2.0480000972747803, 1939.968017578125, 751.6160278320312, 3067.39208984375]]\n",
      "label : ['a license plate']\n",
      "save yolo annotations called\n",
      "C:\\Users\\nikhi\\Desktop\\Projects\\LLM activity\\LLM test 1\\Florence_2_training_yolo11\\datasets\\labels\\IMG_20240125_193228838_HDR.txt\n",
      "annotations returned path : C:\\Users\\nikhi\\Desktop\\Projects\\LLM activity\\LLM test 1\\Florence_2_training_yolo11\\datasets\\labels\\IMG_20240125_193228838_HDR.txt\n",
      "image read : C:\\Users\\nikhi\\Desktop\\Projects\\LLM activity\\LLM test 1\\Florence_2_training_yolo11\\datasets\\images\\IMG_20240125_193234645.jpg \n",
      "width : 4096, height : 3072\n",
      "run example called\n",
      "bboxes : [[2131.968017578125, 2523.64794921875, 2230.272216796875, 2606.592041015625]]\n",
      "label : ['a license plate']\n",
      "save yolo annotations called\n",
      "C:\\Users\\nikhi\\Desktop\\Projects\\LLM activity\\LLM test 1\\Florence_2_training_yolo11\\datasets\\labels\\IMG_20240125_193234645.txt\n",
      "annotations returned path : C:\\Users\\nikhi\\Desktop\\Projects\\LLM activity\\LLM test 1\\Florence_2_training_yolo11\\datasets\\labels\\IMG_20240125_193234645.txt\n",
      "image read : C:\\Users\\nikhi\\Desktop\\Projects\\LLM activity\\LLM test 1\\Florence_2_training_yolo11\\datasets\\images\\IMG_20240125_193454851_HDR.jpg \n",
      "width : 4096, height : 3072\n",
      "run example called\n",
      "bboxes : [[1849.3441162109375, 1752.5760498046875, 1972.22412109375, 1820.1600341796875]]\n",
      "label : ['a license plate']\n",
      "save yolo annotations called\n",
      "C:\\Users\\nikhi\\Desktop\\Projects\\LLM activity\\LLM test 1\\Florence_2_training_yolo11\\datasets\\labels\\IMG_20240125_193454851_HDR.txt\n",
      "annotations returned path : C:\\Users\\nikhi\\Desktop\\Projects\\LLM activity\\LLM test 1\\Florence_2_training_yolo11\\datasets\\labels\\IMG_20240125_193454851_HDR.txt\n",
      "image read : C:\\Users\\nikhi\\Desktop\\Projects\\LLM activity\\LLM test 1\\Florence_2_training_yolo11\\datasets\\images\\IMG_20240125_193459138_HDR.jpg \n",
      "width : 4096, height : 3072\n",
      "run example called\n",
      "bboxes : [[2041.8560791015625, 1516.031982421875, 2193.408203125, 1614.3360595703125]]\n",
      "label : ['a license plate']\n",
      "save yolo annotations called\n",
      "C:\\Users\\nikhi\\Desktop\\Projects\\LLM activity\\LLM test 1\\Florence_2_training_yolo11\\datasets\\labels\\IMG_20240125_193459138_HDR.txt\n",
      "annotations returned path : C:\\Users\\nikhi\\Desktop\\Projects\\LLM activity\\LLM test 1\\Florence_2_training_yolo11\\datasets\\labels\\IMG_20240125_193459138_HDR.txt\n",
      "image read : C:\\Users\\nikhi\\Desktop\\Projects\\LLM activity\\LLM test 1\\Florence_2_training_yolo11\\datasets\\images\\IMG_20240125_193502857_HDR.jpg \n",
      "width : 4096, height : 3072\n",
      "run example called\n",
      "bboxes : [[1861.632080078125, 1377.7919921875, 2013.18408203125, 1473.0240478515625]]\n",
      "label : ['a license plate']\n",
      "save yolo annotations called\n",
      "C:\\Users\\nikhi\\Desktop\\Projects\\LLM activity\\LLM test 1\\Florence_2_training_yolo11\\datasets\\labels\\IMG_20240125_193502857_HDR.txt\n",
      "annotations returned path : C:\\Users\\nikhi\\Desktop\\Projects\\LLM activity\\LLM test 1\\Florence_2_training_yolo11\\datasets\\labels\\IMG_20240125_193502857_HDR.txt\n",
      "image read : C:\\Users\\nikhi\\Desktop\\Projects\\LLM activity\\LLM test 1\\Florence_2_training_yolo11\\datasets\\images\\IMG_20240125_193508505_HDR.jpg \n",
      "width : 4096, height : 3072\n",
      "run example called\n",
      "bboxes : [[2201.60009765625, 1688.06396484375, 2308.09619140625, 1814.0159912109375]]\n",
      "label : ['a license plate']\n",
      "save yolo annotations called\n",
      "C:\\Users\\nikhi\\Desktop\\Projects\\LLM activity\\LLM test 1\\Florence_2_training_yolo11\\datasets\\labels\\IMG_20240125_193508505_HDR.txt\n",
      "annotations returned path : C:\\Users\\nikhi\\Desktop\\Projects\\LLM activity\\LLM test 1\\Florence_2_training_yolo11\\datasets\\labels\\IMG_20240125_193508505_HDR.txt\n",
      "image read : C:\\Users\\nikhi\\Desktop\\Projects\\LLM activity\\LLM test 1\\Florence_2_training_yolo11\\datasets\\images\\IMG_20240125_193519129_HDR.jpg \n",
      "width : 4096, height : 3072\n",
      "run example called\n",
      "bboxes : [[2086.912109375, 1525.248046875, 2189.31201171875, 1595.904052734375]]\n",
      "label : ['a license plate']\n",
      "save yolo annotations called\n",
      "C:\\Users\\nikhi\\Desktop\\Projects\\LLM activity\\LLM test 1\\Florence_2_training_yolo11\\datasets\\labels\\IMG_20240125_193519129_HDR.txt\n",
      "annotations returned path : C:\\Users\\nikhi\\Desktop\\Projects\\LLM activity\\LLM test 1\\Florence_2_training_yolo11\\datasets\\labels\\IMG_20240125_193519129_HDR.txt\n",
      "image read : C:\\Users\\nikhi\\Desktop\\Projects\\LLM activity\\LLM test 1\\Florence_2_training_yolo11\\datasets\\images\\IMG_20240125_193523385_HDR.jpg \n",
      "width : 4096, height : 3072\n",
      "run example called\n",
      "bboxes : [[813.0560302734375, 1331.7120361328125, 1992.7041015625, 2062.847900390625]]\n",
      "label : ['a license plate']\n",
      "save yolo annotations called\n",
      "C:\\Users\\nikhi\\Desktop\\Projects\\LLM activity\\LLM test 1\\Florence_2_training_yolo11\\datasets\\labels\\IMG_20240125_193523385_HDR.txt\n",
      "annotations returned path : C:\\Users\\nikhi\\Desktop\\Projects\\LLM activity\\LLM test 1\\Florence_2_training_yolo11\\datasets\\labels\\IMG_20240125_193523385_HDR.txt\n",
      "image read : C:\\Users\\nikhi\\Desktop\\Projects\\LLM activity\\LLM test 1\\Florence_2_training_yolo11\\datasets\\images\\sddefault.jpg \n",
      "width : 640, height : 480\n",
      "run example called\n",
      "bboxes : [[173.75999450683594, 235.9199981689453, 245.4399871826172, 268.0799865722656]]\n",
      "label : ['a license plate']\n",
      "save yolo annotations called\n",
      "C:\\Users\\nikhi\\Desktop\\Projects\\LLM activity\\LLM test 1\\Florence_2_training_yolo11\\datasets\\labels\\sddefault.txt\n",
      "annotations returned path : C:\\Users\\nikhi\\Desktop\\Projects\\LLM activity\\LLM test 1\\Florence_2_training_yolo11\\datasets\\labels\\sddefault.txt\n",
      "image read : C:\\Users\\nikhi\\Desktop\\Projects\\LLM activity\\LLM test 1\\Florence_2_training_yolo11\\datasets\\images\\swaraj-744-fe-9852-1589715670-1old.jpg \n",
      "width : 418, height : 500\n",
      "run example called\n",
      "bboxes : [[167.4090118408203, 379.25, 230.1090087890625, 417.25]]\n",
      "label : ['a license plate']\n",
      "save yolo annotations called\n",
      "C:\\Users\\nikhi\\Desktop\\Projects\\LLM activity\\LLM test 1\\Florence_2_training_yolo11\\datasets\\labels\\swaraj-744-fe-9852-1589715670-1old.txt\n",
      "annotations returned path : C:\\Users\\nikhi\\Desktop\\Projects\\LLM activity\\LLM test 1\\Florence_2_training_yolo11\\datasets\\labels\\swaraj-744-fe-9852-1589715670-1old.txt\n",
      "image read : C:\\Users\\nikhi\\Desktop\\Projects\\LLM activity\\LLM test 1\\Florence_2_training_yolo11\\datasets\\images\\typical-indian-truck-rajasthan-india-2BB72RE.jpg \n",
      "width : 948, height : 1390\n",
      "run example called\n",
      "bboxes : [[401.4779968261719, 1020.9550170898438, 537.0419921875, 1087.675048828125]]\n",
      "label : ['a license plate']\n",
      "save yolo annotations called\n",
      "C:\\Users\\nikhi\\Desktop\\Projects\\LLM activity\\LLM test 1\\Florence_2_training_yolo11\\datasets\\labels\\typical-indian-truck-rajasthan-india-2BB72RE.txt\n",
      "annotations returned path : C:\\Users\\nikhi\\Desktop\\Projects\\LLM activity\\LLM test 1\\Florence_2_training_yolo11\\datasets\\labels\\typical-indian-truck-rajasthan-india-2BB72RE.txt\n",
      "image read : C:\\Users\\nikhi\\Desktop\\Projects\\LLM activity\\LLM test 1\\Florence_2_training_yolo11\\datasets\\images\\w36GOcuCpTuy0xLY3tX0odHfjQfbOrizAsfQZ9eo.jpg \n",
      "width : 585, height : 1040\n",
      "run example called\n",
      "bboxes : [[9.652499198913574, 297.9599914550781, 143.03250122070312, 443.55999755859375]]\n",
      "label : ['a license plate']\n",
      "save yolo annotations called\n",
      "C:\\Users\\nikhi\\Desktop\\Projects\\LLM activity\\LLM test 1\\Florence_2_training_yolo11\\datasets\\labels\\w36GOcuCpTuy0xLY3tX0odHfjQfbOrizAsfQZ9eo.txt\n",
      "annotations returned path : C:\\Users\\nikhi\\Desktop\\Projects\\LLM activity\\LLM test 1\\Florence_2_training_yolo11\\datasets\\labels\\w36GOcuCpTuy0xLY3tX0odHfjQfbOrizAsfQZ9eo.txt\n"
     ]
    },
    {
     "data": {
      "text/plain": [
       "True"
      ]
     },
     "execution_count": 5,
     "metadata": {},
     "output_type": "execute_result"
    }
   ],
   "source": [
    "run_annotaion_tool(data_path,task_prompt,text_input,model_id)"
   ]
  },
  {
   "cell_type": "code",
   "execution_count": 6,
   "metadata": {},
   "outputs": [
    {
     "name": "stdout",
     "output_type": "stream",
     "text": [
      "Number of Images is 124 and Labels is 60\n",
      "New https://pypi.org/project/ultralytics/8.3.13 available  Update with 'pip install -U ultralytics'\n",
      "Ultralytics 8.3.12  Python-3.12.5 torch-2.4.1+cu124 CUDA:0 (NVIDIA GeForce RTX 4060 Laptop GPU, 8188MiB)\n",
      "\u001b[34m\u001b[1mengine\\trainer: \u001b[0mtask=detect, mode=train, model=yolo11n.pt, data=coco8.yaml, epochs=100, time=None, patience=100, batch=16, imgsz=640, save=True, save_period=-1, cache=False, device=None, workers=8, project=None, name=train2, exist_ok=False, pretrained=True, optimizer=auto, verbose=True, seed=0, deterministic=True, single_cls=False, rect=False, cos_lr=False, close_mosaic=10, resume=False, amp=True, fraction=1.0, profile=False, freeze=None, multi_scale=False, overlap_mask=True, mask_ratio=4, dropout=0.0, val=True, split=val, save_json=False, save_hybrid=False, conf=None, iou=0.7, max_det=300, half=False, dnn=False, plots=True, source=None, vid_stride=1, stream_buffer=False, visualize=False, augment=False, agnostic_nms=False, classes=None, retina_masks=False, embed=None, show=False, save_frames=False, save_txt=False, save_conf=False, save_crop=False, show_labels=True, show_conf=True, show_boxes=True, line_width=None, format=torchscript, keras=False, optimize=False, int8=False, dynamic=False, simplify=True, opset=None, workspace=4, nms=False, lr0=0.01, lrf=0.01, momentum=0.937, weight_decay=0.0005, warmup_epochs=3.0, warmup_momentum=0.8, warmup_bias_lr=0.1, box=7.5, cls=0.5, dfl=1.5, pose=12.0, kobj=1.0, label_smoothing=0.0, nbs=64, hsv_h=0.015, hsv_s=0.7, hsv_v=0.4, degrees=0.0, translate=0.1, scale=0.5, shear=0.0, perspective=0.0, flipud=0.0, fliplr=0.5, bgr=0.0, mosaic=1.0, mixup=0.0, copy_paste=0.0, copy_paste_mode=flip, auto_augment=randaugment, erasing=0.4, crop_fraction=1.0, cfg=None, tracker=botsort.yaml, save_dir=runs\\detect\\train2\n",
      "Overriding model.yaml nc=80 with nc=1\n",
      "\n",
      "                   from  n    params  module                                       arguments                     \n",
      "  0                  -1  1       464  ultralytics.nn.modules.conv.Conv             [3, 16, 3, 2]                 \n",
      "  1                  -1  1      4672  ultralytics.nn.modules.conv.Conv             [16, 32, 3, 2]                \n",
      "  2                  -1  1      6640  ultralytics.nn.modules.block.C3k2            [32, 64, 1, False, 0.25]      \n",
      "  3                  -1  1     36992  ultralytics.nn.modules.conv.Conv             [64, 64, 3, 2]                \n",
      "  4                  -1  1     26080  ultralytics.nn.modules.block.C3k2            [64, 128, 1, False, 0.25]     \n",
      "  5                  -1  1    147712  ultralytics.nn.modules.conv.Conv             [128, 128, 3, 2]              \n",
      "  6                  -1  1     87040  ultralytics.nn.modules.block.C3k2            [128, 128, 1, True]           \n",
      "  7                  -1  1    295424  ultralytics.nn.modules.conv.Conv             [128, 256, 3, 2]              \n",
      "  8                  -1  1    346112  ultralytics.nn.modules.block.C3k2            [256, 256, 1, True]           \n",
      "  9                  -1  1    164608  ultralytics.nn.modules.block.SPPF            [256, 256, 5]                 \n",
      " 10                  -1  1    249728  ultralytics.nn.modules.block.C2PSA           [256, 256, 1]                 \n",
      " 11                  -1  1         0  torch.nn.modules.upsampling.Upsample         [None, 2, 'nearest']          \n",
      " 12             [-1, 6]  1         0  ultralytics.nn.modules.conv.Concat           [1]                           \n",
      " 13                  -1  1    111296  ultralytics.nn.modules.block.C3k2            [384, 128, 1, False]          \n",
      " 14                  -1  1         0  torch.nn.modules.upsampling.Upsample         [None, 2, 'nearest']          \n",
      " 15             [-1, 4]  1         0  ultralytics.nn.modules.conv.Concat           [1]                           \n",
      " 16                  -1  1     32096  ultralytics.nn.modules.block.C3k2            [256, 64, 1, False]           \n",
      " 17                  -1  1     36992  ultralytics.nn.modules.conv.Conv             [64, 64, 3, 2]                \n",
      " 18            [-1, 13]  1         0  ultralytics.nn.modules.conv.Concat           [1]                           \n",
      " 19                  -1  1     86720  ultralytics.nn.modules.block.C3k2            [192, 128, 1, False]          \n",
      " 20                  -1  1    147712  ultralytics.nn.modules.conv.Conv             [128, 128, 3, 2]              \n",
      " 21            [-1, 10]  1         0  ultralytics.nn.modules.conv.Concat           [1]                           \n",
      " 22                  -1  1    378880  ultralytics.nn.modules.block.C3k2            [384, 256, 1, True]           \n",
      " 23        [16, 19, 22]  1    430867  ultralytics.nn.modules.head.Detect           [1, [64, 128, 256]]           \n",
      "YOLO11n summary: 319 layers, 2,590,035 parameters, 2,590,019 gradients, 6.4 GFLOPs\n",
      "\n",
      "Transferred 448/499 items from pretrained weights\n",
      "Freezing layer 'model.23.dfl.conv.weight'\n",
      "\u001b[34m\u001b[1mAMP: \u001b[0mrunning Automatic Mixed Precision (AMP) checks with YOLO11n...\n",
      "\u001b[34m\u001b[1mAMP: \u001b[0mchecks passed \n"
     ]
    },
    {
     "name": "stderr",
     "output_type": "stream",
     "text": [
      "\u001b[34m\u001b[1mtrain: \u001b[0mScanning C:\\Users\\nikhi\\Desktop\\Projects\\LLM activity\\LLM test 1\\Florence_2_training_yolo11\\datasets\\train\\labels... 56 images, 0 backgrounds, 0 corrupt: 100%|██████████| 56/56 [00:00<00:00, 1700.13it/s]"
     ]
    },
    {
     "name": "stdout",
     "output_type": "stream",
     "text": [
      "\u001b[34m\u001b[1mtrain: \u001b[0mNew cache created: C:\\Users\\nikhi\\Desktop\\Projects\\LLM activity\\LLM test 1\\Florence_2_training_yolo11\\datasets\\train\\labels.cache\n"
     ]
    },
    {
     "name": "stderr",
     "output_type": "stream",
     "text": [
      "\n",
      "\u001b[34m\u001b[1mval: \u001b[0mScanning C:\\Users\\nikhi\\Desktop\\Projects\\LLM activity\\LLM test 1\\Florence_2_training_yolo11\\datasets\\valid\\labels... 22 images, 0 backgrounds, 0 corrupt: 100%|██████████| 22/22 [00:00<00:00, 1222.13it/s]"
     ]
    },
    {
     "name": "stdout",
     "output_type": "stream",
     "text": [
      "\u001b[34m\u001b[1mval: \u001b[0mNew cache created: C:\\Users\\nikhi\\Desktop\\Projects\\LLM activity\\LLM test 1\\Florence_2_training_yolo11\\datasets\\valid\\labels.cache\n"
     ]
    },
    {
     "name": "stderr",
     "output_type": "stream",
     "text": [
      "\n"
     ]
    },
    {
     "name": "stdout",
     "output_type": "stream",
     "text": [
      "Plotting labels to runs\\detect\\train2\\labels.jpg... \n",
      "\u001b[34m\u001b[1moptimizer:\u001b[0m 'optimizer=auto' found, ignoring 'lr0=0.01' and 'momentum=0.937' and determining best 'optimizer', 'lr0' and 'momentum' automatically... \n",
      "\u001b[34m\u001b[1moptimizer:\u001b[0m AdamW(lr=0.002, momentum=0.9) with parameter groups 81 weight(decay=0.0), 88 weight(decay=0.0005), 87 bias(decay=0.0)\n",
      "Image sizes 640 train, 640 val\n",
      "Using 8 dataloader workers\n",
      "Logging results to \u001b[1mruns\\detect\\train2\u001b[0m\n",
      "Starting training for 100 epochs...\n",
      "\n",
      "      Epoch    GPU_mem   box_loss   cls_loss   dfl_loss  Instances       Size\n"
     ]
    },
    {
     "name": "stderr",
     "output_type": "stream",
     "text": [
      "      1/100      5.26G     0.9588      3.982      1.301         15        640: 100%|██████████| 4/4 [00:22<00:00,  5.60s/it]\n",
      "                 Class     Images  Instances      Box(P          R      mAP50  mAP50-95): 100%|██████████| 1/1 [00:16<00:00, 16.57s/it]"
     ]
    },
    {
     "name": "stdout",
     "output_type": "stream",
     "text": [
      "                   all         22         25    0.00106       0.28     0.0295    0.00946\n"
     ]
    },
    {
     "name": "stderr",
     "output_type": "stream",
     "text": [
      "\n"
     ]
    },
    {
     "name": "stdout",
     "output_type": "stream",
     "text": [
      "\n",
      "      Epoch    GPU_mem   box_loss   cls_loss   dfl_loss  Instances       Size\n"
     ]
    },
    {
     "name": "stderr",
     "output_type": "stream",
     "text": [
      "      2/100      2.46G      1.021      4.138      1.263         17        640: 100%|██████████| 4/4 [00:06<00:00,  1.70s/it]\n",
      "                 Class     Images  Instances      Box(P          R      mAP50  mAP50-95): 100%|██████████| 1/1 [00:00<00:00,  3.40it/s]"
     ]
    },
    {
     "name": "stdout",
     "output_type": "stream",
     "text": [
      "                   all         22         25    0.00136       0.36     0.0833     0.0307\n"
     ]
    },
    {
     "name": "stderr",
     "output_type": "stream",
     "text": [
      "\n"
     ]
    },
    {
     "name": "stdout",
     "output_type": "stream",
     "text": [
      "\n",
      "      Epoch    GPU_mem   box_loss   cls_loss   dfl_loss  Instances       Size\n"
     ]
    },
    {
     "name": "stderr",
     "output_type": "stream",
     "text": [
      "      3/100      2.48G      0.707      3.304      1.001         19        640: 100%|██████████| 4/4 [00:01<00:00,  3.44it/s]\n",
      "                 Class     Images  Instances      Box(P          R      mAP50  mAP50-95): 100%|██████████| 1/1 [00:00<00:00,  5.47it/s]"
     ]
    },
    {
     "name": "stdout",
     "output_type": "stream",
     "text": [
      "                   all         22         25    0.00273       0.72      0.225       0.16\n"
     ]
    },
    {
     "name": "stderr",
     "output_type": "stream",
     "text": [
      "\n"
     ]
    },
    {
     "name": "stdout",
     "output_type": "stream",
     "text": [
      "\n",
      "      Epoch    GPU_mem   box_loss   cls_loss   dfl_loss  Instances       Size\n"
     ]
    },
    {
     "name": "stderr",
     "output_type": "stream",
     "text": [
      "      4/100      2.47G     0.9501      3.257      1.013         16        640: 100%|██████████| 4/4 [00:00<00:00,  5.54it/s]\n",
      "                 Class     Images  Instances      Box(P          R      mAP50  mAP50-95): 100%|██████████| 1/1 [00:00<00:00,  7.31it/s]"
     ]
    },
    {
     "name": "stdout",
     "output_type": "stream",
     "text": [
      "                   all         22         25    0.00273       0.72      0.387      0.242\n"
     ]
    },
    {
     "name": "stderr",
     "output_type": "stream",
     "text": [
      "\n"
     ]
    },
    {
     "name": "stdout",
     "output_type": "stream",
     "text": [
      "\n",
      "      Epoch    GPU_mem   box_loss   cls_loss   dfl_loss  Instances       Size\n"
     ]
    },
    {
     "name": "stderr",
     "output_type": "stream",
     "text": [
      "      5/100      2.47G     0.8684      2.842     0.9637         11        640: 100%|██████████| 4/4 [00:00<00:00,  6.53it/s]\n",
      "                 Class     Images  Instances      Box(P          R      mAP50  mAP50-95): 100%|██████████| 1/1 [00:00<00:00,  6.70it/s]"
     ]
    },
    {
     "name": "stdout",
     "output_type": "stream",
     "text": [
      "                   all         22         25    0.00288       0.76      0.417      0.242\n"
     ]
    },
    {
     "name": "stderr",
     "output_type": "stream",
     "text": [
      "\n"
     ]
    },
    {
     "name": "stdout",
     "output_type": "stream",
     "text": [
      "\n",
      "      Epoch    GPU_mem   box_loss   cls_loss   dfl_loss  Instances       Size\n"
     ]
    },
    {
     "name": "stderr",
     "output_type": "stream",
     "text": [
      "      6/100      2.47G     0.9911       2.55      1.047         22        640: 100%|██████████| 4/4 [00:00<00:00,  6.73it/s]\n",
      "                 Class     Images  Instances      Box(P          R      mAP50  mAP50-95): 100%|██████████| 1/1 [00:00<00:00,  6.82it/s]"
     ]
    },
    {
     "name": "stdout",
     "output_type": "stream",
     "text": [
      "                   all         22         25    0.00288       0.76      0.473        0.3\n"
     ]
    },
    {
     "name": "stderr",
     "output_type": "stream",
     "text": [
      "\n"
     ]
    },
    {
     "name": "stdout",
     "output_type": "stream",
     "text": [
      "\n",
      "      Epoch    GPU_mem   box_loss   cls_loss   dfl_loss  Instances       Size\n"
     ]
    },
    {
     "name": "stderr",
     "output_type": "stream",
     "text": [
      "      7/100      2.47G     0.9841      2.507      1.059         17        640: 100%|██████████| 4/4 [00:00<00:00,  6.64it/s]\n",
      "                 Class     Images  Instances      Box(P          R      mAP50  mAP50-95): 100%|██████████| 1/1 [00:00<00:00,  6.62it/s]"
     ]
    },
    {
     "name": "stdout",
     "output_type": "stream",
     "text": [
      "                   all         22         25    0.00288       0.76      0.408      0.272\n"
     ]
    },
    {
     "name": "stderr",
     "output_type": "stream",
     "text": [
      "\n"
     ]
    },
    {
     "name": "stdout",
     "output_type": "stream",
     "text": [
      "\n",
      "      Epoch    GPU_mem   box_loss   cls_loss   dfl_loss  Instances       Size\n"
     ]
    },
    {
     "name": "stderr",
     "output_type": "stream",
     "text": [
      "      8/100      2.47G     0.8498      2.197     0.9757         20        640: 100%|██████████| 4/4 [00:00<00:00,  6.80it/s]\n",
      "                 Class     Images  Instances      Box(P          R      mAP50  mAP50-95): 100%|██████████| 1/1 [00:00<00:00,  7.00it/s]"
     ]
    },
    {
     "name": "stdout",
     "output_type": "stream",
     "text": [
      "                   all         22         25      0.244       0.04      0.103     0.0671\n"
     ]
    },
    {
     "name": "stderr",
     "output_type": "stream",
     "text": [
      "\n"
     ]
    },
    {
     "name": "stdout",
     "output_type": "stream",
     "text": [
      "\n",
      "      Epoch    GPU_mem   box_loss   cls_loss   dfl_loss  Instances       Size\n"
     ]
    },
    {
     "name": "stderr",
     "output_type": "stream",
     "text": [
      "      9/100      2.47G     0.8559      2.054     0.9702         15        640: 100%|██████████| 4/4 [00:00<00:00,  6.76it/s]\n",
      "                 Class     Images  Instances      Box(P          R      mAP50  mAP50-95): 100%|██████████| 1/1 [00:00<00:00,  7.27it/s]"
     ]
    },
    {
     "name": "stdout",
     "output_type": "stream",
     "text": [
      "                   all         22         25      0.835      0.203      0.343      0.262\n"
     ]
    },
    {
     "name": "stderr",
     "output_type": "stream",
     "text": [
      "\n"
     ]
    },
    {
     "name": "stdout",
     "output_type": "stream",
     "text": [
      "\n",
      "      Epoch    GPU_mem   box_loss   cls_loss   dfl_loss  Instances       Size\n"
     ]
    },
    {
     "name": "stderr",
     "output_type": "stream",
     "text": [
      "     10/100      2.48G      0.948      2.128      1.036         13        640: 100%|██████████| 4/4 [00:01<00:00,  2.24it/s]\n",
      "                 Class     Images  Instances      Box(P          R      mAP50  mAP50-95): 100%|██████████| 1/1 [00:00<00:00,  2.44it/s]"
     ]
    },
    {
     "name": "stdout",
     "output_type": "stream",
     "text": [
      "                   all         22         25      0.534      0.185      0.296      0.197\n"
     ]
    },
    {
     "name": "stderr",
     "output_type": "stream",
     "text": [
      "\n"
     ]
    },
    {
     "name": "stdout",
     "output_type": "stream",
     "text": [
      "\n",
      "      Epoch    GPU_mem   box_loss   cls_loss   dfl_loss  Instances       Size\n"
     ]
    },
    {
     "name": "stderr",
     "output_type": "stream",
     "text": [
      "     11/100      2.48G     0.9571      2.348      1.037         14        640: 100%|██████████| 4/4 [00:01<00:00,  2.29it/s]\n",
      "                 Class     Images  Instances      Box(P          R      mAP50  mAP50-95): 100%|██████████| 1/1 [00:00<00:00,  2.81it/s]"
     ]
    },
    {
     "name": "stdout",
     "output_type": "stream",
     "text": [
      "                   all         22         25      0.805       0.16      0.307      0.219\n"
     ]
    },
    {
     "name": "stderr",
     "output_type": "stream",
     "text": [
      "\n"
     ]
    },
    {
     "name": "stdout",
     "output_type": "stream",
     "text": [
      "\n",
      "      Epoch    GPU_mem   box_loss   cls_loss   dfl_loss  Instances       Size\n"
     ]
    },
    {
     "name": "stderr",
     "output_type": "stream",
     "text": [
      "     12/100      2.47G      1.015      2.154      1.056         18        640: 100%|██████████| 4/4 [00:01<00:00,  2.48it/s]\n",
      "                 Class     Images  Instances      Box(P          R      mAP50  mAP50-95): 100%|██████████| 1/1 [00:00<00:00,  1.93it/s]"
     ]
    },
    {
     "name": "stdout",
     "output_type": "stream",
     "text": [
      "                   all         22         25      0.666       0.16      0.241      0.173\n"
     ]
    },
    {
     "name": "stderr",
     "output_type": "stream",
     "text": [
      "\n"
     ]
    },
    {
     "name": "stdout",
     "output_type": "stream",
     "text": [
      "\n",
      "      Epoch    GPU_mem   box_loss   cls_loss   dfl_loss  Instances       Size\n"
     ]
    },
    {
     "name": "stderr",
     "output_type": "stream",
     "text": [
      "     13/100      2.47G     0.8771      2.018      1.036         19        640: 100%|██████████| 4/4 [00:02<00:00,  1.98it/s]\n",
      "                 Class     Images  Instances      Box(P          R      mAP50  mAP50-95): 100%|██████████| 1/1 [00:00<00:00,  2.26it/s]"
     ]
    },
    {
     "name": "stdout",
     "output_type": "stream",
     "text": [
      "                   all         22         25      0.332       0.08      0.138     0.0875\n"
     ]
    },
    {
     "name": "stderr",
     "output_type": "stream",
     "text": [
      "\n"
     ]
    },
    {
     "name": "stdout",
     "output_type": "stream",
     "text": [
      "\n",
      "      Epoch    GPU_mem   box_loss   cls_loss   dfl_loss  Instances       Size\n"
     ]
    },
    {
     "name": "stderr",
     "output_type": "stream",
     "text": [
      "     14/100      2.48G     0.9624      2.045      1.019         19        640: 100%|██████████| 4/4 [00:00<00:00,  4.05it/s]\n",
      "                 Class     Images  Instances      Box(P          R      mAP50  mAP50-95): 100%|██████████| 1/1 [00:00<00:00,  3.84it/s]"
     ]
    },
    {
     "name": "stdout",
     "output_type": "stream",
     "text": [
      "                   all         22         25      0.116       0.04      0.134     0.0778\n"
     ]
    },
    {
     "name": "stderr",
     "output_type": "stream",
     "text": [
      "\n"
     ]
    },
    {
     "name": "stdout",
     "output_type": "stream",
     "text": [
      "\n",
      "      Epoch    GPU_mem   box_loss   cls_loss   dfl_loss  Instances       Size\n"
     ]
    },
    {
     "name": "stderr",
     "output_type": "stream",
     "text": [
      "     15/100      2.48G     0.9736      2.209      1.076         12        640: 100%|██████████| 4/4 [00:01<00:00,  2.28it/s]\n",
      "                 Class     Images  Instances      Box(P          R      mAP50  mAP50-95): 100%|██████████| 1/1 [00:00<00:00,  2.67it/s]"
     ]
    },
    {
     "name": "stdout",
     "output_type": "stream",
     "text": [
      "                   all         22         25      0.483     0.0759      0.302      0.212\n"
     ]
    },
    {
     "name": "stderr",
     "output_type": "stream",
     "text": [
      "\n"
     ]
    },
    {
     "name": "stdout",
     "output_type": "stream",
     "text": [
      "\n",
      "      Epoch    GPU_mem   box_loss   cls_loss   dfl_loss  Instances       Size\n"
     ]
    },
    {
     "name": "stderr",
     "output_type": "stream",
     "text": [
      "     16/100      2.48G      1.055      1.962      1.117         16        640: 100%|██████████| 4/4 [00:02<00:00,  1.62it/s]\n",
      "                 Class     Images  Instances      Box(P          R      mAP50  mAP50-95): 100%|██████████| 1/1 [00:00<00:00,  2.88it/s]"
     ]
    },
    {
     "name": "stdout",
     "output_type": "stream",
     "text": [
      "                   all         22         25      0.494     0.0785       0.26      0.157\n"
     ]
    },
    {
     "name": "stderr",
     "output_type": "stream",
     "text": [
      "\n"
     ]
    },
    {
     "name": "stdout",
     "output_type": "stream",
     "text": [
      "\n",
      "      Epoch    GPU_mem   box_loss   cls_loss   dfl_loss  Instances       Size\n"
     ]
    },
    {
     "name": "stderr",
     "output_type": "stream",
     "text": [
      "     17/100      2.48G      1.033      1.903      1.142         17        640: 100%|██████████| 4/4 [00:02<00:00,  1.83it/s]\n",
      "                 Class     Images  Instances      Box(P          R      mAP50  mAP50-95): 100%|██████████| 1/1 [00:00<00:00,  2.04it/s]"
     ]
    },
    {
     "name": "stdout",
     "output_type": "stream",
     "text": [
      "                   all         22         25      0.566       0.08       0.21      0.146\n"
     ]
    },
    {
     "name": "stderr",
     "output_type": "stream",
     "text": [
      "\n"
     ]
    },
    {
     "name": "stdout",
     "output_type": "stream",
     "text": [
      "\n",
      "      Epoch    GPU_mem   box_loss   cls_loss   dfl_loss  Instances       Size\n"
     ]
    },
    {
     "name": "stderr",
     "output_type": "stream",
     "text": [
      "     18/100      2.48G     0.8871      1.828      1.064         17        640: 100%|██████████| 4/4 [00:01<00:00,  2.02it/s]\n",
      "                 Class     Images  Instances      Box(P          R      mAP50  mAP50-95): 100%|██████████| 1/1 [00:00<00:00,  2.71it/s]"
     ]
    },
    {
     "name": "stdout",
     "output_type": "stream",
     "text": [
      "                   all         22         25      0.628       0.32      0.365      0.255\n"
     ]
    },
    {
     "name": "stderr",
     "output_type": "stream",
     "text": [
      "\n"
     ]
    },
    {
     "name": "stdout",
     "output_type": "stream",
     "text": [
      "\n",
      "      Epoch    GPU_mem   box_loss   cls_loss   dfl_loss  Instances       Size\n"
     ]
    },
    {
     "name": "stderr",
     "output_type": "stream",
     "text": [
      "     19/100      2.47G     0.9155      1.869      1.047         16        640: 100%|██████████| 4/4 [00:02<00:00,  1.79it/s]\n",
      "                 Class     Images  Instances      Box(P          R      mAP50  mAP50-95): 100%|██████████| 1/1 [00:00<00:00,  2.73it/s]"
     ]
    },
    {
     "name": "stdout",
     "output_type": "stream",
     "text": [
      "                   all         22         25      0.584       0.44      0.411      0.263\n"
     ]
    },
    {
     "name": "stderr",
     "output_type": "stream",
     "text": [
      "\n"
     ]
    },
    {
     "name": "stdout",
     "output_type": "stream",
     "text": [
      "\n",
      "      Epoch    GPU_mem   box_loss   cls_loss   dfl_loss  Instances       Size\n"
     ]
    },
    {
     "name": "stderr",
     "output_type": "stream",
     "text": [
      "     20/100      2.48G     0.9144      1.935      1.042         17        640: 100%|██████████| 4/4 [00:01<00:00,  2.60it/s]\n",
      "                 Class     Images  Instances      Box(P          R      mAP50  mAP50-95): 100%|██████████| 1/1 [00:00<00:00,  2.18it/s]"
     ]
    },
    {
     "name": "stdout",
     "output_type": "stream",
     "text": [
      "                   all         22         25      0.331        0.4      0.179       0.12\n"
     ]
    },
    {
     "name": "stderr",
     "output_type": "stream",
     "text": [
      "\n"
     ]
    },
    {
     "name": "stdout",
     "output_type": "stream",
     "text": [
      "\n",
      "      Epoch    GPU_mem   box_loss   cls_loss   dfl_loss  Instances       Size\n"
     ]
    },
    {
     "name": "stderr",
     "output_type": "stream",
     "text": [
      "     21/100      2.48G     0.9724       1.89      1.092         18        640: 100%|██████████| 4/4 [00:02<00:00,  1.87it/s]\n",
      "                 Class     Images  Instances      Box(P          R      mAP50  mAP50-95): 100%|██████████| 1/1 [00:00<00:00,  2.53it/s]"
     ]
    },
    {
     "name": "stdout",
     "output_type": "stream",
     "text": [
      "                   all         22         25      0.103        0.2     0.0885     0.0583\n"
     ]
    },
    {
     "name": "stderr",
     "output_type": "stream",
     "text": [
      "\n"
     ]
    },
    {
     "name": "stdout",
     "output_type": "stream",
     "text": [
      "\n",
      "      Epoch    GPU_mem   box_loss   cls_loss   dfl_loss  Instances       Size\n"
     ]
    },
    {
     "name": "stderr",
     "output_type": "stream",
     "text": [
      "     22/100      2.48G     0.9932      1.848      1.065         13        640: 100%|██████████| 4/4 [00:02<00:00,  1.95it/s]\n",
      "                 Class     Images  Instances      Box(P          R      mAP50  mAP50-95): 100%|██████████| 1/1 [00:00<00:00,  1.61it/s]"
     ]
    },
    {
     "name": "stdout",
     "output_type": "stream",
     "text": [
      "                   all         22         25      0.319       0.36      0.208      0.141\n"
     ]
    },
    {
     "name": "stderr",
     "output_type": "stream",
     "text": [
      "\n"
     ]
    },
    {
     "name": "stdout",
     "output_type": "stream",
     "text": [
      "\n",
      "      Epoch    GPU_mem   box_loss   cls_loss   dfl_loss  Instances       Size\n"
     ]
    },
    {
     "name": "stderr",
     "output_type": "stream",
     "text": [
      "     23/100      2.48G      0.941      1.794       1.07         17        640: 100%|██████████| 4/4 [00:01<00:00,  2.80it/s]\n",
      "                 Class     Images  Instances      Box(P          R      mAP50  mAP50-95): 100%|██████████| 1/1 [00:00<00:00,  2.84it/s]"
     ]
    },
    {
     "name": "stdout",
     "output_type": "stream",
     "text": [
      "                   all         22         25      0.478       0.32      0.314      0.198\n"
     ]
    },
    {
     "name": "stderr",
     "output_type": "stream",
     "text": [
      "\n"
     ]
    },
    {
     "name": "stdout",
     "output_type": "stream",
     "text": [
      "\n",
      "      Epoch    GPU_mem   box_loss   cls_loss   dfl_loss  Instances       Size\n"
     ]
    },
    {
     "name": "stderr",
     "output_type": "stream",
     "text": [
      "     24/100      2.48G       1.03        1.8      1.102         17        640: 100%|██████████| 4/4 [00:01<00:00,  2.94it/s]\n",
      "                 Class     Images  Instances      Box(P          R      mAP50  mAP50-95): 100%|██████████| 1/1 [00:00<00:00,  2.59it/s]"
     ]
    },
    {
     "name": "stdout",
     "output_type": "stream",
     "text": [
      "                   all         22         25      0.402       0.35      0.328      0.223\n"
     ]
    },
    {
     "name": "stderr",
     "output_type": "stream",
     "text": [
      "\n"
     ]
    },
    {
     "name": "stdout",
     "output_type": "stream",
     "text": [
      "\n",
      "      Epoch    GPU_mem   box_loss   cls_loss   dfl_loss  Instances       Size\n"
     ]
    },
    {
     "name": "stderr",
     "output_type": "stream",
     "text": [
      "     25/100      2.48G     0.9084      1.719     0.9944         18        640: 100%|██████████| 4/4 [00:01<00:00,  2.27it/s]\n",
      "                 Class     Images  Instances      Box(P          R      mAP50  mAP50-95): 100%|██████████| 1/1 [00:01<00:00,  1.52s/it]"
     ]
    },
    {
     "name": "stdout",
     "output_type": "stream",
     "text": [
      "                   all         22         25      0.584       0.28      0.307      0.194\n"
     ]
    },
    {
     "name": "stderr",
     "output_type": "stream",
     "text": [
      "\n"
     ]
    },
    {
     "name": "stdout",
     "output_type": "stream",
     "text": [
      "\n",
      "      Epoch    GPU_mem   box_loss   cls_loss   dfl_loss  Instances       Size\n"
     ]
    },
    {
     "name": "stderr",
     "output_type": "stream",
     "text": [
      "     26/100      2.48G     0.8716      1.725      1.033         20        640: 100%|██████████| 4/4 [00:02<00:00,  1.85it/s]\n",
      "                 Class     Images  Instances      Box(P          R      mAP50  mAP50-95): 100%|██████████| 1/1 [00:00<00:00,  2.11it/s]"
     ]
    },
    {
     "name": "stdout",
     "output_type": "stream",
     "text": [
      "                   all         22         25      0.207        0.4       0.19      0.107\n"
     ]
    },
    {
     "name": "stderr",
     "output_type": "stream",
     "text": [
      "\n"
     ]
    },
    {
     "name": "stdout",
     "output_type": "stream",
     "text": [
      "\n",
      "      Epoch    GPU_mem   box_loss   cls_loss   dfl_loss  Instances       Size\n"
     ]
    },
    {
     "name": "stderr",
     "output_type": "stream",
     "text": [
      "     27/100      2.48G     0.9468      1.832      1.087         14        640: 100%|██████████| 4/4 [00:01<00:00,  2.28it/s]\n",
      "                 Class     Images  Instances      Box(P          R      mAP50  mAP50-95): 100%|██████████| 1/1 [00:00<00:00,  1.65it/s]"
     ]
    },
    {
     "name": "stdout",
     "output_type": "stream",
     "text": [
      "                   all         22         25      0.191       0.16      0.145     0.0873\n"
     ]
    },
    {
     "name": "stderr",
     "output_type": "stream",
     "text": [
      "\n"
     ]
    },
    {
     "name": "stdout",
     "output_type": "stream",
     "text": [
      "\n",
      "      Epoch    GPU_mem   box_loss   cls_loss   dfl_loss  Instances       Size\n"
     ]
    },
    {
     "name": "stderr",
     "output_type": "stream",
     "text": [
      "     28/100      2.48G       0.84      1.586     0.9907         15        640: 100%|██████████| 4/4 [00:01<00:00,  2.13it/s]\n",
      "                 Class     Images  Instances      Box(P          R      mAP50  mAP50-95): 100%|██████████| 1/1 [00:00<00:00,  2.24it/s]"
     ]
    },
    {
     "name": "stdout",
     "output_type": "stream",
     "text": [
      "                   all         22         25      0.164        0.2       0.14     0.0599\n"
     ]
    },
    {
     "name": "stderr",
     "output_type": "stream",
     "text": [
      "\n"
     ]
    },
    {
     "name": "stdout",
     "output_type": "stream",
     "text": [
      "\n",
      "      Epoch    GPU_mem   box_loss   cls_loss   dfl_loss  Instances       Size\n"
     ]
    },
    {
     "name": "stderr",
     "output_type": "stream",
     "text": [
      "     29/100      2.49G      0.909      1.654      1.018         15        640: 100%|██████████| 4/4 [00:01<00:00,  2.53it/s]\n",
      "                 Class     Images  Instances      Box(P          R      mAP50  mAP50-95): 100%|██████████| 1/1 [00:00<00:00,  2.87it/s]"
     ]
    },
    {
     "name": "stdout",
     "output_type": "stream",
     "text": [
      "                   all         22         25      0.303       0.28       0.18       0.11\n"
     ]
    },
    {
     "name": "stderr",
     "output_type": "stream",
     "text": [
      "\n"
     ]
    },
    {
     "name": "stdout",
     "output_type": "stream",
     "text": [
      "\n",
      "      Epoch    GPU_mem   box_loss   cls_loss   dfl_loss  Instances       Size\n"
     ]
    },
    {
     "name": "stderr",
     "output_type": "stream",
     "text": [
      "     30/100      2.48G     0.8333      1.516     0.9652         20        640: 100%|██████████| 4/4 [00:01<00:00,  2.08it/s]\n",
      "                 Class     Images  Instances      Box(P          R      mAP50  mAP50-95): 100%|██████████| 1/1 [00:00<00:00,  2.35it/s]"
     ]
    },
    {
     "name": "stdout",
     "output_type": "stream",
     "text": [
      "                   all         22         25      0.465       0.32      0.321      0.222\n"
     ]
    },
    {
     "name": "stderr",
     "output_type": "stream",
     "text": [
      "\n"
     ]
    },
    {
     "name": "stdout",
     "output_type": "stream",
     "text": [
      "\n",
      "      Epoch    GPU_mem   box_loss   cls_loss   dfl_loss  Instances       Size\n"
     ]
    },
    {
     "name": "stderr",
     "output_type": "stream",
     "text": [
      "     31/100      2.48G     0.7834      1.597       1.06         18        640: 100%|██████████| 4/4 [00:01<00:00,  2.39it/s]\n",
      "                 Class     Images  Instances      Box(P          R      mAP50  mAP50-95): 100%|██████████| 1/1 [00:00<00:00,  2.91it/s]"
     ]
    },
    {
     "name": "stdout",
     "output_type": "stream",
     "text": [
      "                   all         22         25      0.364       0.48        0.4      0.267\n"
     ]
    },
    {
     "name": "stderr",
     "output_type": "stream",
     "text": [
      "\n"
     ]
    },
    {
     "name": "stdout",
     "output_type": "stream",
     "text": [
      "\n",
      "      Epoch    GPU_mem   box_loss   cls_loss   dfl_loss  Instances       Size\n"
     ]
    },
    {
     "name": "stderr",
     "output_type": "stream",
     "text": [
      "     32/100      2.48G     0.8405      1.478      1.019         20        640: 100%|██████████| 4/4 [00:01<00:00,  2.99it/s]\n",
      "                 Class     Images  Instances      Box(P          R      mAP50  mAP50-95): 100%|██████████| 1/1 [00:00<00:00,  3.80it/s]"
     ]
    },
    {
     "name": "stdout",
     "output_type": "stream",
     "text": [
      "                   all         22         25      0.618        0.4      0.479      0.331\n"
     ]
    },
    {
     "name": "stderr",
     "output_type": "stream",
     "text": [
      "\n"
     ]
    },
    {
     "name": "stdout",
     "output_type": "stream",
     "text": [
      "\n",
      "      Epoch    GPU_mem   box_loss   cls_loss   dfl_loss  Instances       Size\n"
     ]
    },
    {
     "name": "stderr",
     "output_type": "stream",
     "text": [
      "     33/100      2.49G     0.8834      1.657      1.002         10        640: 100%|██████████| 4/4 [00:01<00:00,  2.75it/s]\n",
      "                 Class     Images  Instances      Box(P          R      mAP50  mAP50-95): 100%|██████████| 1/1 [00:00<00:00,  1.61it/s]"
     ]
    },
    {
     "name": "stdout",
     "output_type": "stream",
     "text": [
      "                   all         22         25      0.509       0.52      0.461      0.308\n"
     ]
    },
    {
     "name": "stderr",
     "output_type": "stream",
     "text": [
      "\n"
     ]
    },
    {
     "name": "stdout",
     "output_type": "stream",
     "text": [
      "\n",
      "      Epoch    GPU_mem   box_loss   cls_loss   dfl_loss  Instances       Size\n"
     ]
    },
    {
     "name": "stderr",
     "output_type": "stream",
     "text": [
      "     34/100      2.49G     0.9309       1.58      1.064          9        640: 100%|██████████| 4/4 [00:01<00:00,  2.98it/s]\n",
      "                 Class     Images  Instances      Box(P          R      mAP50  mAP50-95): 100%|██████████| 1/1 [00:00<00:00,  3.83it/s]"
     ]
    },
    {
     "name": "stdout",
     "output_type": "stream",
     "text": [
      "                   all         22         25      0.458       0.44      0.423      0.285\n"
     ]
    },
    {
     "name": "stderr",
     "output_type": "stream",
     "text": [
      "\n"
     ]
    },
    {
     "name": "stdout",
     "output_type": "stream",
     "text": [
      "\n",
      "      Epoch    GPU_mem   box_loss   cls_loss   dfl_loss  Instances       Size\n"
     ]
    },
    {
     "name": "stderr",
     "output_type": "stream",
     "text": [
      "     35/100      2.49G     0.9141      1.517      1.018         12        640: 100%|██████████| 4/4 [00:01<00:00,  2.72it/s]\n",
      "                 Class     Images  Instances      Box(P          R      mAP50  mAP50-95): 100%|██████████| 1/1 [00:00<00:00,  1.81it/s]"
     ]
    },
    {
     "name": "stdout",
     "output_type": "stream",
     "text": [
      "                   all         22         25      0.468       0.72      0.456      0.313\n"
     ]
    },
    {
     "name": "stderr",
     "output_type": "stream",
     "text": [
      "\n"
     ]
    },
    {
     "name": "stdout",
     "output_type": "stream",
     "text": [
      "\n",
      "      Epoch    GPU_mem   box_loss   cls_loss   dfl_loss  Instances       Size\n"
     ]
    },
    {
     "name": "stderr",
     "output_type": "stream",
     "text": [
      "     36/100      2.48G     0.9722      1.741      1.094         10        640: 100%|██████████| 4/4 [00:01<00:00,  2.61it/s]\n",
      "                 Class     Images  Instances      Box(P          R      mAP50  mAP50-95): 100%|██████████| 1/1 [00:00<00:00,  3.34it/s]"
     ]
    },
    {
     "name": "stdout",
     "output_type": "stream",
     "text": [
      "                   all         22         25      0.519       0.48      0.402      0.262\n"
     ]
    },
    {
     "name": "stderr",
     "output_type": "stream",
     "text": [
      "\n"
     ]
    },
    {
     "name": "stdout",
     "output_type": "stream",
     "text": [
      "\n",
      "      Epoch    GPU_mem   box_loss   cls_loss   dfl_loss  Instances       Size\n"
     ]
    },
    {
     "name": "stderr",
     "output_type": "stream",
     "text": [
      "     37/100      2.49G     0.9316      1.839      1.049          9        640: 100%|██████████| 4/4 [00:02<00:00,  1.95it/s]\n",
      "                 Class     Images  Instances      Box(P          R      mAP50  mAP50-95): 100%|██████████| 1/1 [00:00<00:00,  3.80it/s]"
     ]
    },
    {
     "name": "stdout",
     "output_type": "stream",
     "text": [
      "                   all         22         25      0.336       0.52      0.243      0.156\n"
     ]
    },
    {
     "name": "stderr",
     "output_type": "stream",
     "text": [
      "\n"
     ]
    },
    {
     "name": "stdout",
     "output_type": "stream",
     "text": [
      "\n",
      "      Epoch    GPU_mem   box_loss   cls_loss   dfl_loss  Instances       Size\n"
     ]
    },
    {
     "name": "stderr",
     "output_type": "stream",
     "text": [
      "     38/100      2.48G     0.8791      1.638      1.011         15        640: 100%|██████████| 4/4 [00:01<00:00,  2.50it/s]\n",
      "                 Class     Images  Instances      Box(P          R      mAP50  mAP50-95): 100%|██████████| 1/1 [00:00<00:00,  2.55it/s]"
     ]
    },
    {
     "name": "stdout",
     "output_type": "stream",
     "text": [
      "                   all         22         25      0.739       0.52      0.532      0.422\n"
     ]
    },
    {
     "name": "stderr",
     "output_type": "stream",
     "text": [
      "\n"
     ]
    },
    {
     "name": "stdout",
     "output_type": "stream",
     "text": [
      "\n",
      "      Epoch    GPU_mem   box_loss   cls_loss   dfl_loss  Instances       Size\n"
     ]
    },
    {
     "name": "stderr",
     "output_type": "stream",
     "text": [
      "     39/100      2.48G     0.8933      1.588     0.9836         10        640: 100%|██████████| 4/4 [00:01<00:00,  3.11it/s]\n",
      "                 Class     Images  Instances      Box(P          R      mAP50  mAP50-95): 100%|██████████| 1/1 [00:00<00:00,  2.63it/s]"
     ]
    },
    {
     "name": "stdout",
     "output_type": "stream",
     "text": [
      "                   all         22         25      0.858       0.44      0.555      0.419\n"
     ]
    },
    {
     "name": "stderr",
     "output_type": "stream",
     "text": [
      "\n"
     ]
    },
    {
     "name": "stdout",
     "output_type": "stream",
     "text": [
      "\n",
      "      Epoch    GPU_mem   box_loss   cls_loss   dfl_loss  Instances       Size\n"
     ]
    },
    {
     "name": "stderr",
     "output_type": "stream",
     "text": [
      "     40/100      2.49G     0.9103      1.504     0.9905         14        640: 100%|██████████| 4/4 [00:01<00:00,  2.97it/s]\n",
      "                 Class     Images  Instances      Box(P          R      mAP50  mAP50-95): 100%|██████████| 1/1 [00:00<00:00,  3.83it/s]"
     ]
    },
    {
     "name": "stdout",
     "output_type": "stream",
     "text": [
      "                   all         22         25      0.725        0.6      0.605      0.427\n"
     ]
    },
    {
     "name": "stderr",
     "output_type": "stream",
     "text": [
      "\n"
     ]
    },
    {
     "name": "stdout",
     "output_type": "stream",
     "text": [
      "\n",
      "      Epoch    GPU_mem   box_loss   cls_loss   dfl_loss  Instances       Size\n"
     ]
    },
    {
     "name": "stderr",
     "output_type": "stream",
     "text": [
      "     41/100      2.48G     0.9316      1.473      0.979         20        640: 100%|██████████| 4/4 [00:01<00:00,  3.69it/s]\n",
      "                 Class     Images  Instances      Box(P          R      mAP50  mAP50-95): 100%|██████████| 1/1 [00:00<00:00,  2.10it/s]"
     ]
    },
    {
     "name": "stdout",
     "output_type": "stream",
     "text": [
      "                   all         22         25      0.678      0.591      0.607      0.446\n"
     ]
    },
    {
     "name": "stderr",
     "output_type": "stream",
     "text": [
      "\n"
     ]
    },
    {
     "name": "stdout",
     "output_type": "stream",
     "text": [
      "\n",
      "      Epoch    GPU_mem   box_loss   cls_loss   dfl_loss  Instances       Size\n"
     ]
    },
    {
     "name": "stderr",
     "output_type": "stream",
     "text": [
      "     42/100      2.48G     0.8055      1.492      1.034         15        640: 100%|██████████| 4/4 [00:01<00:00,  2.82it/s]\n",
      "                 Class     Images  Instances      Box(P          R      mAP50  mAP50-95): 100%|██████████| 1/1 [00:00<00:00,  3.84it/s]"
     ]
    },
    {
     "name": "stdout",
     "output_type": "stream",
     "text": [
      "                   all         22         25      0.678      0.589      0.561      0.427\n"
     ]
    },
    {
     "name": "stderr",
     "output_type": "stream",
     "text": [
      "\n"
     ]
    },
    {
     "name": "stdout",
     "output_type": "stream",
     "text": [
      "\n",
      "      Epoch    GPU_mem   box_loss   cls_loss   dfl_loss  Instances       Size\n"
     ]
    },
    {
     "name": "stderr",
     "output_type": "stream",
     "text": [
      "     43/100      2.48G     0.7998      1.277     0.9735         18        640: 100%|██████████| 4/4 [00:01<00:00,  2.96it/s]\n",
      "                 Class     Images  Instances      Box(P          R      mAP50  mAP50-95): 100%|██████████| 1/1 [00:00<00:00,  3.69it/s]"
     ]
    },
    {
     "name": "stdout",
     "output_type": "stream",
     "text": [
      "                   all         22         25       0.55       0.72      0.554      0.406\n"
     ]
    },
    {
     "name": "stderr",
     "output_type": "stream",
     "text": [
      "\n"
     ]
    },
    {
     "name": "stdout",
     "output_type": "stream",
     "text": [
      "\n",
      "      Epoch    GPU_mem   box_loss   cls_loss   dfl_loss  Instances       Size\n"
     ]
    },
    {
     "name": "stderr",
     "output_type": "stream",
     "text": [
      "     44/100      2.48G     0.8316      1.348      1.063         18        640: 100%|██████████| 4/4 [00:02<00:00,  1.88it/s]\n",
      "                 Class     Images  Instances      Box(P          R      mAP50  mAP50-95): 100%|██████████| 1/1 [00:00<00:00,  2.57it/s]"
     ]
    },
    {
     "name": "stdout",
     "output_type": "stream",
     "text": [
      "                   all         22         25      0.568      0.631      0.486      0.348\n"
     ]
    },
    {
     "name": "stderr",
     "output_type": "stream",
     "text": [
      "\n"
     ]
    },
    {
     "name": "stdout",
     "output_type": "stream",
     "text": [
      "\n",
      "      Epoch    GPU_mem   box_loss   cls_loss   dfl_loss  Instances       Size\n"
     ]
    },
    {
     "name": "stderr",
     "output_type": "stream",
     "text": [
      "     45/100      2.48G     0.8018      1.319      1.019         22        640: 100%|██████████| 4/4 [00:01<00:00,  2.46it/s]\n",
      "                 Class     Images  Instances      Box(P          R      mAP50  mAP50-95): 100%|██████████| 1/1 [00:00<00:00,  3.73it/s]"
     ]
    },
    {
     "name": "stdout",
     "output_type": "stream",
     "text": [
      "                   all         22         25      0.606       0.68      0.572      0.444\n"
     ]
    },
    {
     "name": "stderr",
     "output_type": "stream",
     "text": [
      "\n"
     ]
    },
    {
     "name": "stdout",
     "output_type": "stream",
     "text": [
      "\n",
      "      Epoch    GPU_mem   box_loss   cls_loss   dfl_loss  Instances       Size\n"
     ]
    },
    {
     "name": "stderr",
     "output_type": "stream",
     "text": [
      "     46/100      2.48G     0.7935      1.271      1.007         17        640: 100%|██████████| 4/4 [00:01<00:00,  3.46it/s]\n",
      "                 Class     Images  Instances      Box(P          R      mAP50  mAP50-95): 100%|██████████| 1/1 [00:00<00:00,  3.82it/s]"
     ]
    },
    {
     "name": "stdout",
     "output_type": "stream",
     "text": [
      "                   all         22         25      0.588       0.76      0.611      0.466\n"
     ]
    },
    {
     "name": "stderr",
     "output_type": "stream",
     "text": [
      "\n"
     ]
    },
    {
     "name": "stdout",
     "output_type": "stream",
     "text": [
      "\n",
      "      Epoch    GPU_mem   box_loss   cls_loss   dfl_loss  Instances       Size\n"
     ]
    },
    {
     "name": "stderr",
     "output_type": "stream",
     "text": [
      "     47/100      2.48G     0.8713      1.311      1.045         16        640: 100%|██████████| 4/4 [00:01<00:00,  2.33it/s]\n",
      "                 Class     Images  Instances      Box(P          R      mAP50  mAP50-95): 100%|██████████| 1/1 [00:00<00:00,  3.95it/s]"
     ]
    },
    {
     "name": "stdout",
     "output_type": "stream",
     "text": [
      "                   all         22         25      0.613       0.84      0.648      0.501\n"
     ]
    },
    {
     "name": "stderr",
     "output_type": "stream",
     "text": [
      "\n"
     ]
    },
    {
     "name": "stdout",
     "output_type": "stream",
     "text": [
      "\n",
      "      Epoch    GPU_mem   box_loss   cls_loss   dfl_loss  Instances       Size\n"
     ]
    },
    {
     "name": "stderr",
     "output_type": "stream",
     "text": [
      "     48/100      2.49G     0.9056       1.49       1.03         12        640: 100%|██████████| 4/4 [00:01<00:00,  2.18it/s]\n",
      "                 Class     Images  Instances      Box(P          R      mAP50  mAP50-95): 100%|██████████| 1/1 [00:00<00:00,  3.89it/s]"
     ]
    },
    {
     "name": "stdout",
     "output_type": "stream",
     "text": [
      "                   all         22         25      0.666       0.76      0.693      0.551\n"
     ]
    },
    {
     "name": "stderr",
     "output_type": "stream",
     "text": [
      "\n"
     ]
    },
    {
     "name": "stdout",
     "output_type": "stream",
     "text": [
      "\n",
      "      Epoch    GPU_mem   box_loss   cls_loss   dfl_loss  Instances       Size\n"
     ]
    },
    {
     "name": "stderr",
     "output_type": "stream",
     "text": [
      "     49/100      2.48G     0.8769      1.372      1.008         17        640: 100%|██████████| 4/4 [00:01<00:00,  3.17it/s]\n",
      "                 Class     Images  Instances      Box(P          R      mAP50  mAP50-95): 100%|██████████| 1/1 [00:00<00:00,  4.00it/s]"
     ]
    },
    {
     "name": "stdout",
     "output_type": "stream",
     "text": [
      "                   all         22         25      0.608        0.8      0.727      0.549\n"
     ]
    },
    {
     "name": "stderr",
     "output_type": "stream",
     "text": [
      "\n"
     ]
    },
    {
     "name": "stdout",
     "output_type": "stream",
     "text": [
      "\n",
      "      Epoch    GPU_mem   box_loss   cls_loss   dfl_loss  Instances       Size\n"
     ]
    },
    {
     "name": "stderr",
     "output_type": "stream",
     "text": [
      "     50/100      2.48G     0.8221      1.231      0.996         21        640: 100%|██████████| 4/4 [00:01<00:00,  2.51it/s]\n",
      "                 Class     Images  Instances      Box(P          R      mAP50  mAP50-95): 100%|██████████| 1/1 [00:00<00:00,  2.65it/s]"
     ]
    },
    {
     "name": "stdout",
     "output_type": "stream",
     "text": [
      "                   all         22         25      0.649      0.813      0.771      0.588\n"
     ]
    },
    {
     "name": "stderr",
     "output_type": "stream",
     "text": [
      "\n"
     ]
    },
    {
     "name": "stdout",
     "output_type": "stream",
     "text": [
      "\n",
      "      Epoch    GPU_mem   box_loss   cls_loss   dfl_loss  Instances       Size\n"
     ]
    },
    {
     "name": "stderr",
     "output_type": "stream",
     "text": [
      "     51/100      2.49G     0.6951      1.197      0.962         12        640: 100%|██████████| 4/4 [00:01<00:00,  2.05it/s]\n",
      "                 Class     Images  Instances      Box(P          R      mAP50  mAP50-95): 100%|██████████| 1/1 [00:00<00:00,  3.80it/s]"
     ]
    },
    {
     "name": "stdout",
     "output_type": "stream",
     "text": [
      "                   all         22         25      0.759        0.8      0.795      0.629\n"
     ]
    },
    {
     "name": "stderr",
     "output_type": "stream",
     "text": [
      "\n"
     ]
    },
    {
     "name": "stdout",
     "output_type": "stream",
     "text": [
      "\n",
      "      Epoch    GPU_mem   box_loss   cls_loss   dfl_loss  Instances       Size\n"
     ]
    },
    {
     "name": "stderr",
     "output_type": "stream",
     "text": [
      "     52/100      2.48G      0.724      1.184     0.9593         15        640: 100%|██████████| 4/4 [00:01<00:00,  2.31it/s]\n",
      "                 Class     Images  Instances      Box(P          R      mAP50  mAP50-95): 100%|██████████| 1/1 [00:00<00:00,  2.26it/s]"
     ]
    },
    {
     "name": "stdout",
     "output_type": "stream",
     "text": [
      "                   all         22         25      0.875       0.84      0.844      0.685\n"
     ]
    },
    {
     "name": "stderr",
     "output_type": "stream",
     "text": [
      "\n"
     ]
    },
    {
     "name": "stdout",
     "output_type": "stream",
     "text": [
      "\n",
      "      Epoch    GPU_mem   box_loss   cls_loss   dfl_loss  Instances       Size\n"
     ]
    },
    {
     "name": "stderr",
     "output_type": "stream",
     "text": [
      "     53/100      2.48G     0.7843       1.15     0.9711         25        640: 100%|██████████| 4/4 [00:02<00:00,  1.93it/s]\n",
      "                 Class     Images  Instances      Box(P          R      mAP50  mAP50-95): 100%|██████████| 1/1 [00:00<00:00,  7.13it/s]"
     ]
    },
    {
     "name": "stdout",
     "output_type": "stream",
     "text": [
      "                   all         22         25      0.866      0.775      0.825      0.657\n"
     ]
    },
    {
     "name": "stderr",
     "output_type": "stream",
     "text": [
      "\n"
     ]
    },
    {
     "name": "stdout",
     "output_type": "stream",
     "text": [
      "\n",
      "      Epoch    GPU_mem   box_loss   cls_loss   dfl_loss  Instances       Size\n"
     ]
    },
    {
     "name": "stderr",
     "output_type": "stream",
     "text": [
      "     54/100      2.48G     0.7892      1.118     0.9547         15        640: 100%|██████████| 4/4 [00:00<00:00,  6.57it/s]\n",
      "                 Class     Images  Instances      Box(P          R      mAP50  mAP50-95): 100%|██████████| 1/1 [00:00<00:00,  7.66it/s]"
     ]
    },
    {
     "name": "stdout",
     "output_type": "stream",
     "text": [
      "                   all         22         25      0.729        0.8      0.817      0.647\n"
     ]
    },
    {
     "name": "stderr",
     "output_type": "stream",
     "text": [
      "\n"
     ]
    },
    {
     "name": "stdout",
     "output_type": "stream",
     "text": [
      "\n",
      "      Epoch    GPU_mem   box_loss   cls_loss   dfl_loss  Instances       Size\n"
     ]
    },
    {
     "name": "stderr",
     "output_type": "stream",
     "text": [
      "     55/100      2.49G     0.7079      1.188      0.961         15        640: 100%|██████████| 4/4 [00:00<00:00,  7.19it/s]\n",
      "                 Class     Images  Instances      Box(P          R      mAP50  mAP50-95): 100%|██████████| 1/1 [00:00<00:00,  7.71it/s]"
     ]
    },
    {
     "name": "stdout",
     "output_type": "stream",
     "text": [
      "                   all         22         25      0.836       0.72      0.768      0.645\n"
     ]
    },
    {
     "name": "stderr",
     "output_type": "stream",
     "text": [
      "\n"
     ]
    },
    {
     "name": "stdout",
     "output_type": "stream",
     "text": [
      "\n",
      "      Epoch    GPU_mem   box_loss   cls_loss   dfl_loss  Instances       Size\n"
     ]
    },
    {
     "name": "stderr",
     "output_type": "stream",
     "text": [
      "     56/100      2.48G     0.6812      1.172          1          8        640: 100%|██████████| 4/4 [00:00<00:00,  7.40it/s]\n",
      "                 Class     Images  Instances      Box(P          R      mAP50  mAP50-95): 100%|██████████| 1/1 [00:00<00:00,  7.77it/s]"
     ]
    },
    {
     "name": "stdout",
     "output_type": "stream",
     "text": [
      "                   all         22         25      0.606       0.72      0.579      0.468\n"
     ]
    },
    {
     "name": "stderr",
     "output_type": "stream",
     "text": [
      "\n"
     ]
    },
    {
     "name": "stdout",
     "output_type": "stream",
     "text": [
      "\n",
      "      Epoch    GPU_mem   box_loss   cls_loss   dfl_loss  Instances       Size\n"
     ]
    },
    {
     "name": "stderr",
     "output_type": "stream",
     "text": [
      "     57/100      2.48G     0.7253      1.167     0.9576          9        640: 100%|██████████| 4/4 [00:00<00:00,  7.77it/s]\n",
      "                 Class     Images  Instances      Box(P          R      mAP50  mAP50-95): 100%|██████████| 1/1 [00:00<00:00,  8.44it/s]"
     ]
    },
    {
     "name": "stdout",
     "output_type": "stream",
     "text": [
      "                   all         22         25      0.606       0.68      0.569      0.465\n"
     ]
    },
    {
     "name": "stderr",
     "output_type": "stream",
     "text": [
      "\n"
     ]
    },
    {
     "name": "stdout",
     "output_type": "stream",
     "text": [
      "\n",
      "      Epoch    GPU_mem   box_loss   cls_loss   dfl_loss  Instances       Size\n"
     ]
    },
    {
     "name": "stderr",
     "output_type": "stream",
     "text": [
      "     58/100      2.48G     0.7374      1.169     0.9254         16        640: 100%|██████████| 4/4 [00:00<00:00,  7.06it/s]\n",
      "                 Class     Images  Instances      Box(P          R      mAP50  mAP50-95): 100%|██████████| 1/1 [00:00<00:00,  7.45it/s]"
     ]
    },
    {
     "name": "stdout",
     "output_type": "stream",
     "text": [
      "                   all         22         25      0.736       0.76      0.745      0.595\n"
     ]
    },
    {
     "name": "stderr",
     "output_type": "stream",
     "text": [
      "\n"
     ]
    },
    {
     "name": "stdout",
     "output_type": "stream",
     "text": [
      "\n",
      "      Epoch    GPU_mem   box_loss   cls_loss   dfl_loss  Instances       Size\n"
     ]
    },
    {
     "name": "stderr",
     "output_type": "stream",
     "text": [
      "     59/100      2.48G        0.8      1.039     0.9635         20        640: 100%|██████████| 4/4 [00:00<00:00,  6.86it/s]\n",
      "                 Class     Images  Instances      Box(P          R      mAP50  mAP50-95): 100%|██████████| 1/1 [00:00<00:00,  7.13it/s]"
     ]
    },
    {
     "name": "stdout",
     "output_type": "stream",
     "text": [
      "                   all         22         25      0.868       0.72      0.839      0.654\n"
     ]
    },
    {
     "name": "stderr",
     "output_type": "stream",
     "text": [
      "\n"
     ]
    },
    {
     "name": "stdout",
     "output_type": "stream",
     "text": [
      "\n",
      "      Epoch    GPU_mem   box_loss   cls_loss   dfl_loss  Instances       Size\n"
     ]
    },
    {
     "name": "stderr",
     "output_type": "stream",
     "text": [
      "     60/100      2.49G     0.7473      1.122     0.9946         14        640: 100%|██████████| 4/4 [00:00<00:00,  6.83it/s]\n",
      "                 Class     Images  Instances      Box(P          R      mAP50  mAP50-95): 100%|██████████| 1/1 [00:00<00:00,  6.91it/s]"
     ]
    },
    {
     "name": "stdout",
     "output_type": "stream",
     "text": [
      "                   all         22         25       0.88        0.8      0.879      0.681\n"
     ]
    },
    {
     "name": "stderr",
     "output_type": "stream",
     "text": [
      "\n"
     ]
    },
    {
     "name": "stdout",
     "output_type": "stream",
     "text": [
      "\n",
      "      Epoch    GPU_mem   box_loss   cls_loss   dfl_loss  Instances       Size\n"
     ]
    },
    {
     "name": "stderr",
     "output_type": "stream",
     "text": [
      "     61/100      2.49G     0.7335      1.038     0.9492         18        640: 100%|██████████| 4/4 [00:00<00:00,  6.82it/s]\n",
      "                 Class     Images  Instances      Box(P          R      mAP50  mAP50-95): 100%|██████████| 1/1 [00:00<00:00,  7.02it/s]"
     ]
    },
    {
     "name": "stdout",
     "output_type": "stream",
     "text": [
      "                   all         22         25      0.994       0.84      0.894      0.689\n"
     ]
    },
    {
     "name": "stderr",
     "output_type": "stream",
     "text": [
      "\n"
     ]
    },
    {
     "name": "stdout",
     "output_type": "stream",
     "text": [
      "\n",
      "      Epoch    GPU_mem   box_loss   cls_loss   dfl_loss  Instances       Size\n"
     ]
    },
    {
     "name": "stderr",
     "output_type": "stream",
     "text": [
      "     62/100      2.49G     0.7039      1.067     0.9486         15        640: 100%|██████████| 4/4 [00:00<00:00,  6.77it/s]\n",
      "                 Class     Images  Instances      Box(P          R      mAP50  mAP50-95): 100%|██████████| 1/1 [00:00<00:00,  6.22it/s]"
     ]
    },
    {
     "name": "stdout",
     "output_type": "stream",
     "text": [
      "                   all         22         25      0.866       0.88      0.885      0.709\n"
     ]
    },
    {
     "name": "stderr",
     "output_type": "stream",
     "text": [
      "\n"
     ]
    },
    {
     "name": "stdout",
     "output_type": "stream",
     "text": [
      "\n",
      "      Epoch    GPU_mem   box_loss   cls_loss   dfl_loss  Instances       Size\n"
     ]
    },
    {
     "name": "stderr",
     "output_type": "stream",
     "text": [
      "     63/100      2.49G     0.6921      1.055     0.9661         13        640: 100%|██████████| 4/4 [00:00<00:00,  6.98it/s]\n",
      "                 Class     Images  Instances      Box(P          R      mAP50  mAP50-95): 100%|██████████| 1/1 [00:00<00:00,  7.26it/s]"
     ]
    },
    {
     "name": "stdout",
     "output_type": "stream",
     "text": [
      "                   all         22         25      0.934       0.76      0.861      0.706\n"
     ]
    },
    {
     "name": "stderr",
     "output_type": "stream",
     "text": [
      "\n"
     ]
    },
    {
     "name": "stdout",
     "output_type": "stream",
     "text": [
      "\n",
      "      Epoch    GPU_mem   box_loss   cls_loss   dfl_loss  Instances       Size\n"
     ]
    },
    {
     "name": "stderr",
     "output_type": "stream",
     "text": [
      "     64/100      2.48G     0.6459     0.9915     0.9349         15        640: 100%|██████████| 4/4 [00:00<00:00,  6.99it/s]\n",
      "                 Class     Images  Instances      Box(P          R      mAP50  mAP50-95): 100%|██████████| 1/1 [00:00<00:00,  7.75it/s]"
     ]
    },
    {
     "name": "stdout",
     "output_type": "stream",
     "text": [
      "                   all         22         25       0.93       0.76      0.866      0.709\n"
     ]
    },
    {
     "name": "stderr",
     "output_type": "stream",
     "text": [
      "\n"
     ]
    },
    {
     "name": "stdout",
     "output_type": "stream",
     "text": [
      "\n",
      "      Epoch    GPU_mem   box_loss   cls_loss   dfl_loss  Instances       Size\n"
     ]
    },
    {
     "name": "stderr",
     "output_type": "stream",
     "text": [
      "     65/100      2.49G     0.7231       1.08     0.9698         10        640: 100%|██████████| 4/4 [00:00<00:00,  7.09it/s]\n",
      "                 Class     Images  Instances      Box(P          R      mAP50  mAP50-95): 100%|██████████| 1/1 [00:00<00:00,  8.03it/s]"
     ]
    },
    {
     "name": "stdout",
     "output_type": "stream",
     "text": [
      "                   all         22         25      0.908      0.794      0.866      0.718\n"
     ]
    },
    {
     "name": "stderr",
     "output_type": "stream",
     "text": [
      "\n"
     ]
    },
    {
     "name": "stdout",
     "output_type": "stream",
     "text": [
      "\n",
      "      Epoch    GPU_mem   box_loss   cls_loss   dfl_loss  Instances       Size\n"
     ]
    },
    {
     "name": "stderr",
     "output_type": "stream",
     "text": [
      "     66/100      2.48G     0.7442      1.025     0.9548         15        640: 100%|██████████| 4/4 [00:00<00:00,  6.70it/s]\n",
      "                 Class     Images  Instances      Box(P          R      mAP50  mAP50-95): 100%|██████████| 1/1 [00:00<00:00,  7.47it/s]"
     ]
    },
    {
     "name": "stdout",
     "output_type": "stream",
     "text": [
      "                   all         22         25      0.952      0.796      0.879      0.726\n"
     ]
    },
    {
     "name": "stderr",
     "output_type": "stream",
     "text": [
      "\n"
     ]
    },
    {
     "name": "stdout",
     "output_type": "stream",
     "text": [
      "\n",
      "      Epoch    GPU_mem   box_loss   cls_loss   dfl_loss  Instances       Size\n"
     ]
    },
    {
     "name": "stderr",
     "output_type": "stream",
     "text": [
      "     67/100      2.48G     0.6866      0.979     0.9391         15        640: 100%|██████████| 4/4 [00:00<00:00,  7.19it/s]\n",
      "                 Class     Images  Instances      Box(P          R      mAP50  mAP50-95): 100%|██████████| 1/1 [00:00<00:00,  7.83it/s]"
     ]
    },
    {
     "name": "stdout",
     "output_type": "stream",
     "text": [
      "                   all         22         25      0.997        0.8      0.894      0.731\n"
     ]
    },
    {
     "name": "stderr",
     "output_type": "stream",
     "text": [
      "\n"
     ]
    },
    {
     "name": "stdout",
     "output_type": "stream",
     "text": [
      "\n",
      "      Epoch    GPU_mem   box_loss   cls_loss   dfl_loss  Instances       Size\n"
     ]
    },
    {
     "name": "stderr",
     "output_type": "stream",
     "text": [
      "     68/100      2.49G     0.6953      0.994     0.9505         12        640: 100%|██████████| 4/4 [00:00<00:00,  7.20it/s]\n",
      "                 Class     Images  Instances      Box(P          R      mAP50  mAP50-95): 100%|██████████| 1/1 [00:00<00:00,  7.81it/s]"
     ]
    },
    {
     "name": "stdout",
     "output_type": "stream",
     "text": [
      "                   all         22         25      0.989       0.84      0.907      0.771\n"
     ]
    },
    {
     "name": "stderr",
     "output_type": "stream",
     "text": [
      "\n"
     ]
    },
    {
     "name": "stdout",
     "output_type": "stream",
     "text": [
      "\n",
      "      Epoch    GPU_mem   box_loss   cls_loss   dfl_loss  Instances       Size\n"
     ]
    },
    {
     "name": "stderr",
     "output_type": "stream",
     "text": [
      "     69/100      2.48G     0.6531     0.9807     0.9273         16        640: 100%|██████████| 4/4 [00:00<00:00,  7.22it/s]\n",
      "                 Class     Images  Instances      Box(P          R      mAP50  mAP50-95): 100%|██████████| 1/1 [00:00<00:00,  6.88it/s]"
     ]
    },
    {
     "name": "stdout",
     "output_type": "stream",
     "text": [
      "                   all         22         25      0.988       0.84      0.909      0.755\n"
     ]
    },
    {
     "name": "stderr",
     "output_type": "stream",
     "text": [
      "\n"
     ]
    },
    {
     "name": "stdout",
     "output_type": "stream",
     "text": [
      "\n",
      "      Epoch    GPU_mem   box_loss   cls_loss   dfl_loss  Instances       Size\n"
     ]
    },
    {
     "name": "stderr",
     "output_type": "stream",
     "text": [
      "     70/100      2.49G      0.698      1.091     0.9392         11        640: 100%|██████████| 4/4 [00:00<00:00,  7.26it/s]\n",
      "                 Class     Images  Instances      Box(P          R      mAP50  mAP50-95): 100%|██████████| 1/1 [00:00<00:00,  7.58it/s]"
     ]
    },
    {
     "name": "stdout",
     "output_type": "stream",
     "text": [
      "                   all         22         25      0.905       0.84      0.893      0.751\n"
     ]
    },
    {
     "name": "stderr",
     "output_type": "stream",
     "text": [
      "\n"
     ]
    },
    {
     "name": "stdout",
     "output_type": "stream",
     "text": [
      "\n",
      "      Epoch    GPU_mem   box_loss   cls_loss   dfl_loss  Instances       Size\n"
     ]
    },
    {
     "name": "stderr",
     "output_type": "stream",
     "text": [
      "     71/100      2.49G     0.7057     0.9732     0.9192         16        640: 100%|██████████| 4/4 [00:00<00:00,  7.35it/s]\n",
      "                 Class     Images  Instances      Box(P          R      mAP50  mAP50-95): 100%|██████████| 1/1 [00:00<00:00,  7.81it/s]"
     ]
    },
    {
     "name": "stdout",
     "output_type": "stream",
     "text": [
      "                   all         22         25      0.878      0.863      0.883      0.731\n"
     ]
    },
    {
     "name": "stderr",
     "output_type": "stream",
     "text": [
      "\n"
     ]
    },
    {
     "name": "stdout",
     "output_type": "stream",
     "text": [
      "\n",
      "      Epoch    GPU_mem   box_loss   cls_loss   dfl_loss  Instances       Size\n"
     ]
    },
    {
     "name": "stderr",
     "output_type": "stream",
     "text": [
      "     72/100      2.48G     0.6975     0.9513     0.9021         12        640: 100%|██████████| 4/4 [00:00<00:00,  7.36it/s]\n",
      "                 Class     Images  Instances      Box(P          R      mAP50  mAP50-95): 100%|██████████| 1/1 [00:00<00:00,  7.86it/s]"
     ]
    },
    {
     "name": "stdout",
     "output_type": "stream",
     "text": [
      "                   all         22         25       0.88        0.8      0.875       0.74\n"
     ]
    },
    {
     "name": "stderr",
     "output_type": "stream",
     "text": [
      "\n"
     ]
    },
    {
     "name": "stdout",
     "output_type": "stream",
     "text": [
      "\n",
      "      Epoch    GPU_mem   box_loss   cls_loss   dfl_loss  Instances       Size\n"
     ]
    },
    {
     "name": "stderr",
     "output_type": "stream",
     "text": [
      "     73/100      2.48G     0.6002     0.8753     0.8698         19        640: 100%|██████████| 4/4 [00:00<00:00,  7.29it/s]\n",
      "                 Class     Images  Instances      Box(P          R      mAP50  mAP50-95): 100%|██████████| 1/1 [00:00<00:00,  7.98it/s]"
     ]
    },
    {
     "name": "stdout",
     "output_type": "stream",
     "text": [
      "                   all         22         25      0.875      0.838      0.867      0.731\n"
     ]
    },
    {
     "name": "stderr",
     "output_type": "stream",
     "text": [
      "\n"
     ]
    },
    {
     "name": "stdout",
     "output_type": "stream",
     "text": [
      "\n",
      "      Epoch    GPU_mem   box_loss   cls_loss   dfl_loss  Instances       Size\n"
     ]
    },
    {
     "name": "stderr",
     "output_type": "stream",
     "text": [
      "     74/100      2.49G     0.6617     0.8397     0.9112         15        640: 100%|██████████| 4/4 [00:00<00:00,  7.19it/s]\n",
      "                 Class     Images  Instances      Box(P          R      mAP50  mAP50-95): 100%|██████████| 1/1 [00:00<00:00,  7.79it/s]"
     ]
    },
    {
     "name": "stdout",
     "output_type": "stream",
     "text": [
      "                   all         22         25      0.912      0.829      0.884      0.748\n"
     ]
    },
    {
     "name": "stderr",
     "output_type": "stream",
     "text": [
      "\n"
     ]
    },
    {
     "name": "stdout",
     "output_type": "stream",
     "text": [
      "\n",
      "      Epoch    GPU_mem   box_loss   cls_loss   dfl_loss  Instances       Size\n"
     ]
    },
    {
     "name": "stderr",
     "output_type": "stream",
     "text": [
      "     75/100      2.48G     0.6032     0.8866     0.9427         12        640: 100%|██████████| 4/4 [00:00<00:00,  7.26it/s]\n",
      "                 Class     Images  Instances      Box(P          R      mAP50  mAP50-95): 100%|██████████| 1/1 [00:00<00:00,  8.22it/s]"
     ]
    },
    {
     "name": "stdout",
     "output_type": "stream",
     "text": [
      "                   all         22         25      0.954      0.835      0.894      0.768\n"
     ]
    },
    {
     "name": "stderr",
     "output_type": "stream",
     "text": [
      "\n"
     ]
    },
    {
     "name": "stdout",
     "output_type": "stream",
     "text": [
      "\n",
      "      Epoch    GPU_mem   box_loss   cls_loss   dfl_loss  Instances       Size\n"
     ]
    },
    {
     "name": "stderr",
     "output_type": "stream",
     "text": [
      "     76/100      2.48G     0.6192     0.8959     0.9003         14        640: 100%|██████████| 4/4 [00:00<00:00,  7.19it/s]\n",
      "                 Class     Images  Instances      Box(P          R      mAP50  mAP50-95): 100%|██████████| 1/1 [00:00<00:00,  7.76it/s]"
     ]
    },
    {
     "name": "stdout",
     "output_type": "stream",
     "text": [
      "                   all         22         25          1      0.836      0.892      0.744\n"
     ]
    },
    {
     "name": "stderr",
     "output_type": "stream",
     "text": [
      "\n"
     ]
    },
    {
     "name": "stdout",
     "output_type": "stream",
     "text": [
      "\n",
      "      Epoch    GPU_mem   box_loss   cls_loss   dfl_loss  Instances       Size\n"
     ]
    },
    {
     "name": "stderr",
     "output_type": "stream",
     "text": [
      "     77/100      2.49G     0.6437     0.9255     0.8868         14        640: 100%|██████████| 4/4 [00:00<00:00,  6.91it/s]\n",
      "                 Class     Images  Instances      Box(P          R      mAP50  mAP50-95): 100%|██████████| 1/1 [00:00<00:00,  8.16it/s]"
     ]
    },
    {
     "name": "stdout",
     "output_type": "stream",
     "text": [
      "                   all         22         25      0.995       0.84      0.887      0.738\n"
     ]
    },
    {
     "name": "stderr",
     "output_type": "stream",
     "text": [
      "\n"
     ]
    },
    {
     "name": "stdout",
     "output_type": "stream",
     "text": [
      "\n",
      "      Epoch    GPU_mem   box_loss   cls_loss   dfl_loss  Instances       Size\n"
     ]
    },
    {
     "name": "stderr",
     "output_type": "stream",
     "text": [
      "     78/100      2.49G      0.677     0.8944     0.9223         15        640: 100%|██████████| 4/4 [00:00<00:00,  7.44it/s]\n",
      "                 Class     Images  Instances      Box(P          R      mAP50  mAP50-95): 100%|██████████| 1/1 [00:00<00:00,  7.91it/s]"
     ]
    },
    {
     "name": "stdout",
     "output_type": "stream",
     "text": [
      "                   all         22         25      0.993       0.84      0.886      0.738\n"
     ]
    },
    {
     "name": "stderr",
     "output_type": "stream",
     "text": [
      "\n"
     ]
    },
    {
     "name": "stdout",
     "output_type": "stream",
     "text": [
      "\n",
      "      Epoch    GPU_mem   box_loss   cls_loss   dfl_loss  Instances       Size\n"
     ]
    },
    {
     "name": "stderr",
     "output_type": "stream",
     "text": [
      "     79/100      2.48G     0.6978      0.973     0.9563         18        640: 100%|██████████| 4/4 [00:00<00:00,  7.12it/s]\n",
      "                 Class     Images  Instances      Box(P          R      mAP50  mAP50-95): 100%|██████████| 1/1 [00:00<00:00,  6.28it/s]"
     ]
    },
    {
     "name": "stdout",
     "output_type": "stream",
     "text": [
      "                   all         22         25      0.994       0.84      0.903      0.746\n"
     ]
    },
    {
     "name": "stderr",
     "output_type": "stream",
     "text": [
      "\n"
     ]
    },
    {
     "name": "stdout",
     "output_type": "stream",
     "text": [
      "\n",
      "      Epoch    GPU_mem   box_loss   cls_loss   dfl_loss  Instances       Size\n"
     ]
    },
    {
     "name": "stderr",
     "output_type": "stream",
     "text": [
      "     80/100      2.48G      0.567     0.8464     0.8874         18        640: 100%|██████████| 4/4 [00:00<00:00,  6.59it/s]\n",
      "                 Class     Images  Instances      Box(P          R      mAP50  mAP50-95): 100%|██████████| 1/1 [00:00<00:00,  7.57it/s]"
     ]
    },
    {
     "name": "stdout",
     "output_type": "stream",
     "text": [
      "                   all         22         25      0.953       0.84      0.902      0.747\n"
     ]
    },
    {
     "name": "stderr",
     "output_type": "stream",
     "text": [
      "\n"
     ]
    },
    {
     "name": "stdout",
     "output_type": "stream",
     "text": [
      "\n",
      "      Epoch    GPU_mem   box_loss   cls_loss   dfl_loss  Instances       Size\n"
     ]
    },
    {
     "name": "stderr",
     "output_type": "stream",
     "text": [
      "     81/100      2.48G     0.5663     0.8343     0.9074         20        640: 100%|██████████| 4/4 [00:00<00:00,  7.36it/s]\n",
      "                 Class     Images  Instances      Box(P          R      mAP50  mAP50-95): 100%|██████████| 1/1 [00:00<00:00,  7.89it/s]"
     ]
    },
    {
     "name": "stdout",
     "output_type": "stream",
     "text": [
      "                   all         22         25      0.994       0.84      0.893      0.737\n"
     ]
    },
    {
     "name": "stderr",
     "output_type": "stream",
     "text": [
      "\n"
     ]
    },
    {
     "name": "stdout",
     "output_type": "stream",
     "text": [
      "\n",
      "      Epoch    GPU_mem   box_loss   cls_loss   dfl_loss  Instances       Size\n"
     ]
    },
    {
     "name": "stderr",
     "output_type": "stream",
     "text": [
      "     82/100      2.48G     0.5197     0.7348     0.8784         15        640: 100%|██████████| 4/4 [00:00<00:00,  7.08it/s]\n",
      "                 Class     Images  Instances      Box(P          R      mAP50  mAP50-95): 100%|██████████| 1/1 [00:00<00:00,  8.14it/s]"
     ]
    },
    {
     "name": "stdout",
     "output_type": "stream",
     "text": [
      "                   all         22         25          1      0.799      0.893      0.737\n"
     ]
    },
    {
     "name": "stderr",
     "output_type": "stream",
     "text": [
      "\n"
     ]
    },
    {
     "name": "stdout",
     "output_type": "stream",
     "text": [
      "\n",
      "      Epoch    GPU_mem   box_loss   cls_loss   dfl_loss  Instances       Size\n"
     ]
    },
    {
     "name": "stderr",
     "output_type": "stream",
     "text": [
      "     83/100       2.5G     0.5675      0.818     0.9024         18        640: 100%|██████████| 4/4 [00:00<00:00,  7.49it/s]\n",
      "                 Class     Images  Instances      Box(P          R      mAP50  mAP50-95): 100%|██████████| 1/1 [00:00<00:00,  8.15it/s]"
     ]
    },
    {
     "name": "stdout",
     "output_type": "stream",
     "text": [
      "                   all         22         25      0.908        0.8       0.88      0.738\n"
     ]
    },
    {
     "name": "stderr",
     "output_type": "stream",
     "text": [
      "\n"
     ]
    },
    {
     "name": "stdout",
     "output_type": "stream",
     "text": [
      "\n",
      "      Epoch    GPU_mem   box_loss   cls_loss   dfl_loss  Instances       Size\n"
     ]
    },
    {
     "name": "stderr",
     "output_type": "stream",
     "text": [
      "     84/100      2.48G      0.677     0.9213     0.9494         21        640: 100%|██████████| 4/4 [00:00<00:00,  7.26it/s]\n",
      "                 Class     Images  Instances      Box(P          R      mAP50  mAP50-95): 100%|██████████| 1/1 [00:00<00:00,  7.83it/s]"
     ]
    },
    {
     "name": "stdout",
     "output_type": "stream",
     "text": [
      "                   all         22         25       0.85        0.8      0.872      0.742\n"
     ]
    },
    {
     "name": "stderr",
     "output_type": "stream",
     "text": [
      "\n"
     ]
    },
    {
     "name": "stdout",
     "output_type": "stream",
     "text": [
      "\n",
      "      Epoch    GPU_mem   box_loss   cls_loss   dfl_loss  Instances       Size\n"
     ]
    },
    {
     "name": "stderr",
     "output_type": "stream",
     "text": [
      "     85/100      2.48G     0.6417     0.9507     0.8643         13        640: 100%|██████████| 4/4 [00:00<00:00,  7.41it/s]\n",
      "                 Class     Images  Instances      Box(P          R      mAP50  mAP50-95): 100%|██████████| 1/1 [00:00<00:00,  7.71it/s]"
     ]
    },
    {
     "name": "stdout",
     "output_type": "stream",
     "text": [
      "                   all         22         25      0.909      0.796      0.883      0.764\n"
     ]
    },
    {
     "name": "stderr",
     "output_type": "stream",
     "text": [
      "\n"
     ]
    },
    {
     "name": "stdout",
     "output_type": "stream",
     "text": [
      "\n",
      "      Epoch    GPU_mem   box_loss   cls_loss   dfl_loss  Instances       Size\n"
     ]
    },
    {
     "name": "stderr",
     "output_type": "stream",
     "text": [
      "     86/100      2.48G     0.5749      0.856     0.9009         12        640: 100%|██████████| 4/4 [00:00<00:00,  7.30it/s]\n",
      "                 Class     Images  Instances      Box(P          R      mAP50  mAP50-95): 100%|██████████| 1/1 [00:00<00:00,  6.86it/s]"
     ]
    },
    {
     "name": "stdout",
     "output_type": "stream",
     "text": [
      "                   all         22         25      0.897        0.8      0.873      0.753\n"
     ]
    },
    {
     "name": "stderr",
     "output_type": "stream",
     "text": [
      "\n"
     ]
    },
    {
     "name": "stdout",
     "output_type": "stream",
     "text": [
      "\n",
      "      Epoch    GPU_mem   box_loss   cls_loss   dfl_loss  Instances       Size\n"
     ]
    },
    {
     "name": "stderr",
     "output_type": "stream",
     "text": [
      "     87/100      2.49G     0.4708     0.7837     0.8747         12        640: 100%|██████████| 4/4 [00:00<00:00,  7.43it/s]\n",
      "                 Class     Images  Instances      Box(P          R      mAP50  mAP50-95): 100%|██████████| 1/1 [00:00<00:00,  8.07it/s]"
     ]
    },
    {
     "name": "stdout",
     "output_type": "stream",
     "text": [
      "                   all         22         25       0.94        0.8      0.881      0.766\n"
     ]
    },
    {
     "name": "stderr",
     "output_type": "stream",
     "text": [
      "\n"
     ]
    },
    {
     "name": "stdout",
     "output_type": "stream",
     "text": [
      "\n",
      "      Epoch    GPU_mem   box_loss   cls_loss   dfl_loss  Instances       Size\n"
     ]
    },
    {
     "name": "stderr",
     "output_type": "stream",
     "text": [
      "     88/100      2.48G     0.5837      0.844     0.8858         14        640: 100%|██████████| 4/4 [00:00<00:00,  6.92it/s]\n",
      "                 Class     Images  Instances      Box(P          R      mAP50  mAP50-95): 100%|██████████| 1/1 [00:00<00:00,  7.60it/s]"
     ]
    },
    {
     "name": "stdout",
     "output_type": "stream",
     "text": [
      "                   all         22         25      0.951       0.84      0.885      0.762\n"
     ]
    },
    {
     "name": "stderr",
     "output_type": "stream",
     "text": [
      "\n"
     ]
    },
    {
     "name": "stdout",
     "output_type": "stream",
     "text": [
      "\n",
      "      Epoch    GPU_mem   box_loss   cls_loss   dfl_loss  Instances       Size\n"
     ]
    },
    {
     "name": "stderr",
     "output_type": "stream",
     "text": [
      "     89/100      2.48G     0.5473     0.7514     0.8584         20        640: 100%|██████████| 4/4 [00:00<00:00,  7.07it/s]\n",
      "                 Class     Images  Instances      Box(P          R      mAP50  mAP50-95): 100%|██████████| 1/1 [00:00<00:00,  7.67it/s]"
     ]
    },
    {
     "name": "stdout",
     "output_type": "stream",
     "text": [
      "                   all         22         25      0.948       0.84      0.872      0.757\n"
     ]
    },
    {
     "name": "stderr",
     "output_type": "stream",
     "text": [
      "\n"
     ]
    },
    {
     "name": "stdout",
     "output_type": "stream",
     "text": [
      "\n",
      "      Epoch    GPU_mem   box_loss   cls_loss   dfl_loss  Instances       Size\n"
     ]
    },
    {
     "name": "stderr",
     "output_type": "stream",
     "text": [
      "     90/100      2.48G     0.5487     0.7649     0.8606         16        640: 100%|██████████| 4/4 [00:00<00:00,  7.48it/s]\n",
      "                 Class     Images  Instances      Box(P          R      mAP50  mAP50-95): 100%|██████████| 1/1 [00:00<00:00,  7.93it/s]"
     ]
    },
    {
     "name": "stdout",
     "output_type": "stream",
     "text": [
      "                   all         22         25       0.95       0.84      0.876       0.77\n"
     ]
    },
    {
     "name": "stderr",
     "output_type": "stream",
     "text": [
      "\n"
     ]
    },
    {
     "name": "stdout",
     "output_type": "stream",
     "text": [
      "Closing dataloader mosaic\n",
      "\n",
      "      Epoch    GPU_mem   box_loss   cls_loss   dfl_loss  Instances       Size\n"
     ]
    },
    {
     "name": "stderr",
     "output_type": "stream",
     "text": [
      "     91/100      2.48G     0.5459     0.9056     0.8944         10        640: 100%|██████████| 4/4 [00:07<00:00,  1.77s/it]\n",
      "                 Class     Images  Instances      Box(P          R      mAP50  mAP50-95): 100%|██████████| 1/1 [00:00<00:00,  7.88it/s]"
     ]
    },
    {
     "name": "stdout",
     "output_type": "stream",
     "text": [
      "                   all         22         25      0.951       0.84      0.899      0.776\n"
     ]
    },
    {
     "name": "stderr",
     "output_type": "stream",
     "text": [
      "\n"
     ]
    },
    {
     "name": "stdout",
     "output_type": "stream",
     "text": [
      "\n",
      "      Epoch    GPU_mem   box_loss   cls_loss   dfl_loss  Instances       Size\n"
     ]
    },
    {
     "name": "stderr",
     "output_type": "stream",
     "text": [
      "     92/100      2.48G     0.5515      0.916     0.8415          9        640: 100%|██████████| 4/4 [00:00<00:00,  6.67it/s]\n",
      "                 Class     Images  Instances      Box(P          R      mAP50  mAP50-95): 100%|██████████| 1/1 [00:00<00:00,  7.72it/s]"
     ]
    },
    {
     "name": "stdout",
     "output_type": "stream",
     "text": [
      "                   all         22         25      0.952       0.84      0.879      0.786\n"
     ]
    },
    {
     "name": "stderr",
     "output_type": "stream",
     "text": [
      "\n"
     ]
    },
    {
     "name": "stdout",
     "output_type": "stream",
     "text": [
      "\n",
      "      Epoch    GPU_mem   box_loss   cls_loss   dfl_loss  Instances       Size\n"
     ]
    },
    {
     "name": "stderr",
     "output_type": "stream",
     "text": [
      "     93/100      2.48G      0.591     0.9012     0.9024          9        640: 100%|██████████| 4/4 [00:00<00:00,  6.79it/s]\n",
      "                 Class     Images  Instances      Box(P          R      mAP50  mAP50-95): 100%|██████████| 1/1 [00:00<00:00,  7.18it/s]"
     ]
    },
    {
     "name": "stdout",
     "output_type": "stream",
     "text": [
      "                   all         22         25      0.952       0.84      0.882      0.792\n"
     ]
    },
    {
     "name": "stderr",
     "output_type": "stream",
     "text": [
      "\n"
     ]
    },
    {
     "name": "stdout",
     "output_type": "stream",
     "text": [
      "\n",
      "      Epoch    GPU_mem   box_loss   cls_loss   dfl_loss  Instances       Size\n"
     ]
    },
    {
     "name": "stderr",
     "output_type": "stream",
     "text": [
      "     94/100      2.48G      0.529     0.8252     0.8443          9        640: 100%|██████████| 4/4 [00:00<00:00,  6.89it/s]\n",
      "                 Class     Images  Instances      Box(P          R      mAP50  mAP50-95): 100%|██████████| 1/1 [00:00<00:00,  6.91it/s]"
     ]
    },
    {
     "name": "stdout",
     "output_type": "stream",
     "text": [
      "                   all         22         25      0.952       0.84      0.892       0.79\n"
     ]
    },
    {
     "name": "stderr",
     "output_type": "stream",
     "text": [
      "\n"
     ]
    },
    {
     "name": "stdout",
     "output_type": "stream",
     "text": [
      "\n",
      "      Epoch    GPU_mem   box_loss   cls_loss   dfl_loss  Instances       Size\n"
     ]
    },
    {
     "name": "stderr",
     "output_type": "stream",
     "text": [
      "     95/100      2.48G     0.5179     0.9243     0.8505          8        640: 100%|██████████| 4/4 [00:00<00:00,  7.18it/s]\n",
      "                 Class     Images  Instances      Box(P          R      mAP50  mAP50-95): 100%|██████████| 1/1 [00:00<00:00,  7.42it/s]"
     ]
    },
    {
     "name": "stdout",
     "output_type": "stream",
     "text": [
      "                   all         22         25      0.951       0.84      0.897      0.809\n"
     ]
    },
    {
     "name": "stderr",
     "output_type": "stream",
     "text": [
      "\n"
     ]
    },
    {
     "name": "stdout",
     "output_type": "stream",
     "text": [
      "\n",
      "      Epoch    GPU_mem   box_loss   cls_loss   dfl_loss  Instances       Size\n"
     ]
    },
    {
     "name": "stderr",
     "output_type": "stream",
     "text": [
      "     96/100      2.48G     0.5378     0.8669      0.862          8        640: 100%|██████████| 4/4 [00:00<00:00,  7.54it/s]\n",
      "                 Class     Images  Instances      Box(P          R      mAP50  mAP50-95): 100%|██████████| 1/1 [00:00<00:00,  7.18it/s]"
     ]
    },
    {
     "name": "stdout",
     "output_type": "stream",
     "text": [
      "                   all         22         25          1      0.828      0.901      0.808\n"
     ]
    },
    {
     "name": "stderr",
     "output_type": "stream",
     "text": [
      "\n"
     ]
    },
    {
     "name": "stdout",
     "output_type": "stream",
     "text": [
      "\n",
      "      Epoch    GPU_mem   box_loss   cls_loss   dfl_loss  Instances       Size\n"
     ]
    },
    {
     "name": "stderr",
     "output_type": "stream",
     "text": [
      "     97/100      2.48G     0.5859     0.9555     0.8714          8        640: 100%|██████████| 4/4 [00:00<00:00,  7.30it/s]\n",
      "                 Class     Images  Instances      Box(P          R      mAP50  mAP50-95): 100%|██████████| 1/1 [00:00<00:00,  7.35it/s]"
     ]
    },
    {
     "name": "stdout",
     "output_type": "stream",
     "text": [
      "                   all         22         25      0.956      0.874      0.905      0.818\n"
     ]
    },
    {
     "name": "stderr",
     "output_type": "stream",
     "text": [
      "\n"
     ]
    },
    {
     "name": "stdout",
     "output_type": "stream",
     "text": [
      "\n",
      "      Epoch    GPU_mem   box_loss   cls_loss   dfl_loss  Instances       Size\n"
     ]
    },
    {
     "name": "stderr",
     "output_type": "stream",
     "text": [
      "     98/100      2.48G      0.488     0.7895     0.8483          9        640: 100%|██████████| 4/4 [00:00<00:00,  7.40it/s]\n",
      "                 Class     Images  Instances      Box(P          R      mAP50  mAP50-95): 100%|██████████| 1/1 [00:00<00:00,  8.01it/s]"
     ]
    },
    {
     "name": "stdout",
     "output_type": "stream",
     "text": [
      "                   all         22         25      0.997       0.84      0.905      0.813\n"
     ]
    },
    {
     "name": "stderr",
     "output_type": "stream",
     "text": [
      "\n"
     ]
    },
    {
     "name": "stdout",
     "output_type": "stream",
     "text": [
      "\n",
      "      Epoch    GPU_mem   box_loss   cls_loss   dfl_loss  Instances       Size\n"
     ]
    },
    {
     "name": "stderr",
     "output_type": "stream",
     "text": [
      "     99/100      2.48G      0.535     0.8508     0.8655          8        640: 100%|██████████| 4/4 [00:00<00:00,  7.25it/s]\n",
      "                 Class     Images  Instances      Box(P          R      mAP50  mAP50-95): 100%|██████████| 1/1 [00:00<00:00,  5.95it/s]"
     ]
    },
    {
     "name": "stdout",
     "output_type": "stream",
     "text": [
      "                   all         22         25      0.997       0.84      0.905      0.813\n"
     ]
    },
    {
     "name": "stderr",
     "output_type": "stream",
     "text": [
      "\n"
     ]
    },
    {
     "name": "stdout",
     "output_type": "stream",
     "text": [
      "\n",
      "      Epoch    GPU_mem   box_loss   cls_loss   dfl_loss  Instances       Size\n"
     ]
    },
    {
     "name": "stderr",
     "output_type": "stream",
     "text": [
      "    100/100      2.48G     0.4752     0.8033     0.8767          9        640: 100%|██████████| 4/4 [00:00<00:00,  7.12it/s]\n",
      "                 Class     Images  Instances      Box(P          R      mAP50  mAP50-95): 100%|██████████| 1/1 [00:00<00:00,  8.06it/s]"
     ]
    },
    {
     "name": "stdout",
     "output_type": "stream",
     "text": [
      "                   all         22         25      0.997       0.84      0.906      0.813\n"
     ]
    },
    {
     "name": "stderr",
     "output_type": "stream",
     "text": [
      "\n"
     ]
    },
    {
     "name": "stdout",
     "output_type": "stream",
     "text": [
      "\n",
      "100 epochs completed in 0.079 hours.\n",
      "Optimizer stripped from runs\\detect\\train2\\weights\\last.pt, 5.5MB\n",
      "Optimizer stripped from runs\\detect\\train2\\weights\\best.pt, 5.5MB\n",
      "\n",
      "Validating runs\\detect\\train2\\weights\\best.pt...\n",
      "Ultralytics 8.3.12  Python-3.12.5 torch-2.4.1+cu124 CUDA:0 (NVIDIA GeForce RTX 4060 Laptop GPU, 8188MiB)\n",
      "YOLO11n summary (fused): 238 layers, 2,582,347 parameters, 0 gradients, 6.3 GFLOPs\n"
     ]
    },
    {
     "name": "stderr",
     "output_type": "stream",
     "text": [
      "                 Class     Images  Instances      Box(P          R      mAP50  mAP50-95): 100%|██████████| 1/1 [00:00<00:00,  6.74it/s]\n"
     ]
    },
    {
     "name": "stdout",
     "output_type": "stream",
     "text": [
      "                   all         22         25      0.956      0.873      0.905      0.818\n",
      "Speed: 0.3ms preprocess, 1.6ms inference, 0.0ms loss, 1.2ms postprocess per image\n",
      "Results saved to \u001b[1mruns\\detect\\train2\u001b[0m\n"
     ]
    },
    {
     "data": {
      "text/plain": [
       "ultralytics.utils.metrics.DetMetrics object with attributes:\n",
       "\n",
       "ap_class_index: array([0])\n",
       "box: ultralytics.utils.metrics.Metric object\n",
       "confusion_matrix: <ultralytics.utils.metrics.ConfusionMatrix object at 0x000002970D19E0C0>\n",
       "curves: ['Precision-Recall(B)', 'F1-Confidence(B)', 'Precision-Confidence(B)', 'Recall-Confidence(B)']\n",
       "curves_results: [[array([          0,    0.001001,    0.002002,    0.003003,    0.004004,    0.005005,    0.006006,    0.007007,    0.008008,    0.009009,     0.01001,    0.011011,    0.012012,    0.013013,    0.014014,    0.015015,    0.016016,    0.017017,    0.018018,    0.019019,     0.02002,    0.021021,    0.022022,    0.023023,\n",
       "          0.024024,    0.025025,    0.026026,    0.027027,    0.028028,    0.029029,     0.03003,    0.031031,    0.032032,    0.033033,    0.034034,    0.035035,    0.036036,    0.037037,    0.038038,    0.039039,     0.04004,    0.041041,    0.042042,    0.043043,    0.044044,    0.045045,    0.046046,    0.047047,\n",
       "          0.048048,    0.049049,     0.05005,    0.051051,    0.052052,    0.053053,    0.054054,    0.055055,    0.056056,    0.057057,    0.058058,    0.059059,     0.06006,    0.061061,    0.062062,    0.063063,    0.064064,    0.065065,    0.066066,    0.067067,    0.068068,    0.069069,     0.07007,    0.071071,\n",
       "          0.072072,    0.073073,    0.074074,    0.075075,    0.076076,    0.077077,    0.078078,    0.079079,     0.08008,    0.081081,    0.082082,    0.083083,    0.084084,    0.085085,    0.086086,    0.087087,    0.088088,    0.089089,     0.09009,    0.091091,    0.092092,    0.093093,    0.094094,    0.095095,\n",
       "          0.096096,    0.097097,    0.098098,    0.099099,      0.1001,      0.1011,      0.1021,      0.1031,      0.1041,     0.10511,     0.10611,     0.10711,     0.10811,     0.10911,     0.11011,     0.11111,     0.11211,     0.11311,     0.11411,     0.11512,     0.11612,     0.11712,     0.11812,     0.11912,\n",
       "           0.12012,     0.12112,     0.12212,     0.12312,     0.12412,     0.12513,     0.12613,     0.12713,     0.12813,     0.12913,     0.13013,     0.13113,     0.13213,     0.13313,     0.13413,     0.13514,     0.13614,     0.13714,     0.13814,     0.13914,     0.14014,     0.14114,     0.14214,     0.14314,\n",
       "           0.14414,     0.14515,     0.14615,     0.14715,     0.14815,     0.14915,     0.15015,     0.15115,     0.15215,     0.15315,     0.15415,     0.15516,     0.15616,     0.15716,     0.15816,     0.15916,     0.16016,     0.16116,     0.16216,     0.16316,     0.16416,     0.16517,     0.16617,     0.16717,\n",
       "           0.16817,     0.16917,     0.17017,     0.17117,     0.17217,     0.17317,     0.17417,     0.17518,     0.17618,     0.17718,     0.17818,     0.17918,     0.18018,     0.18118,     0.18218,     0.18318,     0.18418,     0.18519,     0.18619,     0.18719,     0.18819,     0.18919,     0.19019,     0.19119,\n",
       "           0.19219,     0.19319,     0.19419,      0.1952,      0.1962,      0.1972,      0.1982,      0.1992,      0.2002,      0.2012,      0.2022,      0.2032,      0.2042,     0.20521,     0.20621,     0.20721,     0.20821,     0.20921,     0.21021,     0.21121,     0.21221,     0.21321,     0.21421,     0.21522,\n",
       "           0.21622,     0.21722,     0.21822,     0.21922,     0.22022,     0.22122,     0.22222,     0.22322,     0.22422,     0.22523,     0.22623,     0.22723,     0.22823,     0.22923,     0.23023,     0.23123,     0.23223,     0.23323,     0.23423,     0.23524,     0.23624,     0.23724,     0.23824,     0.23924,\n",
       "           0.24024,     0.24124,     0.24224,     0.24324,     0.24424,     0.24525,     0.24625,     0.24725,     0.24825,     0.24925,     0.25025,     0.25125,     0.25225,     0.25325,     0.25425,     0.25526,     0.25626,     0.25726,     0.25826,     0.25926,     0.26026,     0.26126,     0.26226,     0.26326,\n",
       "           0.26426,     0.26527,     0.26627,     0.26727,     0.26827,     0.26927,     0.27027,     0.27127,     0.27227,     0.27327,     0.27427,     0.27528,     0.27628,     0.27728,     0.27828,     0.27928,     0.28028,     0.28128,     0.28228,     0.28328,     0.28428,     0.28529,     0.28629,     0.28729,\n",
       "           0.28829,     0.28929,     0.29029,     0.29129,     0.29229,     0.29329,     0.29429,      0.2953,      0.2963,      0.2973,      0.2983,      0.2993,      0.3003,      0.3013,      0.3023,      0.3033,      0.3043,     0.30531,     0.30631,     0.30731,     0.30831,     0.30931,     0.31031,     0.31131,\n",
       "           0.31231,     0.31331,     0.31431,     0.31532,     0.31632,     0.31732,     0.31832,     0.31932,     0.32032,     0.32132,     0.32232,     0.32332,     0.32432,     0.32533,     0.32633,     0.32733,     0.32833,     0.32933,     0.33033,     0.33133,     0.33233,     0.33333,     0.33433,     0.33534,\n",
       "           0.33634,     0.33734,     0.33834,     0.33934,     0.34034,     0.34134,     0.34234,     0.34334,     0.34434,     0.34535,     0.34635,     0.34735,     0.34835,     0.34935,     0.35035,     0.35135,     0.35235,     0.35335,     0.35435,     0.35536,     0.35636,     0.35736,     0.35836,     0.35936,\n",
       "           0.36036,     0.36136,     0.36236,     0.36336,     0.36436,     0.36537,     0.36637,     0.36737,     0.36837,     0.36937,     0.37037,     0.37137,     0.37237,     0.37337,     0.37437,     0.37538,     0.37638,     0.37738,     0.37838,     0.37938,     0.38038,     0.38138,     0.38238,     0.38338,\n",
       "           0.38438,     0.38539,     0.38639,     0.38739,     0.38839,     0.38939,     0.39039,     0.39139,     0.39239,     0.39339,     0.39439,      0.3954,      0.3964,      0.3974,      0.3984,      0.3994,      0.4004,      0.4014,      0.4024,      0.4034,      0.4044,     0.40541,     0.40641,     0.40741,\n",
       "           0.40841,     0.40941,     0.41041,     0.41141,     0.41241,     0.41341,     0.41441,     0.41542,     0.41642,     0.41742,     0.41842,     0.41942,     0.42042,     0.42142,     0.42242,     0.42342,     0.42442,     0.42543,     0.42643,     0.42743,     0.42843,     0.42943,     0.43043,     0.43143,\n",
       "           0.43243,     0.43343,     0.43443,     0.43544,     0.43644,     0.43744,     0.43844,     0.43944,     0.44044,     0.44144,     0.44244,     0.44344,     0.44444,     0.44545,     0.44645,     0.44745,     0.44845,     0.44945,     0.45045,     0.45145,     0.45245,     0.45345,     0.45445,     0.45546,\n",
       "           0.45646,     0.45746,     0.45846,     0.45946,     0.46046,     0.46146,     0.46246,     0.46346,     0.46446,     0.46547,     0.46647,     0.46747,     0.46847,     0.46947,     0.47047,     0.47147,     0.47247,     0.47347,     0.47447,     0.47548,     0.47648,     0.47748,     0.47848,     0.47948,\n",
       "           0.48048,     0.48148,     0.48248,     0.48348,     0.48448,     0.48549,     0.48649,     0.48749,     0.48849,     0.48949,     0.49049,     0.49149,     0.49249,     0.49349,     0.49449,      0.4955,      0.4965,      0.4975,      0.4985,      0.4995,      0.5005,      0.5015,      0.5025,      0.5035,\n",
       "            0.5045,     0.50551,     0.50651,     0.50751,     0.50851,     0.50951,     0.51051,     0.51151,     0.51251,     0.51351,     0.51451,     0.51552,     0.51652,     0.51752,     0.51852,     0.51952,     0.52052,     0.52152,     0.52252,     0.52352,     0.52452,     0.52553,     0.52653,     0.52753,\n",
       "           0.52853,     0.52953,     0.53053,     0.53153,     0.53253,     0.53353,     0.53453,     0.53554,     0.53654,     0.53754,     0.53854,     0.53954,     0.54054,     0.54154,     0.54254,     0.54354,     0.54454,     0.54555,     0.54655,     0.54755,     0.54855,     0.54955,     0.55055,     0.55155,\n",
       "           0.55255,     0.55355,     0.55455,     0.55556,     0.55656,     0.55756,     0.55856,     0.55956,     0.56056,     0.56156,     0.56256,     0.56356,     0.56456,     0.56557,     0.56657,     0.56757,     0.56857,     0.56957,     0.57057,     0.57157,     0.57257,     0.57357,     0.57457,     0.57558,\n",
       "           0.57658,     0.57758,     0.57858,     0.57958,     0.58058,     0.58158,     0.58258,     0.58358,     0.58458,     0.58559,     0.58659,     0.58759,     0.58859,     0.58959,     0.59059,     0.59159,     0.59259,     0.59359,     0.59459,      0.5956,      0.5966,      0.5976,      0.5986,      0.5996,\n",
       "            0.6006,      0.6016,      0.6026,      0.6036,      0.6046,     0.60561,     0.60661,     0.60761,     0.60861,     0.60961,     0.61061,     0.61161,     0.61261,     0.61361,     0.61461,     0.61562,     0.61662,     0.61762,     0.61862,     0.61962,     0.62062,     0.62162,     0.62262,     0.62362,\n",
       "           0.62462,     0.62563,     0.62663,     0.62763,     0.62863,     0.62963,     0.63063,     0.63163,     0.63263,     0.63363,     0.63463,     0.63564,     0.63664,     0.63764,     0.63864,     0.63964,     0.64064,     0.64164,     0.64264,     0.64364,     0.64464,     0.64565,     0.64665,     0.64765,\n",
       "           0.64865,     0.64965,     0.65065,     0.65165,     0.65265,     0.65365,     0.65465,     0.65566,     0.65666,     0.65766,     0.65866,     0.65966,     0.66066,     0.66166,     0.66266,     0.66366,     0.66466,     0.66567,     0.66667,     0.66767,     0.66867,     0.66967,     0.67067,     0.67167,\n",
       "           0.67267,     0.67367,     0.67467,     0.67568,     0.67668,     0.67768,     0.67868,     0.67968,     0.68068,     0.68168,     0.68268,     0.68368,     0.68468,     0.68569,     0.68669,     0.68769,     0.68869,     0.68969,     0.69069,     0.69169,     0.69269,     0.69369,     0.69469,      0.6957,\n",
       "            0.6967,      0.6977,      0.6987,      0.6997,      0.7007,      0.7017,      0.7027,      0.7037,      0.7047,     0.70571,     0.70671,     0.70771,     0.70871,     0.70971,     0.71071,     0.71171,     0.71271,     0.71371,     0.71471,     0.71572,     0.71672,     0.71772,     0.71872,     0.71972,\n",
       "           0.72072,     0.72172,     0.72272,     0.72372,     0.72472,     0.72573,     0.72673,     0.72773,     0.72873,     0.72973,     0.73073,     0.73173,     0.73273,     0.73373,     0.73473,     0.73574,     0.73674,     0.73774,     0.73874,     0.73974,     0.74074,     0.74174,     0.74274,     0.74374,\n",
       "           0.74474,     0.74575,     0.74675,     0.74775,     0.74875,     0.74975,     0.75075,     0.75175,     0.75275,     0.75375,     0.75475,     0.75576,     0.75676,     0.75776,     0.75876,     0.75976,     0.76076,     0.76176,     0.76276,     0.76376,     0.76476,     0.76577,     0.76677,     0.76777,\n",
       "           0.76877,     0.76977,     0.77077,     0.77177,     0.77277,     0.77377,     0.77477,     0.77578,     0.77678,     0.77778,     0.77878,     0.77978,     0.78078,     0.78178,     0.78278,     0.78378,     0.78478,     0.78579,     0.78679,     0.78779,     0.78879,     0.78979,     0.79079,     0.79179,\n",
       "           0.79279,     0.79379,     0.79479,      0.7958,      0.7968,      0.7978,      0.7988,      0.7998,      0.8008,      0.8018,      0.8028,      0.8038,      0.8048,     0.80581,     0.80681,     0.80781,     0.80881,     0.80981,     0.81081,     0.81181,     0.81281,     0.81381,     0.81481,     0.81582,\n",
       "           0.81682,     0.81782,     0.81882,     0.81982,     0.82082,     0.82182,     0.82282,     0.82382,     0.82482,     0.82583,     0.82683,     0.82783,     0.82883,     0.82983,     0.83083,     0.83183,     0.83283,     0.83383,     0.83483,     0.83584,     0.83684,     0.83784,     0.83884,     0.83984,\n",
       "           0.84084,     0.84184,     0.84284,     0.84384,     0.84484,     0.84585,     0.84685,     0.84785,     0.84885,     0.84985,     0.85085,     0.85185,     0.85285,     0.85385,     0.85485,     0.85586,     0.85686,     0.85786,     0.85886,     0.85986,     0.86086,     0.86186,     0.86286,     0.86386,\n",
       "           0.86486,     0.86587,     0.86687,     0.86787,     0.86887,     0.86987,     0.87087,     0.87187,     0.87287,     0.87387,     0.87487,     0.87588,     0.87688,     0.87788,     0.87888,     0.87988,     0.88088,     0.88188,     0.88288,     0.88388,     0.88488,     0.88589,     0.88689,     0.88789,\n",
       "           0.88889,     0.88989,     0.89089,     0.89189,     0.89289,     0.89389,     0.89489,      0.8959,      0.8969,      0.8979,      0.8989,      0.8999,      0.9009,      0.9019,      0.9029,      0.9039,      0.9049,     0.90591,     0.90691,     0.90791,     0.90891,     0.90991,     0.91091,     0.91191,\n",
       "           0.91291,     0.91391,     0.91491,     0.91592,     0.91692,     0.91792,     0.91892,     0.91992,     0.92092,     0.92192,     0.92292,     0.92392,     0.92492,     0.92593,     0.92693,     0.92793,     0.92893,     0.92993,     0.93093,     0.93193,     0.93293,     0.93393,     0.93493,     0.93594,\n",
       "           0.93694,     0.93794,     0.93894,     0.93994,     0.94094,     0.94194,     0.94294,     0.94394,     0.94494,     0.94595,     0.94695,     0.94795,     0.94895,     0.94995,     0.95095,     0.95195,     0.95295,     0.95395,     0.95495,     0.95596,     0.95696,     0.95796,     0.95896,     0.95996,\n",
       "           0.96096,     0.96196,     0.96296,     0.96396,     0.96496,     0.96597,     0.96697,     0.96797,     0.96897,     0.96997,     0.97097,     0.97197,     0.97297,     0.97397,     0.97497,     0.97598,     0.97698,     0.97798,     0.97898,     0.97998,     0.98098,     0.98198,     0.98298,     0.98398,\n",
       "           0.98498,     0.98599,     0.98699,     0.98799,     0.98899,     0.98999,     0.99099,     0.99199,     0.99299,     0.99399,     0.99499,       0.996,       0.997,       0.998,       0.999,           1]), array([[          1,           1,           1,           1,           1,           1,           1,           1,           1,           1,           1,           1,           1,           1,           1,           1,           1,           1,           1,           1,           1,           1,           1,\n",
       "                  1,           1,           1,           1,           1,           1,           1,           1,           1,           1,           1,           1,           1,           1,           1,           1,           1,           1,           1,           1,           1,           1,           1,\n",
       "                  1,           1,           1,           1,           1,           1,           1,           1,           1,           1,           1,           1,           1,           1,           1,           1,           1,           1,           1,           1,           1,           1,           1,\n",
       "                  1,           1,           1,           1,           1,           1,           1,           1,           1,           1,           1,           1,           1,           1,           1,           1,           1,           1,           1,           1,           1,           1,           1,\n",
       "                  1,           1,           1,           1,           1,           1,           1,           1,           1,           1,           1,           1,           1,           1,           1,           1,           1,           1,           1,           1,           1,           1,           1,\n",
       "                  1,           1,           1,           1,           1,           1,           1,           1,           1,           1,           1,           1,           1,           1,           1,           1,           1,           1,           1,           1,           1,           1,           1,\n",
       "                  1,           1,           1,           1,           1,           1,           1,           1,           1,           1,           1,           1,           1,           1,           1,           1,           1,           1,           1,           1,           1,           1,           1,\n",
       "                  1,           1,           1,           1,           1,           1,           1,           1,           1,           1,           1,           1,           1,           1,           1,           1,           1,           1,           1,           1,           1,           1,           1,\n",
       "                  1,           1,           1,           1,           1,           1,           1,           1,           1,           1,           1,           1,           1,           1,           1,           1,           1,           1,           1,           1,           1,           1,           1,\n",
       "                  1,           1,           1,           1,           1,           1,           1,           1,           1,           1,           1,           1,           1,           1,           1,           1,           1,           1,           1,           1,           1,           1,           1,\n",
       "                  1,           1,           1,           1,           1,           1,           1,           1,           1,           1,           1,           1,           1,           1,           1,           1,           1,           1,           1,           1,           1,           1,           1,\n",
       "                  1,           1,           1,           1,           1,           1,           1,           1,           1,           1,           1,           1,           1,           1,           1,           1,           1,           1,           1,           1,           1,           1,           1,\n",
       "                  1,           1,           1,           1,           1,           1,           1,           1,           1,           1,           1,           1,           1,           1,           1,           1,           1,           1,           1,           1,           1,           1,           1,\n",
       "                  1,           1,           1,           1,           1,           1,           1,           1,           1,           1,           1,           1,           1,           1,           1,           1,           1,           1,           1,           1,           1,           1,           1,\n",
       "                  1,           1,           1,           1,           1,           1,           1,           1,           1,           1,           1,           1,           1,           1,           1,           1,           1,           1,           1,           1,           1,           1,           1,\n",
       "                  1,           1,           1,           1,           1,           1,           1,           1,           1,           1,           1,           1,           1,           1,           1,           1,           1,           1,           1,           1,           1,           1,           1,\n",
       "                  1,           1,           1,           1,           1,           1,           1,           1,           1,           1,           1,           1,           1,           1,           1,           1,           1,           1,           1,           1,           1,           1,           1,\n",
       "                  1,           1,           1,           1,           1,           1,           1,           1,           1,           1,           1,           1,           1,           1,           1,           1,           1,           1,           1,           1,           1,           1,           1,\n",
       "                  1,           1,           1,           1,           1,           1,           1,           1,           1,           1,           1,           1,           1,           1,           1,           1,           1,           1,           1,           1,           1,           1,           1,\n",
       "                  1,           1,           1,           1,           1,           1,           1,           1,           1,           1,           1,           1,           1,           1,           1,           1,           1,           1,           1,           1,           1,           1,           1,\n",
       "                  1,           1,           1,           1,           1,           1,           1,           1,           1,           1,           1,           1,           1,           1,           1,           1,           1,           1,           1,           1,           1,           1,           1,\n",
       "                  1,           1,           1,           1,           1,           1,           1,           1,           1,           1,           1,           1,           1,           1,           1,           1,           1,           1,           1,           1,           1,           1,           1,\n",
       "                  1,           1,           1,           1,           1,           1,           1,           1,           1,           1,           1,           1,           1,           1,           1,           1,           1,           1,           1,           1,           1,           1,           1,\n",
       "                  1,           1,           1,           1,           1,           1,           1,           1,           1,           1,           1,           1,           1,           1,           1,           1,           1,           1,           1,           1,           1,           1,           1,\n",
       "                  1,           1,           1,           1,           1,           1,           1,           1,           1,           1,           1,           1,           1,           1,           1,           1,           1,           1,           1,           1,           1,           1,           1,\n",
       "                  1,           1,           1,           1,           1,           1,           1,           1,           1,           1,           1,           1,           1,           1,           1,           1,           1,           1,           1,           1,           1,           1,           1,\n",
       "                  1,           1,           1,           1,           1,           1,           1,           1,           1,           1,           1,           1,           1,           1,           1,           1,           1,           1,           1,           1,           1,           1,           1,\n",
       "                  1,           1,           1,           1,           1,           1,           1,           1,           1,           1,           1,           1,           1,           1,           1,           1,           1,           1,           1,           1,           1,           1,           1,\n",
       "                  1,           1,           1,           1,           1,           1,           1,           1,           1,           1,           1,           1,           1,           1,           1,           1,           1,           1,           1,           1,           1,           1,           1,\n",
       "                  1,           1,           1,           1,           1,           1,           1,           1,           1,           1,           1,           1,           1,           1,           1,           1,           1,           1,           1,           1,           1,           1,           1,\n",
       "                  1,           1,           1,           1,           1,           1,           1,           1,           1,           1,           1,           1,           1,           1,           1,           1,           1,           1,           1,           1,           1,           1,           1,\n",
       "                  1,           1,           1,           1,           1,           1,           1,           1,           1,           1,           1,           1,           1,           1,           1,           1,           1,           1,           1,           1,           1,           1,           1,\n",
       "                  1,           1,           1,           1,           1,           1,           1,           1,           1,           1,           1,           1,           1,           1,           1,           1,           1,           1,           1,           1,           1,           1,           1,\n",
       "                  1,           1,           1,           1,           1,           1,           1,           1,           1,           1,           1,           1,           1,           1,           1,           1,           1,           1,           1,           1,           1,           1,           1,\n",
       "                  1,           1,           1,           1,           1,           1,           1,           1,           1,           1,           1,           1,           1,           1,           1,           1,           1,           1,           1,           1,           1,           1,           1,\n",
       "                  1,           1,           1,           1,           1,           1,           1,           1,           1,           1,           1,           1,           1,           1,           1,           1,           1,           1,           1,           1,           1,           1,           1,\n",
       "                  1,           1,           1,           1,           1,           1,           1,           1,           1,           1,           1,           1,     0.95652,     0.95652,     0.95652,     0.95652,     0.95652,     0.95652,     0.95652,     0.95652,     0.95652,     0.95652,     0.95652,\n",
       "            0.95652,     0.95652,     0.95652,     0.95652,     0.95652,     0.95652,     0.95652,     0.95652,     0.95652,     0.95652,     0.95652,     0.95652,     0.95652,     0.95652,     0.95652,     0.95652,     0.95652,     0.95652,     0.95652,     0.95652,     0.95652,     0.95652,     0.95652,\n",
       "            0.95652,     0.95652,     0.95652,     0.95652,     0.95652,     0.95652,      0.7931,      0.7931,      0.7931,      0.7931,      0.7931,      0.7931,      0.7931,      0.7931,      0.7931,      0.7931,      0.7931,      0.7931,      0.7931,      0.7931,      0.7931,      0.7931,      0.7931,\n",
       "             0.7931,      0.7931,      0.7931,      0.7931,      0.7931,      0.7931,      0.7931,      0.7931,      0.7931,      0.7931,      0.7931,      0.7931,      0.7931,      0.7931,      0.7931,      0.7931,      0.7931,      0.7931,      0.7931,      0.7931,      0.7931,      0.7931,      0.7931,\n",
       "          0.0062992,   0.0062992,   0.0062992,   0.0062992,   0.0062992,   0.0062992,   0.0062992,   0.0062992,   0.0062992,   0.0062992,   0.0062992,   0.0062992,   0.0062992,   0.0062992,   0.0062992,   0.0062992,   0.0062992,   0.0062992,   0.0062992,   0.0062992,   0.0062992,   0.0062992,   0.0062992,\n",
       "          0.0062992,   0.0062992,   0.0062992,   0.0062992,   0.0062992,   0.0062992,   0.0062992,   0.0062992,   0.0062992,   0.0062992,   0.0062992,   0.0062992,   0.0062992,   0.0062992,   0.0062992,   0.0062992,   0.0062992,   0.0036823,   0.0035879,   0.0034935,   0.0033991,   0.0033047,   0.0032103,\n",
       "          0.0031158,   0.0030214,    0.002927,   0.0028326,   0.0027382,   0.0026437,   0.0025493,   0.0024549,   0.0023605,   0.0022661,   0.0021716,   0.0020772,   0.0019828,   0.0018884,    0.001794,   0.0016995,   0.0016051,   0.0015107,   0.0014163,   0.0013219,   0.0012274,    0.001133,   0.0010386,\n",
       "         0.00094419,  0.00084977,  0.00075535,  0.00066093,  0.00056652,   0.0004721,  0.00037768,  0.00028326,  0.00018884,  9.4419e-05,           0]]), 'Recall', 'Precision'], [array([          0,    0.001001,    0.002002,    0.003003,    0.004004,    0.005005,    0.006006,    0.007007,    0.008008,    0.009009,     0.01001,    0.011011,    0.012012,    0.013013,    0.014014,    0.015015,    0.016016,    0.017017,    0.018018,    0.019019,     0.02002,    0.021021,    0.022022,    0.023023,\n",
       "          0.024024,    0.025025,    0.026026,    0.027027,    0.028028,    0.029029,     0.03003,    0.031031,    0.032032,    0.033033,    0.034034,    0.035035,    0.036036,    0.037037,    0.038038,    0.039039,     0.04004,    0.041041,    0.042042,    0.043043,    0.044044,    0.045045,    0.046046,    0.047047,\n",
       "          0.048048,    0.049049,     0.05005,    0.051051,    0.052052,    0.053053,    0.054054,    0.055055,    0.056056,    0.057057,    0.058058,    0.059059,     0.06006,    0.061061,    0.062062,    0.063063,    0.064064,    0.065065,    0.066066,    0.067067,    0.068068,    0.069069,     0.07007,    0.071071,\n",
       "          0.072072,    0.073073,    0.074074,    0.075075,    0.076076,    0.077077,    0.078078,    0.079079,     0.08008,    0.081081,    0.082082,    0.083083,    0.084084,    0.085085,    0.086086,    0.087087,    0.088088,    0.089089,     0.09009,    0.091091,    0.092092,    0.093093,    0.094094,    0.095095,\n",
       "          0.096096,    0.097097,    0.098098,    0.099099,      0.1001,      0.1011,      0.1021,      0.1031,      0.1041,     0.10511,     0.10611,     0.10711,     0.10811,     0.10911,     0.11011,     0.11111,     0.11211,     0.11311,     0.11411,     0.11512,     0.11612,     0.11712,     0.11812,     0.11912,\n",
       "           0.12012,     0.12112,     0.12212,     0.12312,     0.12412,     0.12513,     0.12613,     0.12713,     0.12813,     0.12913,     0.13013,     0.13113,     0.13213,     0.13313,     0.13413,     0.13514,     0.13614,     0.13714,     0.13814,     0.13914,     0.14014,     0.14114,     0.14214,     0.14314,\n",
       "           0.14414,     0.14515,     0.14615,     0.14715,     0.14815,     0.14915,     0.15015,     0.15115,     0.15215,     0.15315,     0.15415,     0.15516,     0.15616,     0.15716,     0.15816,     0.15916,     0.16016,     0.16116,     0.16216,     0.16316,     0.16416,     0.16517,     0.16617,     0.16717,\n",
       "           0.16817,     0.16917,     0.17017,     0.17117,     0.17217,     0.17317,     0.17417,     0.17518,     0.17618,     0.17718,     0.17818,     0.17918,     0.18018,     0.18118,     0.18218,     0.18318,     0.18418,     0.18519,     0.18619,     0.18719,     0.18819,     0.18919,     0.19019,     0.19119,\n",
       "           0.19219,     0.19319,     0.19419,      0.1952,      0.1962,      0.1972,      0.1982,      0.1992,      0.2002,      0.2012,      0.2022,      0.2032,      0.2042,     0.20521,     0.20621,     0.20721,     0.20821,     0.20921,     0.21021,     0.21121,     0.21221,     0.21321,     0.21421,     0.21522,\n",
       "           0.21622,     0.21722,     0.21822,     0.21922,     0.22022,     0.22122,     0.22222,     0.22322,     0.22422,     0.22523,     0.22623,     0.22723,     0.22823,     0.22923,     0.23023,     0.23123,     0.23223,     0.23323,     0.23423,     0.23524,     0.23624,     0.23724,     0.23824,     0.23924,\n",
       "           0.24024,     0.24124,     0.24224,     0.24324,     0.24424,     0.24525,     0.24625,     0.24725,     0.24825,     0.24925,     0.25025,     0.25125,     0.25225,     0.25325,     0.25425,     0.25526,     0.25626,     0.25726,     0.25826,     0.25926,     0.26026,     0.26126,     0.26226,     0.26326,\n",
       "           0.26426,     0.26527,     0.26627,     0.26727,     0.26827,     0.26927,     0.27027,     0.27127,     0.27227,     0.27327,     0.27427,     0.27528,     0.27628,     0.27728,     0.27828,     0.27928,     0.28028,     0.28128,     0.28228,     0.28328,     0.28428,     0.28529,     0.28629,     0.28729,\n",
       "           0.28829,     0.28929,     0.29029,     0.29129,     0.29229,     0.29329,     0.29429,      0.2953,      0.2963,      0.2973,      0.2983,      0.2993,      0.3003,      0.3013,      0.3023,      0.3033,      0.3043,     0.30531,     0.30631,     0.30731,     0.30831,     0.30931,     0.31031,     0.31131,\n",
       "           0.31231,     0.31331,     0.31431,     0.31532,     0.31632,     0.31732,     0.31832,     0.31932,     0.32032,     0.32132,     0.32232,     0.32332,     0.32432,     0.32533,     0.32633,     0.32733,     0.32833,     0.32933,     0.33033,     0.33133,     0.33233,     0.33333,     0.33433,     0.33534,\n",
       "           0.33634,     0.33734,     0.33834,     0.33934,     0.34034,     0.34134,     0.34234,     0.34334,     0.34434,     0.34535,     0.34635,     0.34735,     0.34835,     0.34935,     0.35035,     0.35135,     0.35235,     0.35335,     0.35435,     0.35536,     0.35636,     0.35736,     0.35836,     0.35936,\n",
       "           0.36036,     0.36136,     0.36236,     0.36336,     0.36436,     0.36537,     0.36637,     0.36737,     0.36837,     0.36937,     0.37037,     0.37137,     0.37237,     0.37337,     0.37437,     0.37538,     0.37638,     0.37738,     0.37838,     0.37938,     0.38038,     0.38138,     0.38238,     0.38338,\n",
       "           0.38438,     0.38539,     0.38639,     0.38739,     0.38839,     0.38939,     0.39039,     0.39139,     0.39239,     0.39339,     0.39439,      0.3954,      0.3964,      0.3974,      0.3984,      0.3994,      0.4004,      0.4014,      0.4024,      0.4034,      0.4044,     0.40541,     0.40641,     0.40741,\n",
       "           0.40841,     0.40941,     0.41041,     0.41141,     0.41241,     0.41341,     0.41441,     0.41542,     0.41642,     0.41742,     0.41842,     0.41942,     0.42042,     0.42142,     0.42242,     0.42342,     0.42442,     0.42543,     0.42643,     0.42743,     0.42843,     0.42943,     0.43043,     0.43143,\n",
       "           0.43243,     0.43343,     0.43443,     0.43544,     0.43644,     0.43744,     0.43844,     0.43944,     0.44044,     0.44144,     0.44244,     0.44344,     0.44444,     0.44545,     0.44645,     0.44745,     0.44845,     0.44945,     0.45045,     0.45145,     0.45245,     0.45345,     0.45445,     0.45546,\n",
       "           0.45646,     0.45746,     0.45846,     0.45946,     0.46046,     0.46146,     0.46246,     0.46346,     0.46446,     0.46547,     0.46647,     0.46747,     0.46847,     0.46947,     0.47047,     0.47147,     0.47247,     0.47347,     0.47447,     0.47548,     0.47648,     0.47748,     0.47848,     0.47948,\n",
       "           0.48048,     0.48148,     0.48248,     0.48348,     0.48448,     0.48549,     0.48649,     0.48749,     0.48849,     0.48949,     0.49049,     0.49149,     0.49249,     0.49349,     0.49449,      0.4955,      0.4965,      0.4975,      0.4985,      0.4995,      0.5005,      0.5015,      0.5025,      0.5035,\n",
       "            0.5045,     0.50551,     0.50651,     0.50751,     0.50851,     0.50951,     0.51051,     0.51151,     0.51251,     0.51351,     0.51451,     0.51552,     0.51652,     0.51752,     0.51852,     0.51952,     0.52052,     0.52152,     0.52252,     0.52352,     0.52452,     0.52553,     0.52653,     0.52753,\n",
       "           0.52853,     0.52953,     0.53053,     0.53153,     0.53253,     0.53353,     0.53453,     0.53554,     0.53654,     0.53754,     0.53854,     0.53954,     0.54054,     0.54154,     0.54254,     0.54354,     0.54454,     0.54555,     0.54655,     0.54755,     0.54855,     0.54955,     0.55055,     0.55155,\n",
       "           0.55255,     0.55355,     0.55455,     0.55556,     0.55656,     0.55756,     0.55856,     0.55956,     0.56056,     0.56156,     0.56256,     0.56356,     0.56456,     0.56557,     0.56657,     0.56757,     0.56857,     0.56957,     0.57057,     0.57157,     0.57257,     0.57357,     0.57457,     0.57558,\n",
       "           0.57658,     0.57758,     0.57858,     0.57958,     0.58058,     0.58158,     0.58258,     0.58358,     0.58458,     0.58559,     0.58659,     0.58759,     0.58859,     0.58959,     0.59059,     0.59159,     0.59259,     0.59359,     0.59459,      0.5956,      0.5966,      0.5976,      0.5986,      0.5996,\n",
       "            0.6006,      0.6016,      0.6026,      0.6036,      0.6046,     0.60561,     0.60661,     0.60761,     0.60861,     0.60961,     0.61061,     0.61161,     0.61261,     0.61361,     0.61461,     0.61562,     0.61662,     0.61762,     0.61862,     0.61962,     0.62062,     0.62162,     0.62262,     0.62362,\n",
       "           0.62462,     0.62563,     0.62663,     0.62763,     0.62863,     0.62963,     0.63063,     0.63163,     0.63263,     0.63363,     0.63463,     0.63564,     0.63664,     0.63764,     0.63864,     0.63964,     0.64064,     0.64164,     0.64264,     0.64364,     0.64464,     0.64565,     0.64665,     0.64765,\n",
       "           0.64865,     0.64965,     0.65065,     0.65165,     0.65265,     0.65365,     0.65465,     0.65566,     0.65666,     0.65766,     0.65866,     0.65966,     0.66066,     0.66166,     0.66266,     0.66366,     0.66466,     0.66567,     0.66667,     0.66767,     0.66867,     0.66967,     0.67067,     0.67167,\n",
       "           0.67267,     0.67367,     0.67467,     0.67568,     0.67668,     0.67768,     0.67868,     0.67968,     0.68068,     0.68168,     0.68268,     0.68368,     0.68468,     0.68569,     0.68669,     0.68769,     0.68869,     0.68969,     0.69069,     0.69169,     0.69269,     0.69369,     0.69469,      0.6957,\n",
       "            0.6967,      0.6977,      0.6987,      0.6997,      0.7007,      0.7017,      0.7027,      0.7037,      0.7047,     0.70571,     0.70671,     0.70771,     0.70871,     0.70971,     0.71071,     0.71171,     0.71271,     0.71371,     0.71471,     0.71572,     0.71672,     0.71772,     0.71872,     0.71972,\n",
       "           0.72072,     0.72172,     0.72272,     0.72372,     0.72472,     0.72573,     0.72673,     0.72773,     0.72873,     0.72973,     0.73073,     0.73173,     0.73273,     0.73373,     0.73473,     0.73574,     0.73674,     0.73774,     0.73874,     0.73974,     0.74074,     0.74174,     0.74274,     0.74374,\n",
       "           0.74474,     0.74575,     0.74675,     0.74775,     0.74875,     0.74975,     0.75075,     0.75175,     0.75275,     0.75375,     0.75475,     0.75576,     0.75676,     0.75776,     0.75876,     0.75976,     0.76076,     0.76176,     0.76276,     0.76376,     0.76476,     0.76577,     0.76677,     0.76777,\n",
       "           0.76877,     0.76977,     0.77077,     0.77177,     0.77277,     0.77377,     0.77477,     0.77578,     0.77678,     0.77778,     0.77878,     0.77978,     0.78078,     0.78178,     0.78278,     0.78378,     0.78478,     0.78579,     0.78679,     0.78779,     0.78879,     0.78979,     0.79079,     0.79179,\n",
       "           0.79279,     0.79379,     0.79479,      0.7958,      0.7968,      0.7978,      0.7988,      0.7998,      0.8008,      0.8018,      0.8028,      0.8038,      0.8048,     0.80581,     0.80681,     0.80781,     0.80881,     0.80981,     0.81081,     0.81181,     0.81281,     0.81381,     0.81481,     0.81582,\n",
       "           0.81682,     0.81782,     0.81882,     0.81982,     0.82082,     0.82182,     0.82282,     0.82382,     0.82482,     0.82583,     0.82683,     0.82783,     0.82883,     0.82983,     0.83083,     0.83183,     0.83283,     0.83383,     0.83483,     0.83584,     0.83684,     0.83784,     0.83884,     0.83984,\n",
       "           0.84084,     0.84184,     0.84284,     0.84384,     0.84484,     0.84585,     0.84685,     0.84785,     0.84885,     0.84985,     0.85085,     0.85185,     0.85285,     0.85385,     0.85485,     0.85586,     0.85686,     0.85786,     0.85886,     0.85986,     0.86086,     0.86186,     0.86286,     0.86386,\n",
       "           0.86486,     0.86587,     0.86687,     0.86787,     0.86887,     0.86987,     0.87087,     0.87187,     0.87287,     0.87387,     0.87487,     0.87588,     0.87688,     0.87788,     0.87888,     0.87988,     0.88088,     0.88188,     0.88288,     0.88388,     0.88488,     0.88589,     0.88689,     0.88789,\n",
       "           0.88889,     0.88989,     0.89089,     0.89189,     0.89289,     0.89389,     0.89489,      0.8959,      0.8969,      0.8979,      0.8989,      0.8999,      0.9009,      0.9019,      0.9029,      0.9039,      0.9049,     0.90591,     0.90691,     0.90791,     0.90891,     0.90991,     0.91091,     0.91191,\n",
       "           0.91291,     0.91391,     0.91491,     0.91592,     0.91692,     0.91792,     0.91892,     0.91992,     0.92092,     0.92192,     0.92292,     0.92392,     0.92492,     0.92593,     0.92693,     0.92793,     0.92893,     0.92993,     0.93093,     0.93193,     0.93293,     0.93393,     0.93493,     0.93594,\n",
       "           0.93694,     0.93794,     0.93894,     0.93994,     0.94094,     0.94194,     0.94294,     0.94394,     0.94494,     0.94595,     0.94695,     0.94795,     0.94895,     0.94995,     0.95095,     0.95195,     0.95295,     0.95395,     0.95495,     0.95596,     0.95696,     0.95796,     0.95896,     0.95996,\n",
       "           0.96096,     0.96196,     0.96296,     0.96396,     0.96496,     0.96597,     0.96697,     0.96797,     0.96897,     0.96997,     0.97097,     0.97197,     0.97297,     0.97397,     0.97497,     0.97598,     0.97698,     0.97798,     0.97898,     0.97998,     0.98098,     0.98198,     0.98298,     0.98398,\n",
       "           0.98498,     0.98599,     0.98699,     0.98799,     0.98899,     0.98999,     0.99099,     0.99199,     0.99299,     0.99399,     0.99499,       0.996,       0.997,       0.998,       0.999,           1]), array([[  0.0075164,   0.0075164,    0.012395,    0.016825,    0.037124,     0.10092,     0.19173,     0.26719,     0.30819,     0.33801,     0.39316,     0.42106,     0.46468,     0.49435,     0.52579,     0.54118,     0.56066,     0.56636,     0.58107,     0.61387,     0.64832,     0.65111,      0.6539,\n",
       "            0.65667,     0.66312,     0.67013,     0.67722,      0.6872,     0.69285,     0.69904,     0.70676,     0.71975,     0.72119,     0.72263,     0.72406,     0.72549,     0.72691,     0.72833,     0.72975,     0.73589,     0.74291,     0.74689,     0.75083,     0.75538,     0.76303,     0.76847,\n",
       "            0.77193,     0.77536,     0.77877,     0.78243,     0.78615,     0.78984,     0.79322,     0.79423,     0.79524,     0.79625,     0.79726,     0.79826,     0.79927,     0.80027,     0.80127,     0.80226,     0.80326,     0.80425,     0.80525,     0.80624,     0.80811,     0.81328,      0.8184,\n",
       "            0.82307,     0.82712,     0.83113,     0.83511,     0.83826,     0.84102,     0.84376,     0.84648,     0.84919,     0.85184,     0.85085,     0.84986,     0.84887,     0.84788,     0.84689,      0.8459,     0.84491,     0.84391,     0.84292,     0.84192,     0.84092,     0.83993,     0.83893,\n",
       "            0.83793,     0.83692,     0.83592,     0.83492,     0.83391,      0.8329,      0.8319,     0.83089,     0.83321,     0.84291,     0.84721,     0.84881,      0.8504,     0.85198,     0.85356,     0.85513,      0.8567,     0.85826,     0.85982,     0.86137,     0.86279,     0.86317,     0.86355,\n",
       "            0.86393,     0.86431,     0.86469,     0.86507,     0.86545,     0.86583,      0.8662,     0.86658,     0.86696,     0.86734,     0.86772,     0.86809,     0.86847,     0.86884,     0.86922,      0.8696,     0.86997,     0.87035,     0.87072,     0.87109,     0.87147,     0.87184,     0.87222,\n",
       "            0.87259,     0.87296,     0.87333,     0.87371,     0.87408,     0.87445,     0.87482,     0.87519,     0.87556,     0.87593,      0.8763,     0.87667,     0.87704,     0.87741,     0.87778,     0.87815,     0.87851,     0.87888,     0.87925,     0.87962,     0.87998,     0.88194,     0.88395,\n",
       "            0.88596,     0.88796,     0.88995,     0.89193,     0.89391,     0.89587,     0.89782,     0.89963,     0.90143,     0.90321,     0.90499,     0.90676,     0.90852,     0.91027,     0.91202,     0.91376,     0.91549,     0.91664,     0.91656,     0.91648,     0.91639,     0.91631,     0.91623,\n",
       "            0.91615,     0.91607,     0.91599,      0.9159,     0.91582,     0.91574,     0.91566,     0.91558,     0.91549,     0.91541,     0.91533,     0.91525,     0.91517,     0.91508,       0.915,     0.91492,     0.91484,     0.91475,     0.91467,     0.91459,     0.91451,     0.91443,     0.91434,\n",
       "            0.91426,     0.91418,      0.9141,     0.91402,     0.91393,     0.91385,     0.91377,     0.91369,      0.9136,     0.91352,     0.91344,     0.91336,     0.91327,     0.91319,     0.91311,     0.91303,     0.91295,     0.91286,     0.91278,      0.9127,     0.91262,     0.91253,     0.91245,\n",
       "            0.91237,     0.91229,      0.9122,     0.91212,     0.91204,     0.91196,     0.91187,     0.91179,     0.91171,     0.91163,     0.91154,     0.91146,     0.91138,      0.9113,     0.91121,     0.91113,     0.91105,     0.91097,     0.91088,      0.9108,     0.91072,     0.91063,     0.91055,\n",
       "            0.91047,     0.91039,      0.9103,     0.91022,     0.91014,     0.91006,     0.90997,     0.90989,     0.90981,     0.90972,     0.90964,     0.90956,     0.90948,     0.90939,     0.90931,     0.90923,     0.90914,     0.90906,     0.90898,      0.9089,     0.90881,     0.90873,     0.90865,\n",
       "            0.90856,     0.90848,      0.9084,     0.90831,     0.90823,     0.90815,     0.90807,     0.90798,      0.9079,     0.90782,     0.90773,     0.90765,     0.90757,     0.90748,      0.9074,     0.90732,     0.90723,     0.90715,     0.90707,     0.90699,      0.9069,     0.90682,     0.90674,\n",
       "            0.90665,     0.90657,     0.90649,      0.9064,     0.90632,     0.90624,     0.90615,     0.90607,     0.90599,      0.9059,     0.90582,     0.90574,     0.90565,     0.90557,     0.90549,      0.9054,     0.90532,     0.90524,     0.90515,     0.90507,     0.90498,      0.9049,     0.90482,\n",
       "            0.90473,     0.90465,     0.90457,     0.90448,      0.9044,     0.90432,     0.90423,     0.90415,     0.90407,     0.90398,      0.9039,     0.90382,     0.90373,     0.90365,     0.90356,     0.90348,      0.9034,     0.90331,     0.90323,     0.90315,     0.90306,     0.90298,     0.90289,\n",
       "            0.90281,     0.90273,     0.90264,     0.90256,     0.90248,     0.90239,     0.90231,     0.90222,     0.90214,     0.90206,     0.90197,     0.90189,      0.9018,     0.90172,     0.90164,     0.90155,     0.90147,     0.90138,      0.9013,     0.90122,     0.90113,     0.90105,     0.90096,\n",
       "            0.90088,      0.9008,     0.90071,     0.90063,     0.90054,     0.90046,     0.90038,     0.90029,     0.90021,     0.90012,     0.90004,     0.89996,     0.89987,     0.89979,      0.8997,     0.89962,     0.89953,     0.89945,     0.89937,     0.89928,      0.8992,     0.89911,     0.89903,\n",
       "            0.89894,     0.89886,     0.89878,     0.89869,     0.89861,     0.89852,     0.89844,     0.89835,     0.89827,     0.89818,      0.8981,     0.89802,     0.89793,     0.89785,     0.89776,     0.89768,     0.89759,     0.89751,     0.89742,     0.89734,     0.89726,     0.89717,     0.89709,\n",
       "              0.897,     0.89692,     0.89683,     0.89675,     0.89666,     0.89658,     0.89649,     0.89641,     0.89632,     0.89624,     0.89615,     0.89607,     0.89599,      0.8959,     0.89582,     0.89573,     0.89565,     0.89556,     0.89548,     0.89539,     0.89531,     0.89522,     0.89514,\n",
       "            0.89505,     0.89497,     0.89488,      0.8948,     0.89471,     0.89463,     0.89454,     0.89446,     0.89437,     0.89429,      0.8942,     0.89412,     0.89403,     0.89395,     0.89386,     0.89378,     0.89369,     0.89363,     0.89376,     0.89388,     0.89401,     0.89414,     0.89427,\n",
       "            0.89439,     0.89452,     0.89465,     0.89477,      0.8949,     0.89503,     0.89515,     0.89528,      0.8954,     0.89553,     0.89566,     0.89578,     0.89591,     0.89604,     0.89616,     0.89629,     0.89642,     0.89654,     0.89667,     0.89679,     0.89692,     0.89705,     0.89717,\n",
       "             0.8973,     0.89742,     0.89755,     0.89767,      0.8978,     0.89793,     0.89805,     0.89818,      0.8983,     0.89843,     0.89855,     0.89868,      0.8988,     0.89893,     0.89905,     0.89918,      0.8993,     0.89943,     0.89956,     0.89968,     0.89981,     0.89993,     0.90006,\n",
       "            0.90018,     0.90031,     0.90043,     0.90055,     0.90068,      0.9008,     0.90093,     0.90105,     0.90118,      0.9013,     0.90143,     0.90155,     0.90168,      0.9018,     0.90192,     0.90205,     0.90217,      0.9023,     0.90242,     0.90255,     0.90267,     0.90279,     0.90292,\n",
       "            0.90304,     0.90317,     0.90329,     0.90341,     0.90354,     0.90366,     0.90379,     0.90391,     0.90403,     0.90416,     0.90428,      0.9044,     0.90453,     0.90465,     0.90477,      0.9049,     0.90502,     0.90514,     0.90527,     0.90539,     0.90551,     0.90564,     0.90576,\n",
       "            0.90588,     0.90601,     0.90613,     0.90625,     0.90638,      0.9065,     0.90662,     0.90674,     0.90687,     0.90699,     0.90711,     0.90724,     0.90736,     0.90748,      0.9076,     0.90773,     0.90785,     0.90797,     0.90809,     0.90821,     0.90834,     0.90846,     0.90858,\n",
       "             0.9087,     0.90883,     0.90895,     0.90907,     0.90919,     0.90931,     0.90944,     0.90956,     0.90968,      0.9098,     0.90992,     0.91005,     0.91017,     0.91029,     0.91041,     0.91053,     0.91065,     0.91078,      0.9109,     0.91102,     0.91114,     0.91126,     0.91138,\n",
       "             0.9115,     0.91163,     0.91175,     0.91187,     0.91199,     0.91211,     0.91223,     0.91235,     0.91247,     0.91259,     0.91272,     0.91284,     0.91296,       0.913,     0.91284,     0.91269,     0.91253,     0.91238,     0.91222,     0.91207,     0.91191,     0.91176,      0.9116,\n",
       "            0.91144,     0.91129,     0.91113,     0.91098,     0.91082,     0.91067,     0.91051,     0.91035,      0.9102,     0.91004,     0.90989,     0.90973,     0.90957,     0.90942,     0.90926,      0.9091,     0.90895,     0.90879,     0.90863,     0.90848,     0.90832,     0.90816,     0.90801,\n",
       "            0.90785,     0.90769,     0.90754,     0.90738,     0.90722,     0.90707,     0.90691,     0.90675,      0.9066,     0.90644,     0.90628,     0.90612,     0.90597,     0.90581,     0.90565,     0.90549,     0.90534,     0.90518,     0.90502,     0.90486,     0.90471,     0.90455,     0.90439,\n",
       "            0.90423,     0.90408,     0.90392,     0.90376,      0.9036,     0.90344,     0.90329,     0.90313,     0.90297,     0.90281,     0.90265,      0.9025,     0.90234,     0.90218,     0.90202,     0.90186,      0.9017,     0.90155,     0.90139,     0.90123,     0.90107,     0.90091,     0.90075,\n",
       "            0.90059,     0.90043,     0.90028,     0.90012,     0.89996,      0.8998,     0.89964,     0.89948,     0.89932,     0.89916,       0.899,     0.89884,     0.89868,     0.89852,     0.89836,     0.89821,     0.89805,     0.89789,     0.89773,     0.89757,     0.89741,     0.89725,     0.89709,\n",
       "            0.89693,     0.89677,     0.89661,     0.89645,     0.89629,     0.89613,     0.89597,     0.89581,     0.89565,     0.89549,     0.89533,     0.89517,     0.89501,     0.89484,     0.89468,     0.89452,     0.89436,      0.8942,     0.89404,     0.89388,     0.89372,     0.89356,      0.8934,\n",
       "            0.89324,     0.89308,     0.89292,     0.89275,     0.89259,     0.89243,     0.89227,     0.89211,     0.89195,     0.89179,     0.89163,     0.89146,      0.8913,     0.89114,     0.89098,     0.89082,     0.89066,     0.89049,     0.89033,     0.89017,     0.89001,     0.88985,     0.88968,\n",
       "            0.88952,     0.88936,      0.8892,     0.88904,     0.88886,     0.88857,     0.88828,     0.88798,     0.88769,      0.8874,      0.8871,     0.88681,     0.88652,     0.88622,     0.88593,     0.88563,     0.88534,     0.88505,     0.88475,     0.88446,     0.88416,     0.88387,     0.88357,\n",
       "            0.88327,     0.88298,     0.88268,     0.88239,     0.88209,     0.88179,      0.8815,      0.8812,     0.88091,     0.88061,     0.88031,     0.88001,     0.87972,     0.87942,     0.87912,     0.87882,     0.87853,     0.87823,     0.87793,     0.87763,     0.87733,     0.87703,     0.87673,\n",
       "            0.87644,     0.87614,     0.87584,     0.87554,     0.87524,     0.87494,     0.87464,     0.87434,     0.87404,     0.87374,     0.87344,     0.87313,     0.87283,     0.87253,     0.87223,     0.87193,     0.87163,     0.87133,     0.87102,     0.87072,     0.87042,     0.87012,     0.86981,\n",
       "            0.86951,     0.86921,     0.86891,      0.8686,      0.8683,     0.86799,     0.86769,     0.86739,     0.86708,     0.86678,     0.86647,     0.86617,     0.86586,     0.86556,     0.86525,     0.86495,     0.86464,     0.86434,     0.86403,     0.86373,     0.86177,     0.85911,     0.85643,\n",
       "            0.85375,     0.85105,     0.84833,     0.84561,     0.84287,     0.84012,     0.83735,     0.83579,     0.83428,     0.83278,     0.83126,     0.82975,     0.82823,     0.82671,     0.82518,     0.82365,     0.82211,     0.82057,     0.81903,     0.81748,     0.81593,     0.81437,     0.81281,\n",
       "            0.81125,     0.80968,     0.80734,     0.80491,     0.80246,     0.80001,     0.79754,     0.79507,     0.79258,     0.79009,     0.78758,     0.78506,     0.78254,     0.77971,     0.77562,     0.77151,     0.76737,      0.7632,     0.75901,     0.75478,     0.75053,       0.749,     0.74785,\n",
       "             0.7467,     0.74555,      0.7444,     0.74324,     0.74208,     0.74093,     0.73976,      0.7386,     0.73743,     0.73627,     0.73509,     0.73392,     0.73275,     0.73157,     0.73039,     0.72921,     0.72803,     0.72684,     0.72565,     0.72446,     0.72327,     0.72208,     0.72088,\n",
       "            0.71968,     0.71848,      0.7148,     0.70913,     0.70341,     0.69764,     0.69182,     0.68595,     0.65868,     0.63018,     0.60847,     0.59848,     0.58834,     0.57805,     0.56633,     0.55215,     0.53768,      0.4832,     0.47942,     0.47562,     0.47179,     0.46795,      0.4641,\n",
       "            0.46022,     0.45632,      0.4524,     0.44846,      0.4445,     0.44053,     0.43628,     0.43126,     0.42619,      0.4211,     0.41597,     0.41081,     0.40562,     0.40039,     0.39513,     0.38983,     0.38189,     0.37108,     0.36013,     0.34903,     0.33778,     0.31581,     0.28623,\n",
       "            0.26578,     0.25023,      0.2344,     0.21827,     0.21181,     0.20853,     0.20523,     0.20193,     0.19861,     0.19527,     0.19193,     0.18857,      0.1852,     0.18182,     0.17843,     0.17502,      0.1716,     0.16816,     0.16472,     0.16126,     0.15779,      0.1543,      0.1508,\n",
       "            0.14324,     0.12283,     0.10196,    0.080618,           0,           0,           0,           0,           0,           0,           0]]), 'Confidence', 'F1'], [array([          0,    0.001001,    0.002002,    0.003003,    0.004004,    0.005005,    0.006006,    0.007007,    0.008008,    0.009009,     0.01001,    0.011011,    0.012012,    0.013013,    0.014014,    0.015015,    0.016016,    0.017017,    0.018018,    0.019019,     0.02002,    0.021021,    0.022022,    0.023023,\n",
       "          0.024024,    0.025025,    0.026026,    0.027027,    0.028028,    0.029029,     0.03003,    0.031031,    0.032032,    0.033033,    0.034034,    0.035035,    0.036036,    0.037037,    0.038038,    0.039039,     0.04004,    0.041041,    0.042042,    0.043043,    0.044044,    0.045045,    0.046046,    0.047047,\n",
       "          0.048048,    0.049049,     0.05005,    0.051051,    0.052052,    0.053053,    0.054054,    0.055055,    0.056056,    0.057057,    0.058058,    0.059059,     0.06006,    0.061061,    0.062062,    0.063063,    0.064064,    0.065065,    0.066066,    0.067067,    0.068068,    0.069069,     0.07007,    0.071071,\n",
       "          0.072072,    0.073073,    0.074074,    0.075075,    0.076076,    0.077077,    0.078078,    0.079079,     0.08008,    0.081081,    0.082082,    0.083083,    0.084084,    0.085085,    0.086086,    0.087087,    0.088088,    0.089089,     0.09009,    0.091091,    0.092092,    0.093093,    0.094094,    0.095095,\n",
       "          0.096096,    0.097097,    0.098098,    0.099099,      0.1001,      0.1011,      0.1021,      0.1031,      0.1041,     0.10511,     0.10611,     0.10711,     0.10811,     0.10911,     0.11011,     0.11111,     0.11211,     0.11311,     0.11411,     0.11512,     0.11612,     0.11712,     0.11812,     0.11912,\n",
       "           0.12012,     0.12112,     0.12212,     0.12312,     0.12412,     0.12513,     0.12613,     0.12713,     0.12813,     0.12913,     0.13013,     0.13113,     0.13213,     0.13313,     0.13413,     0.13514,     0.13614,     0.13714,     0.13814,     0.13914,     0.14014,     0.14114,     0.14214,     0.14314,\n",
       "           0.14414,     0.14515,     0.14615,     0.14715,     0.14815,     0.14915,     0.15015,     0.15115,     0.15215,     0.15315,     0.15415,     0.15516,     0.15616,     0.15716,     0.15816,     0.15916,     0.16016,     0.16116,     0.16216,     0.16316,     0.16416,     0.16517,     0.16617,     0.16717,\n",
       "           0.16817,     0.16917,     0.17017,     0.17117,     0.17217,     0.17317,     0.17417,     0.17518,     0.17618,     0.17718,     0.17818,     0.17918,     0.18018,     0.18118,     0.18218,     0.18318,     0.18418,     0.18519,     0.18619,     0.18719,     0.18819,     0.18919,     0.19019,     0.19119,\n",
       "           0.19219,     0.19319,     0.19419,      0.1952,      0.1962,      0.1972,      0.1982,      0.1992,      0.2002,      0.2012,      0.2022,      0.2032,      0.2042,     0.20521,     0.20621,     0.20721,     0.20821,     0.20921,     0.21021,     0.21121,     0.21221,     0.21321,     0.21421,     0.21522,\n",
       "           0.21622,     0.21722,     0.21822,     0.21922,     0.22022,     0.22122,     0.22222,     0.22322,     0.22422,     0.22523,     0.22623,     0.22723,     0.22823,     0.22923,     0.23023,     0.23123,     0.23223,     0.23323,     0.23423,     0.23524,     0.23624,     0.23724,     0.23824,     0.23924,\n",
       "           0.24024,     0.24124,     0.24224,     0.24324,     0.24424,     0.24525,     0.24625,     0.24725,     0.24825,     0.24925,     0.25025,     0.25125,     0.25225,     0.25325,     0.25425,     0.25526,     0.25626,     0.25726,     0.25826,     0.25926,     0.26026,     0.26126,     0.26226,     0.26326,\n",
       "           0.26426,     0.26527,     0.26627,     0.26727,     0.26827,     0.26927,     0.27027,     0.27127,     0.27227,     0.27327,     0.27427,     0.27528,     0.27628,     0.27728,     0.27828,     0.27928,     0.28028,     0.28128,     0.28228,     0.28328,     0.28428,     0.28529,     0.28629,     0.28729,\n",
       "           0.28829,     0.28929,     0.29029,     0.29129,     0.29229,     0.29329,     0.29429,      0.2953,      0.2963,      0.2973,      0.2983,      0.2993,      0.3003,      0.3013,      0.3023,      0.3033,      0.3043,     0.30531,     0.30631,     0.30731,     0.30831,     0.30931,     0.31031,     0.31131,\n",
       "           0.31231,     0.31331,     0.31431,     0.31532,     0.31632,     0.31732,     0.31832,     0.31932,     0.32032,     0.32132,     0.32232,     0.32332,     0.32432,     0.32533,     0.32633,     0.32733,     0.32833,     0.32933,     0.33033,     0.33133,     0.33233,     0.33333,     0.33433,     0.33534,\n",
       "           0.33634,     0.33734,     0.33834,     0.33934,     0.34034,     0.34134,     0.34234,     0.34334,     0.34434,     0.34535,     0.34635,     0.34735,     0.34835,     0.34935,     0.35035,     0.35135,     0.35235,     0.35335,     0.35435,     0.35536,     0.35636,     0.35736,     0.35836,     0.35936,\n",
       "           0.36036,     0.36136,     0.36236,     0.36336,     0.36436,     0.36537,     0.36637,     0.36737,     0.36837,     0.36937,     0.37037,     0.37137,     0.37237,     0.37337,     0.37437,     0.37538,     0.37638,     0.37738,     0.37838,     0.37938,     0.38038,     0.38138,     0.38238,     0.38338,\n",
       "           0.38438,     0.38539,     0.38639,     0.38739,     0.38839,     0.38939,     0.39039,     0.39139,     0.39239,     0.39339,     0.39439,      0.3954,      0.3964,      0.3974,      0.3984,      0.3994,      0.4004,      0.4014,      0.4024,      0.4034,      0.4044,     0.40541,     0.40641,     0.40741,\n",
       "           0.40841,     0.40941,     0.41041,     0.41141,     0.41241,     0.41341,     0.41441,     0.41542,     0.41642,     0.41742,     0.41842,     0.41942,     0.42042,     0.42142,     0.42242,     0.42342,     0.42442,     0.42543,     0.42643,     0.42743,     0.42843,     0.42943,     0.43043,     0.43143,\n",
       "           0.43243,     0.43343,     0.43443,     0.43544,     0.43644,     0.43744,     0.43844,     0.43944,     0.44044,     0.44144,     0.44244,     0.44344,     0.44444,     0.44545,     0.44645,     0.44745,     0.44845,     0.44945,     0.45045,     0.45145,     0.45245,     0.45345,     0.45445,     0.45546,\n",
       "           0.45646,     0.45746,     0.45846,     0.45946,     0.46046,     0.46146,     0.46246,     0.46346,     0.46446,     0.46547,     0.46647,     0.46747,     0.46847,     0.46947,     0.47047,     0.47147,     0.47247,     0.47347,     0.47447,     0.47548,     0.47648,     0.47748,     0.47848,     0.47948,\n",
       "           0.48048,     0.48148,     0.48248,     0.48348,     0.48448,     0.48549,     0.48649,     0.48749,     0.48849,     0.48949,     0.49049,     0.49149,     0.49249,     0.49349,     0.49449,      0.4955,      0.4965,      0.4975,      0.4985,      0.4995,      0.5005,      0.5015,      0.5025,      0.5035,\n",
       "            0.5045,     0.50551,     0.50651,     0.50751,     0.50851,     0.50951,     0.51051,     0.51151,     0.51251,     0.51351,     0.51451,     0.51552,     0.51652,     0.51752,     0.51852,     0.51952,     0.52052,     0.52152,     0.52252,     0.52352,     0.52452,     0.52553,     0.52653,     0.52753,\n",
       "           0.52853,     0.52953,     0.53053,     0.53153,     0.53253,     0.53353,     0.53453,     0.53554,     0.53654,     0.53754,     0.53854,     0.53954,     0.54054,     0.54154,     0.54254,     0.54354,     0.54454,     0.54555,     0.54655,     0.54755,     0.54855,     0.54955,     0.55055,     0.55155,\n",
       "           0.55255,     0.55355,     0.55455,     0.55556,     0.55656,     0.55756,     0.55856,     0.55956,     0.56056,     0.56156,     0.56256,     0.56356,     0.56456,     0.56557,     0.56657,     0.56757,     0.56857,     0.56957,     0.57057,     0.57157,     0.57257,     0.57357,     0.57457,     0.57558,\n",
       "           0.57658,     0.57758,     0.57858,     0.57958,     0.58058,     0.58158,     0.58258,     0.58358,     0.58458,     0.58559,     0.58659,     0.58759,     0.58859,     0.58959,     0.59059,     0.59159,     0.59259,     0.59359,     0.59459,      0.5956,      0.5966,      0.5976,      0.5986,      0.5996,\n",
       "            0.6006,      0.6016,      0.6026,      0.6036,      0.6046,     0.60561,     0.60661,     0.60761,     0.60861,     0.60961,     0.61061,     0.61161,     0.61261,     0.61361,     0.61461,     0.61562,     0.61662,     0.61762,     0.61862,     0.61962,     0.62062,     0.62162,     0.62262,     0.62362,\n",
       "           0.62462,     0.62563,     0.62663,     0.62763,     0.62863,     0.62963,     0.63063,     0.63163,     0.63263,     0.63363,     0.63463,     0.63564,     0.63664,     0.63764,     0.63864,     0.63964,     0.64064,     0.64164,     0.64264,     0.64364,     0.64464,     0.64565,     0.64665,     0.64765,\n",
       "           0.64865,     0.64965,     0.65065,     0.65165,     0.65265,     0.65365,     0.65465,     0.65566,     0.65666,     0.65766,     0.65866,     0.65966,     0.66066,     0.66166,     0.66266,     0.66366,     0.66466,     0.66567,     0.66667,     0.66767,     0.66867,     0.66967,     0.67067,     0.67167,\n",
       "           0.67267,     0.67367,     0.67467,     0.67568,     0.67668,     0.67768,     0.67868,     0.67968,     0.68068,     0.68168,     0.68268,     0.68368,     0.68468,     0.68569,     0.68669,     0.68769,     0.68869,     0.68969,     0.69069,     0.69169,     0.69269,     0.69369,     0.69469,      0.6957,\n",
       "            0.6967,      0.6977,      0.6987,      0.6997,      0.7007,      0.7017,      0.7027,      0.7037,      0.7047,     0.70571,     0.70671,     0.70771,     0.70871,     0.70971,     0.71071,     0.71171,     0.71271,     0.71371,     0.71471,     0.71572,     0.71672,     0.71772,     0.71872,     0.71972,\n",
       "           0.72072,     0.72172,     0.72272,     0.72372,     0.72472,     0.72573,     0.72673,     0.72773,     0.72873,     0.72973,     0.73073,     0.73173,     0.73273,     0.73373,     0.73473,     0.73574,     0.73674,     0.73774,     0.73874,     0.73974,     0.74074,     0.74174,     0.74274,     0.74374,\n",
       "           0.74474,     0.74575,     0.74675,     0.74775,     0.74875,     0.74975,     0.75075,     0.75175,     0.75275,     0.75375,     0.75475,     0.75576,     0.75676,     0.75776,     0.75876,     0.75976,     0.76076,     0.76176,     0.76276,     0.76376,     0.76476,     0.76577,     0.76677,     0.76777,\n",
       "           0.76877,     0.76977,     0.77077,     0.77177,     0.77277,     0.77377,     0.77477,     0.77578,     0.77678,     0.77778,     0.77878,     0.77978,     0.78078,     0.78178,     0.78278,     0.78378,     0.78478,     0.78579,     0.78679,     0.78779,     0.78879,     0.78979,     0.79079,     0.79179,\n",
       "           0.79279,     0.79379,     0.79479,      0.7958,      0.7968,      0.7978,      0.7988,      0.7998,      0.8008,      0.8018,      0.8028,      0.8038,      0.8048,     0.80581,     0.80681,     0.80781,     0.80881,     0.80981,     0.81081,     0.81181,     0.81281,     0.81381,     0.81481,     0.81582,\n",
       "           0.81682,     0.81782,     0.81882,     0.81982,     0.82082,     0.82182,     0.82282,     0.82382,     0.82482,     0.82583,     0.82683,     0.82783,     0.82883,     0.82983,     0.83083,     0.83183,     0.83283,     0.83383,     0.83483,     0.83584,     0.83684,     0.83784,     0.83884,     0.83984,\n",
       "           0.84084,     0.84184,     0.84284,     0.84384,     0.84484,     0.84585,     0.84685,     0.84785,     0.84885,     0.84985,     0.85085,     0.85185,     0.85285,     0.85385,     0.85485,     0.85586,     0.85686,     0.85786,     0.85886,     0.85986,     0.86086,     0.86186,     0.86286,     0.86386,\n",
       "           0.86486,     0.86587,     0.86687,     0.86787,     0.86887,     0.86987,     0.87087,     0.87187,     0.87287,     0.87387,     0.87487,     0.87588,     0.87688,     0.87788,     0.87888,     0.87988,     0.88088,     0.88188,     0.88288,     0.88388,     0.88488,     0.88589,     0.88689,     0.88789,\n",
       "           0.88889,     0.88989,     0.89089,     0.89189,     0.89289,     0.89389,     0.89489,      0.8959,      0.8969,      0.8979,      0.8989,      0.8999,      0.9009,      0.9019,      0.9029,      0.9039,      0.9049,     0.90591,     0.90691,     0.90791,     0.90891,     0.90991,     0.91091,     0.91191,\n",
       "           0.91291,     0.91391,     0.91491,     0.91592,     0.91692,     0.91792,     0.91892,     0.91992,     0.92092,     0.92192,     0.92292,     0.92392,     0.92492,     0.92593,     0.92693,     0.92793,     0.92893,     0.92993,     0.93093,     0.93193,     0.93293,     0.93393,     0.93493,     0.93594,\n",
       "           0.93694,     0.93794,     0.93894,     0.93994,     0.94094,     0.94194,     0.94294,     0.94394,     0.94494,     0.94595,     0.94695,     0.94795,     0.94895,     0.94995,     0.95095,     0.95195,     0.95295,     0.95395,     0.95495,     0.95596,     0.95696,     0.95796,     0.95896,     0.95996,\n",
       "           0.96096,     0.96196,     0.96296,     0.96396,     0.96496,     0.96597,     0.96697,     0.96797,     0.96897,     0.96997,     0.97097,     0.97197,     0.97297,     0.97397,     0.97497,     0.97598,     0.97698,     0.97798,     0.97898,     0.97998,     0.98098,     0.98198,     0.98298,     0.98398,\n",
       "           0.98498,     0.98599,     0.98699,     0.98799,     0.98899,     0.98999,     0.99099,     0.99199,     0.99299,     0.99399,     0.99499,       0.996,       0.997,       0.998,       0.999,           1]), array([[   0.003773,    0.003773,   0.0062397,   0.0084899,    0.018944,     0.05339,     0.10701,     0.15629,      0.1851,     0.20704,        0.25,       0.273,     0.31084,     0.33798,     0.36807,     0.38334,     0.40318,      0.4091,     0.42463,      0.4606,     0.50051,     0.50385,      0.5072,\n",
       "            0.51054,     0.51838,       0.527,     0.53582,     0.54842,     0.55566,     0.56366,     0.57377,      0.5911,     0.59304,     0.59498,     0.59692,     0.59887,     0.60081,     0.60275,      0.6047,     0.61318,     0.62299,      0.6286,     0.63421,     0.64073,     0.65181,      0.6598,\n",
       "            0.66491,     0.67002,     0.67514,     0.68065,      0.6863,     0.69195,     0.69714,     0.69871,     0.70028,     0.70184,     0.70341,     0.70498,     0.70654,     0.70811,     0.70968,     0.71124,     0.71281,     0.71438,     0.71594,     0.71751,     0.72048,     0.72874,     0.73701,\n",
       "            0.74462,     0.75127,     0.75792,     0.76457,     0.76986,     0.77452,     0.77918,     0.78385,     0.78851,      0.7931,     0.79276,     0.79242,     0.79208,     0.79174,      0.7914,     0.79106,     0.79072,     0.79038,     0.79003,     0.78969,     0.78935,     0.78901,     0.78867,\n",
       "            0.78833,     0.78799,     0.78765,     0.78731,     0.78697,     0.78663,     0.78629,     0.78595,     0.79115,     0.80882,     0.81678,     0.81975,     0.82272,     0.82569,     0.82866,     0.83163,      0.8346,     0.83758,     0.84055,     0.84352,     0.84624,     0.84697,      0.8477,\n",
       "            0.84844,     0.84917,      0.8499,     0.85064,     0.85137,      0.8521,     0.85284,     0.85357,      0.8543,     0.85504,     0.85577,      0.8565,     0.85724,     0.85797,      0.8587,     0.85944,     0.86017,      0.8609,     0.86164,     0.86237,      0.8631,     0.86383,     0.86457,\n",
       "             0.8653,     0.86603,     0.86677,      0.8675,     0.86823,     0.86897,      0.8697,     0.87043,     0.87117,      0.8719,     0.87263,     0.87337,      0.8741,     0.87483,     0.87557,      0.8763,     0.87703,     0.87777,      0.8785,     0.87923,     0.87997,     0.88388,     0.88794,\n",
       "            0.89201,     0.89607,     0.90013,      0.9042,     0.90826,     0.91232,     0.91639,     0.92016,     0.92392,     0.92768,     0.93143,     0.93519,     0.93895,      0.9427,     0.94646,     0.95022,     0.95397,     0.95652,     0.95651,     0.95651,      0.9565,     0.95649,     0.95648,\n",
       "            0.95648,     0.95647,     0.95646,     0.95646,     0.95645,     0.95644,     0.95643,     0.95643,     0.95642,     0.95641,      0.9564,      0.9564,     0.95639,     0.95638,     0.95638,     0.95637,     0.95636,     0.95635,     0.95635,     0.95634,     0.95633,     0.95633,     0.95632,\n",
       "            0.95631,      0.9563,      0.9563,     0.95629,     0.95628,     0.95628,     0.95627,     0.95626,     0.95625,     0.95625,     0.95624,     0.95623,     0.95623,     0.95622,     0.95621,      0.9562,      0.9562,     0.95619,     0.95618,     0.95618,     0.95617,     0.95616,     0.95615,\n",
       "            0.95615,     0.95614,     0.95613,     0.95613,     0.95612,     0.95611,      0.9561,      0.9561,     0.95609,     0.95608,     0.95608,     0.95607,     0.95606,     0.95605,     0.95605,     0.95604,     0.95603,     0.95603,     0.95602,     0.95601,       0.956,       0.956,     0.95599,\n",
       "            0.95598,     0.95598,     0.95597,     0.95596,     0.95595,     0.95595,     0.95594,     0.95593,     0.95593,     0.95592,     0.95591,      0.9559,      0.9559,     0.95589,     0.95588,     0.95588,     0.95587,     0.95586,     0.95585,     0.95585,     0.95584,     0.95583,     0.95583,\n",
       "            0.95582,     0.95581,      0.9558,      0.9558,     0.95579,     0.95578,     0.95578,     0.95577,     0.95576,     0.95575,     0.95575,     0.95574,     0.95573,     0.95573,     0.95572,     0.95571,      0.9557,      0.9557,     0.95569,     0.95568,     0.95568,     0.95567,     0.95566,\n",
       "            0.95565,     0.95565,     0.95564,     0.95563,     0.95563,     0.95562,     0.95561,      0.9556,      0.9556,     0.95559,     0.95558,     0.95557,     0.95557,     0.95556,     0.95555,     0.95555,     0.95554,     0.95553,     0.95552,     0.95552,     0.95551,      0.9555,      0.9555,\n",
       "            0.95549,     0.95548,     0.95547,     0.95547,     0.95546,     0.95545,     0.95545,     0.95544,     0.95543,     0.95542,     0.95542,     0.95541,      0.9554,      0.9554,     0.95539,     0.95538,     0.95537,     0.95537,     0.95536,     0.95535,     0.95535,     0.95534,     0.95533,\n",
       "            0.95532,     0.95532,     0.95531,      0.9553,      0.9553,     0.95529,     0.95528,     0.95527,     0.95527,     0.95526,     0.95525,     0.95525,     0.95524,     0.95523,     0.95522,     0.95522,     0.95521,      0.9552,      0.9552,     0.95519,     0.95518,     0.95517,     0.95517,\n",
       "            0.95516,     0.95515,     0.95515,     0.95514,     0.95513,     0.95512,     0.95512,     0.95511,      0.9551,      0.9551,     0.95509,     0.95508,     0.95507,     0.95507,     0.95506,     0.95505,     0.95505,     0.95504,     0.95503,     0.95502,     0.95502,     0.95501,       0.955,\n",
       "              0.955,     0.95499,     0.95498,     0.95497,     0.95497,     0.95496,     0.95495,     0.95495,     0.95494,     0.95493,     0.95492,     0.95492,     0.95491,      0.9549,      0.9549,     0.95489,     0.95488,     0.95487,     0.95487,     0.95486,     0.95485,     0.95485,     0.95484,\n",
       "            0.95483,     0.95482,     0.95482,     0.95481,      0.9548,      0.9548,     0.95479,     0.95478,     0.95477,     0.95477,     0.95476,     0.95475,     0.95475,     0.95474,     0.95473,     0.95472,     0.95472,     0.95471,      0.9547,     0.95469,     0.95469,     0.95468,     0.95467,\n",
       "            0.95467,     0.95466,     0.95465,     0.95464,     0.95464,     0.95463,     0.95462,     0.95462,     0.95461,      0.9546,     0.95459,     0.95459,     0.95458,     0.95457,     0.95457,     0.95456,     0.95455,     0.95458,     0.95487,     0.95516,     0.95545,     0.95574,     0.95603,\n",
       "            0.95632,     0.95661,      0.9569,     0.95719,     0.95748,     0.95777,     0.95806,     0.95834,     0.95863,     0.95892,     0.95921,      0.9595,     0.95979,     0.96008,     0.96037,     0.96066,     0.96095,     0.96124,     0.96153,     0.96182,     0.96211,      0.9624,     0.96269,\n",
       "            0.96298,     0.96327,     0.96356,     0.96385,     0.96414,     0.96443,     0.96472,     0.96501,      0.9653,     0.96559,     0.96588,     0.96617,     0.96646,     0.96675,     0.96704,     0.96733,     0.96762,     0.96791,      0.9682,     0.96849,     0.96878,     0.96907,     0.96936,\n",
       "            0.96965,     0.96994,     0.97023,     0.97052,     0.97081,      0.9711,     0.97139,     0.97168,     0.97197,     0.97226,     0.97255,     0.97284,     0.97313,     0.97342,     0.97371,       0.974,     0.97429,     0.97458,     0.97487,     0.97516,     0.97545,     0.97574,     0.97603,\n",
       "            0.97632,      0.9766,     0.97689,     0.97718,     0.97747,     0.97776,     0.97805,     0.97834,     0.97863,     0.97892,     0.97921,      0.9795,     0.97979,     0.98008,     0.98037,     0.98066,     0.98095,     0.98124,     0.98153,     0.98182,     0.98211,      0.9824,     0.98269,\n",
       "            0.98298,     0.98327,     0.98356,     0.98385,     0.98414,     0.98443,     0.98472,     0.98501,      0.9853,     0.98559,     0.98588,     0.98617,     0.98646,     0.98675,     0.98704,     0.98733,     0.98762,     0.98791,      0.9882,     0.98849,     0.98878,     0.98907,     0.98936,\n",
       "            0.98965,     0.98994,     0.99023,     0.99052,     0.99081,      0.9911,     0.99139,     0.99168,     0.99197,     0.99226,     0.99255,     0.99284,     0.99313,     0.99342,     0.99371,       0.994,     0.99429,     0.99458,     0.99486,     0.99515,     0.99544,     0.99573,     0.99602,\n",
       "            0.99631,      0.9966,     0.99689,     0.99718,     0.99747,     0.99776,     0.99805,     0.99834,     0.99863,     0.99892,     0.99921,      0.9995,     0.99979,           1,           1,           1,           1,           1,           1,           1,           1,           1,           1,\n",
       "                  1,           1,           1,           1,           1,           1,           1,           1,           1,           1,           1,           1,           1,           1,           1,           1,           1,           1,           1,           1,           1,           1,           1,\n",
       "                  1,           1,           1,           1,           1,           1,           1,           1,           1,           1,           1,           1,           1,           1,           1,           1,           1,           1,           1,           1,           1,           1,           1,\n",
       "                  1,           1,           1,           1,           1,           1,           1,           1,           1,           1,           1,           1,           1,           1,           1,           1,           1,           1,           1,           1,           1,           1,           1,\n",
       "                  1,           1,           1,           1,           1,           1,           1,           1,           1,           1,           1,           1,           1,           1,           1,           1,           1,           1,           1,           1,           1,           1,           1,\n",
       "                  1,           1,           1,           1,           1,           1,           1,           1,           1,           1,           1,           1,           1,           1,           1,           1,           1,           1,           1,           1,           1,           1,           1,\n",
       "                  1,           1,           1,           1,           1,           1,           1,           1,           1,           1,           1,           1,           1,           1,           1,           1,           1,           1,           1,           1,           1,           1,           1,\n",
       "                  1,           1,           1,           1,           1,           1,           1,           1,           1,           1,           1,           1,           1,           1,           1,           1,           1,           1,           1,           1,           1,           1,           1,\n",
       "                  1,           1,           1,           1,           1,           1,           1,           1,           1,           1,           1,           1,           1,           1,           1,           1,           1,           1,           1,           1,           1,           1,           1,\n",
       "                  1,           1,           1,           1,           1,           1,           1,           1,           1,           1,           1,           1,           1,           1,           1,           1,           1,           1,           1,           1,           1,           1,           1,\n",
       "                  1,           1,           1,           1,           1,           1,           1,           1,           1,           1,           1,           1,           1,           1,           1,           1,           1,           1,           1,           1,           1,           1,           1,\n",
       "                  1,           1,           1,           1,           1,           1,           1,           1,           1,           1,           1,           1,           1,           1,           1,           1,           1,           1,           1,           1,           1,           1,           1,\n",
       "                  1,           1,           1,           1,           1,           1,           1,           1,           1,           1,           1,           1,           1,           1,           1,           1,           1,           1,           1,           1,           1,           1,           1,\n",
       "                  1,           1,           1,           1,           1,           1,           1,           1,           1,           1,           1,           1,           1,           1,           1,           1,           1,           1,           1,           1,           1,           1,           1,\n",
       "                  1,           1,           1,           1,           1,           1,           1,           1,           1,           1,           1,           1,           1,           1,           1,           1,           1,           1,           1,           1,           1,           1,           1,\n",
       "                  1,           1,           1,           1,           1,           1,           1,           1,           1,           1,           1,           1,           1,           1,           1,           1,           1,           1,           1,           1,           1,           1,           1,\n",
       "                  1,           1,           1,           1,           1,           1,           1,           1,           1,           1,           1,           1,           1,           1,           1,           1,           1,           1,           1,           1,           1,           1,           1,\n",
       "                  1,           1,           1,           1,           1,           1,           1,           1,           1,           1,           1]]), 'Confidence', 'Precision'], [array([          0,    0.001001,    0.002002,    0.003003,    0.004004,    0.005005,    0.006006,    0.007007,    0.008008,    0.009009,     0.01001,    0.011011,    0.012012,    0.013013,    0.014014,    0.015015,    0.016016,    0.017017,    0.018018,    0.019019,     0.02002,    0.021021,    0.022022,    0.023023,\n",
       "          0.024024,    0.025025,    0.026026,    0.027027,    0.028028,    0.029029,     0.03003,    0.031031,    0.032032,    0.033033,    0.034034,    0.035035,    0.036036,    0.037037,    0.038038,    0.039039,     0.04004,    0.041041,    0.042042,    0.043043,    0.044044,    0.045045,    0.046046,    0.047047,\n",
       "          0.048048,    0.049049,     0.05005,    0.051051,    0.052052,    0.053053,    0.054054,    0.055055,    0.056056,    0.057057,    0.058058,    0.059059,     0.06006,    0.061061,    0.062062,    0.063063,    0.064064,    0.065065,    0.066066,    0.067067,    0.068068,    0.069069,     0.07007,    0.071071,\n",
       "          0.072072,    0.073073,    0.074074,    0.075075,    0.076076,    0.077077,    0.078078,    0.079079,     0.08008,    0.081081,    0.082082,    0.083083,    0.084084,    0.085085,    0.086086,    0.087087,    0.088088,    0.089089,     0.09009,    0.091091,    0.092092,    0.093093,    0.094094,    0.095095,\n",
       "          0.096096,    0.097097,    0.098098,    0.099099,      0.1001,      0.1011,      0.1021,      0.1031,      0.1041,     0.10511,     0.10611,     0.10711,     0.10811,     0.10911,     0.11011,     0.11111,     0.11211,     0.11311,     0.11411,     0.11512,     0.11612,     0.11712,     0.11812,     0.11912,\n",
       "           0.12012,     0.12112,     0.12212,     0.12312,     0.12412,     0.12513,     0.12613,     0.12713,     0.12813,     0.12913,     0.13013,     0.13113,     0.13213,     0.13313,     0.13413,     0.13514,     0.13614,     0.13714,     0.13814,     0.13914,     0.14014,     0.14114,     0.14214,     0.14314,\n",
       "           0.14414,     0.14515,     0.14615,     0.14715,     0.14815,     0.14915,     0.15015,     0.15115,     0.15215,     0.15315,     0.15415,     0.15516,     0.15616,     0.15716,     0.15816,     0.15916,     0.16016,     0.16116,     0.16216,     0.16316,     0.16416,     0.16517,     0.16617,     0.16717,\n",
       "           0.16817,     0.16917,     0.17017,     0.17117,     0.17217,     0.17317,     0.17417,     0.17518,     0.17618,     0.17718,     0.17818,     0.17918,     0.18018,     0.18118,     0.18218,     0.18318,     0.18418,     0.18519,     0.18619,     0.18719,     0.18819,     0.18919,     0.19019,     0.19119,\n",
       "           0.19219,     0.19319,     0.19419,      0.1952,      0.1962,      0.1972,      0.1982,      0.1992,      0.2002,      0.2012,      0.2022,      0.2032,      0.2042,     0.20521,     0.20621,     0.20721,     0.20821,     0.20921,     0.21021,     0.21121,     0.21221,     0.21321,     0.21421,     0.21522,\n",
       "           0.21622,     0.21722,     0.21822,     0.21922,     0.22022,     0.22122,     0.22222,     0.22322,     0.22422,     0.22523,     0.22623,     0.22723,     0.22823,     0.22923,     0.23023,     0.23123,     0.23223,     0.23323,     0.23423,     0.23524,     0.23624,     0.23724,     0.23824,     0.23924,\n",
       "           0.24024,     0.24124,     0.24224,     0.24324,     0.24424,     0.24525,     0.24625,     0.24725,     0.24825,     0.24925,     0.25025,     0.25125,     0.25225,     0.25325,     0.25425,     0.25526,     0.25626,     0.25726,     0.25826,     0.25926,     0.26026,     0.26126,     0.26226,     0.26326,\n",
       "           0.26426,     0.26527,     0.26627,     0.26727,     0.26827,     0.26927,     0.27027,     0.27127,     0.27227,     0.27327,     0.27427,     0.27528,     0.27628,     0.27728,     0.27828,     0.27928,     0.28028,     0.28128,     0.28228,     0.28328,     0.28428,     0.28529,     0.28629,     0.28729,\n",
       "           0.28829,     0.28929,     0.29029,     0.29129,     0.29229,     0.29329,     0.29429,      0.2953,      0.2963,      0.2973,      0.2983,      0.2993,      0.3003,      0.3013,      0.3023,      0.3033,      0.3043,     0.30531,     0.30631,     0.30731,     0.30831,     0.30931,     0.31031,     0.31131,\n",
       "           0.31231,     0.31331,     0.31431,     0.31532,     0.31632,     0.31732,     0.31832,     0.31932,     0.32032,     0.32132,     0.32232,     0.32332,     0.32432,     0.32533,     0.32633,     0.32733,     0.32833,     0.32933,     0.33033,     0.33133,     0.33233,     0.33333,     0.33433,     0.33534,\n",
       "           0.33634,     0.33734,     0.33834,     0.33934,     0.34034,     0.34134,     0.34234,     0.34334,     0.34434,     0.34535,     0.34635,     0.34735,     0.34835,     0.34935,     0.35035,     0.35135,     0.35235,     0.35335,     0.35435,     0.35536,     0.35636,     0.35736,     0.35836,     0.35936,\n",
       "           0.36036,     0.36136,     0.36236,     0.36336,     0.36436,     0.36537,     0.36637,     0.36737,     0.36837,     0.36937,     0.37037,     0.37137,     0.37237,     0.37337,     0.37437,     0.37538,     0.37638,     0.37738,     0.37838,     0.37938,     0.38038,     0.38138,     0.38238,     0.38338,\n",
       "           0.38438,     0.38539,     0.38639,     0.38739,     0.38839,     0.38939,     0.39039,     0.39139,     0.39239,     0.39339,     0.39439,      0.3954,      0.3964,      0.3974,      0.3984,      0.3994,      0.4004,      0.4014,      0.4024,      0.4034,      0.4044,     0.40541,     0.40641,     0.40741,\n",
       "           0.40841,     0.40941,     0.41041,     0.41141,     0.41241,     0.41341,     0.41441,     0.41542,     0.41642,     0.41742,     0.41842,     0.41942,     0.42042,     0.42142,     0.42242,     0.42342,     0.42442,     0.42543,     0.42643,     0.42743,     0.42843,     0.42943,     0.43043,     0.43143,\n",
       "           0.43243,     0.43343,     0.43443,     0.43544,     0.43644,     0.43744,     0.43844,     0.43944,     0.44044,     0.44144,     0.44244,     0.44344,     0.44444,     0.44545,     0.44645,     0.44745,     0.44845,     0.44945,     0.45045,     0.45145,     0.45245,     0.45345,     0.45445,     0.45546,\n",
       "           0.45646,     0.45746,     0.45846,     0.45946,     0.46046,     0.46146,     0.46246,     0.46346,     0.46446,     0.46547,     0.46647,     0.46747,     0.46847,     0.46947,     0.47047,     0.47147,     0.47247,     0.47347,     0.47447,     0.47548,     0.47648,     0.47748,     0.47848,     0.47948,\n",
       "           0.48048,     0.48148,     0.48248,     0.48348,     0.48448,     0.48549,     0.48649,     0.48749,     0.48849,     0.48949,     0.49049,     0.49149,     0.49249,     0.49349,     0.49449,      0.4955,      0.4965,      0.4975,      0.4985,      0.4995,      0.5005,      0.5015,      0.5025,      0.5035,\n",
       "            0.5045,     0.50551,     0.50651,     0.50751,     0.50851,     0.50951,     0.51051,     0.51151,     0.51251,     0.51351,     0.51451,     0.51552,     0.51652,     0.51752,     0.51852,     0.51952,     0.52052,     0.52152,     0.52252,     0.52352,     0.52452,     0.52553,     0.52653,     0.52753,\n",
       "           0.52853,     0.52953,     0.53053,     0.53153,     0.53253,     0.53353,     0.53453,     0.53554,     0.53654,     0.53754,     0.53854,     0.53954,     0.54054,     0.54154,     0.54254,     0.54354,     0.54454,     0.54555,     0.54655,     0.54755,     0.54855,     0.54955,     0.55055,     0.55155,\n",
       "           0.55255,     0.55355,     0.55455,     0.55556,     0.55656,     0.55756,     0.55856,     0.55956,     0.56056,     0.56156,     0.56256,     0.56356,     0.56456,     0.56557,     0.56657,     0.56757,     0.56857,     0.56957,     0.57057,     0.57157,     0.57257,     0.57357,     0.57457,     0.57558,\n",
       "           0.57658,     0.57758,     0.57858,     0.57958,     0.58058,     0.58158,     0.58258,     0.58358,     0.58458,     0.58559,     0.58659,     0.58759,     0.58859,     0.58959,     0.59059,     0.59159,     0.59259,     0.59359,     0.59459,      0.5956,      0.5966,      0.5976,      0.5986,      0.5996,\n",
       "            0.6006,      0.6016,      0.6026,      0.6036,      0.6046,     0.60561,     0.60661,     0.60761,     0.60861,     0.60961,     0.61061,     0.61161,     0.61261,     0.61361,     0.61461,     0.61562,     0.61662,     0.61762,     0.61862,     0.61962,     0.62062,     0.62162,     0.62262,     0.62362,\n",
       "           0.62462,     0.62563,     0.62663,     0.62763,     0.62863,     0.62963,     0.63063,     0.63163,     0.63263,     0.63363,     0.63463,     0.63564,     0.63664,     0.63764,     0.63864,     0.63964,     0.64064,     0.64164,     0.64264,     0.64364,     0.64464,     0.64565,     0.64665,     0.64765,\n",
       "           0.64865,     0.64965,     0.65065,     0.65165,     0.65265,     0.65365,     0.65465,     0.65566,     0.65666,     0.65766,     0.65866,     0.65966,     0.66066,     0.66166,     0.66266,     0.66366,     0.66466,     0.66567,     0.66667,     0.66767,     0.66867,     0.66967,     0.67067,     0.67167,\n",
       "           0.67267,     0.67367,     0.67467,     0.67568,     0.67668,     0.67768,     0.67868,     0.67968,     0.68068,     0.68168,     0.68268,     0.68368,     0.68468,     0.68569,     0.68669,     0.68769,     0.68869,     0.68969,     0.69069,     0.69169,     0.69269,     0.69369,     0.69469,      0.6957,\n",
       "            0.6967,      0.6977,      0.6987,      0.6997,      0.7007,      0.7017,      0.7027,      0.7037,      0.7047,     0.70571,     0.70671,     0.70771,     0.70871,     0.70971,     0.71071,     0.71171,     0.71271,     0.71371,     0.71471,     0.71572,     0.71672,     0.71772,     0.71872,     0.71972,\n",
       "           0.72072,     0.72172,     0.72272,     0.72372,     0.72472,     0.72573,     0.72673,     0.72773,     0.72873,     0.72973,     0.73073,     0.73173,     0.73273,     0.73373,     0.73473,     0.73574,     0.73674,     0.73774,     0.73874,     0.73974,     0.74074,     0.74174,     0.74274,     0.74374,\n",
       "           0.74474,     0.74575,     0.74675,     0.74775,     0.74875,     0.74975,     0.75075,     0.75175,     0.75275,     0.75375,     0.75475,     0.75576,     0.75676,     0.75776,     0.75876,     0.75976,     0.76076,     0.76176,     0.76276,     0.76376,     0.76476,     0.76577,     0.76677,     0.76777,\n",
       "           0.76877,     0.76977,     0.77077,     0.77177,     0.77277,     0.77377,     0.77477,     0.77578,     0.77678,     0.77778,     0.77878,     0.77978,     0.78078,     0.78178,     0.78278,     0.78378,     0.78478,     0.78579,     0.78679,     0.78779,     0.78879,     0.78979,     0.79079,     0.79179,\n",
       "           0.79279,     0.79379,     0.79479,      0.7958,      0.7968,      0.7978,      0.7988,      0.7998,      0.8008,      0.8018,      0.8028,      0.8038,      0.8048,     0.80581,     0.80681,     0.80781,     0.80881,     0.80981,     0.81081,     0.81181,     0.81281,     0.81381,     0.81481,     0.81582,\n",
       "           0.81682,     0.81782,     0.81882,     0.81982,     0.82082,     0.82182,     0.82282,     0.82382,     0.82482,     0.82583,     0.82683,     0.82783,     0.82883,     0.82983,     0.83083,     0.83183,     0.83283,     0.83383,     0.83483,     0.83584,     0.83684,     0.83784,     0.83884,     0.83984,\n",
       "           0.84084,     0.84184,     0.84284,     0.84384,     0.84484,     0.84585,     0.84685,     0.84785,     0.84885,     0.84985,     0.85085,     0.85185,     0.85285,     0.85385,     0.85485,     0.85586,     0.85686,     0.85786,     0.85886,     0.85986,     0.86086,     0.86186,     0.86286,     0.86386,\n",
       "           0.86486,     0.86587,     0.86687,     0.86787,     0.86887,     0.86987,     0.87087,     0.87187,     0.87287,     0.87387,     0.87487,     0.87588,     0.87688,     0.87788,     0.87888,     0.87988,     0.88088,     0.88188,     0.88288,     0.88388,     0.88488,     0.88589,     0.88689,     0.88789,\n",
       "           0.88889,     0.88989,     0.89089,     0.89189,     0.89289,     0.89389,     0.89489,      0.8959,      0.8969,      0.8979,      0.8989,      0.8999,      0.9009,      0.9019,      0.9029,      0.9039,      0.9049,     0.90591,     0.90691,     0.90791,     0.90891,     0.90991,     0.91091,     0.91191,\n",
       "           0.91291,     0.91391,     0.91491,     0.91592,     0.91692,     0.91792,     0.91892,     0.91992,     0.92092,     0.92192,     0.92292,     0.92392,     0.92492,     0.92593,     0.92693,     0.92793,     0.92893,     0.92993,     0.93093,     0.93193,     0.93293,     0.93393,     0.93493,     0.93594,\n",
       "           0.93694,     0.93794,     0.93894,     0.93994,     0.94094,     0.94194,     0.94294,     0.94394,     0.94494,     0.94595,     0.94695,     0.94795,     0.94895,     0.94995,     0.95095,     0.95195,     0.95295,     0.95395,     0.95495,     0.95596,     0.95696,     0.95796,     0.95896,     0.95996,\n",
       "           0.96096,     0.96196,     0.96296,     0.96396,     0.96496,     0.96597,     0.96697,     0.96797,     0.96897,     0.96997,     0.97097,     0.97197,     0.97297,     0.97397,     0.97497,     0.97598,     0.97698,     0.97798,     0.97898,     0.97998,     0.98098,     0.98198,     0.98298,     0.98398,\n",
       "           0.98498,     0.98599,     0.98699,     0.98799,     0.98899,     0.98999,     0.99099,     0.99199,     0.99299,     0.99399,     0.99499,       0.996,       0.997,       0.998,       0.999,           1]), array([[       0.96,        0.96,        0.92,        0.92,        0.92,        0.92,        0.92,        0.92,        0.92,        0.92,        0.92,        0.92,        0.92,        0.92,        0.92,        0.92,        0.92,        0.92,        0.92,        0.92,        0.92,        0.92,        0.92,\n",
       "               0.92,        0.92,        0.92,        0.92,        0.92,        0.92,        0.92,        0.92,        0.92,        0.92,        0.92,        0.92,        0.92,        0.92,        0.92,        0.92,        0.92,        0.92,        0.92,        0.92,        0.92,        0.92,        0.92,\n",
       "               0.92,        0.92,        0.92,        0.92,        0.92,        0.92,        0.92,        0.92,        0.92,        0.92,        0.92,        0.92,        0.92,        0.92,        0.92,        0.92,        0.92,        0.92,        0.92,        0.92,        0.92,        0.92,        0.92,\n",
       "               0.92,        0.92,        0.92,        0.92,        0.92,        0.92,        0.92,        0.92,        0.92,     0.91997,     0.91813,     0.91629,     0.91445,      0.9126,     0.91076,     0.90892,     0.90707,     0.90523,     0.90339,     0.90155,      0.8997,     0.89786,     0.89602,\n",
       "            0.89418,     0.89233,     0.89049,     0.88865,      0.8868,     0.88496,     0.88312,     0.88128,        0.88,        0.88,        0.88,        0.88,        0.88,        0.88,        0.88,        0.88,        0.88,        0.88,        0.88,        0.88,        0.88,        0.88,        0.88,\n",
       "               0.88,        0.88,        0.88,        0.88,        0.88,        0.88,        0.88,        0.88,        0.88,        0.88,        0.88,        0.88,        0.88,        0.88,        0.88,        0.88,        0.88,        0.88,        0.88,        0.88,        0.88,        0.88,        0.88,\n",
       "               0.88,        0.88,        0.88,        0.88,        0.88,        0.88,        0.88,        0.88,        0.88,        0.88,        0.88,        0.88,        0.88,        0.88,        0.88,        0.88,        0.88,        0.88,        0.88,        0.88,        0.88,        0.88,        0.88,\n",
       "               0.88,        0.88,        0.88,        0.88,        0.88,        0.88,        0.88,        0.88,        0.88,        0.88,        0.88,        0.88,        0.88,        0.88,        0.88,        0.88,        0.88,     0.87995,     0.87981,     0.87966,     0.87952,     0.87937,     0.87923,\n",
       "            0.87908,     0.87894,     0.87879,     0.87865,     0.87851,     0.87836,     0.87822,     0.87807,     0.87793,     0.87778,     0.87764,     0.87749,     0.87735,      0.8772,     0.87706,     0.87691,     0.87677,     0.87662,     0.87648,     0.87633,     0.87619,     0.87604,      0.8759,\n",
       "            0.87575,     0.87561,     0.87546,     0.87532,     0.87517,     0.87503,     0.87488,     0.87474,      0.8746,     0.87445,     0.87431,     0.87416,     0.87402,     0.87387,     0.87373,     0.87358,     0.87344,     0.87329,     0.87315,       0.873,     0.87286,     0.87271,     0.87257,\n",
       "            0.87242,     0.87228,     0.87213,     0.87199,     0.87184,      0.8717,     0.87155,     0.87141,     0.87126,     0.87112,     0.87097,     0.87083,     0.87069,     0.87054,      0.8704,     0.87025,     0.87011,     0.86996,     0.86982,     0.86967,     0.86953,     0.86938,     0.86924,\n",
       "            0.86909,     0.86895,      0.8688,     0.86866,     0.86851,     0.86837,     0.86822,     0.86808,     0.86793,     0.86779,     0.86764,      0.8675,     0.86735,     0.86721,     0.86706,     0.86692,     0.86678,     0.86663,     0.86649,     0.86634,      0.8662,     0.86605,     0.86591,\n",
       "            0.86576,     0.86562,     0.86547,     0.86533,     0.86518,     0.86504,     0.86489,     0.86475,      0.8646,     0.86446,     0.86431,     0.86417,     0.86402,     0.86388,     0.86373,     0.86359,     0.86344,      0.8633,     0.86315,     0.86301,     0.86287,     0.86272,     0.86258,\n",
       "            0.86243,     0.86229,     0.86214,       0.862,     0.86185,     0.86171,     0.86156,     0.86142,     0.86127,     0.86113,     0.86098,     0.86084,     0.86069,     0.86055,      0.8604,     0.86026,     0.86011,     0.85997,     0.85982,     0.85968,     0.85953,     0.85939,     0.85924,\n",
       "             0.8591,     0.85896,     0.85881,     0.85867,     0.85852,     0.85838,     0.85823,     0.85809,     0.85794,      0.8578,     0.85765,     0.85751,     0.85736,     0.85722,     0.85707,     0.85693,     0.85678,     0.85664,     0.85649,     0.85635,      0.8562,     0.85606,     0.85591,\n",
       "            0.85577,     0.85562,     0.85548,     0.85533,     0.85519,     0.85505,      0.8549,     0.85476,     0.85461,     0.85447,     0.85432,     0.85418,     0.85403,     0.85389,     0.85374,      0.8536,     0.85345,     0.85331,     0.85316,     0.85302,     0.85287,     0.85273,     0.85258,\n",
       "            0.85244,     0.85229,     0.85215,       0.852,     0.85186,     0.85171,     0.85157,     0.85142,     0.85128,     0.85114,     0.85099,     0.85085,      0.8507,     0.85056,     0.85041,     0.85027,     0.85012,     0.84998,     0.84983,     0.84969,     0.84954,      0.8494,     0.84925,\n",
       "            0.84911,     0.84896,     0.84882,     0.84867,     0.84853,     0.84838,     0.84824,     0.84809,     0.84795,      0.8478,     0.84766,     0.84751,     0.84737,     0.84723,     0.84708,     0.84694,     0.84679,     0.84665,      0.8465,     0.84636,     0.84621,     0.84607,     0.84592,\n",
       "            0.84578,     0.84563,     0.84549,     0.84534,      0.8452,     0.84505,     0.84491,     0.84476,     0.84462,     0.84447,     0.84433,     0.84418,     0.84404,     0.84389,     0.84375,      0.8436,     0.84346,     0.84332,     0.84317,     0.84303,     0.84288,     0.84274,     0.84259,\n",
       "            0.84245,      0.8423,     0.84216,     0.84201,     0.84187,     0.84172,     0.84158,     0.84143,     0.84129,     0.84114,       0.841,     0.84085,     0.84071,     0.84056,     0.84042,     0.84027,     0.84013,        0.84,        0.84,        0.84,        0.84,        0.84,        0.84,\n",
       "               0.84,        0.84,        0.84,        0.84,        0.84,        0.84,        0.84,        0.84,        0.84,        0.84,        0.84,        0.84,        0.84,        0.84,        0.84,        0.84,        0.84,        0.84,        0.84,        0.84,        0.84,        0.84,        0.84,\n",
       "               0.84,        0.84,        0.84,        0.84,        0.84,        0.84,        0.84,        0.84,        0.84,        0.84,        0.84,        0.84,        0.84,        0.84,        0.84,        0.84,        0.84,        0.84,        0.84,        0.84,        0.84,        0.84,        0.84,\n",
       "               0.84,        0.84,        0.84,        0.84,        0.84,        0.84,        0.84,        0.84,        0.84,        0.84,        0.84,        0.84,        0.84,        0.84,        0.84,        0.84,        0.84,        0.84,        0.84,        0.84,        0.84,        0.84,        0.84,\n",
       "               0.84,        0.84,        0.84,        0.84,        0.84,        0.84,        0.84,        0.84,        0.84,        0.84,        0.84,        0.84,        0.84,        0.84,        0.84,        0.84,        0.84,        0.84,        0.84,        0.84,        0.84,        0.84,        0.84,\n",
       "               0.84,        0.84,        0.84,        0.84,        0.84,        0.84,        0.84,        0.84,        0.84,        0.84,        0.84,        0.84,        0.84,        0.84,        0.84,        0.84,        0.84,        0.84,        0.84,        0.84,        0.84,        0.84,        0.84,\n",
       "               0.84,        0.84,        0.84,        0.84,        0.84,        0.84,        0.84,        0.84,        0.84,        0.84,        0.84,        0.84,        0.84,        0.84,        0.84,        0.84,        0.84,        0.84,        0.84,        0.84,        0.84,        0.84,        0.84,\n",
       "               0.84,        0.84,        0.84,        0.84,        0.84,        0.84,        0.84,        0.84,        0.84,        0.84,        0.84,        0.84,        0.84,     0.83993,     0.83966,      0.8394,     0.83914,     0.83887,     0.83861,     0.83835,     0.83809,     0.83782,     0.83756,\n",
       "             0.8373,     0.83703,     0.83677,     0.83651,     0.83625,     0.83598,     0.83572,     0.83546,     0.83519,     0.83493,     0.83467,     0.83441,     0.83414,     0.83388,     0.83362,     0.83335,     0.83309,     0.83283,     0.83257,      0.8323,     0.83204,     0.83178,     0.83152,\n",
       "            0.83125,     0.83099,     0.83073,     0.83046,      0.8302,     0.82994,     0.82968,     0.82941,     0.82915,     0.82889,     0.82862,     0.82836,      0.8281,     0.82784,     0.82757,     0.82731,     0.82705,     0.82678,     0.82652,     0.82626,       0.826,     0.82573,     0.82547,\n",
       "            0.82521,     0.82494,     0.82468,     0.82442,     0.82416,     0.82389,     0.82363,     0.82337,      0.8231,     0.82284,     0.82258,     0.82232,     0.82205,     0.82179,     0.82153,     0.82126,       0.821,     0.82074,     0.82048,     0.82021,     0.81995,     0.81969,     0.81943,\n",
       "            0.81916,      0.8189,     0.81864,     0.81837,     0.81811,     0.81785,     0.81759,     0.81732,     0.81706,      0.8168,     0.81653,     0.81627,     0.81601,     0.81575,     0.81548,     0.81522,     0.81496,     0.81469,     0.81443,     0.81417,     0.81391,     0.81364,     0.81338,\n",
       "            0.81312,     0.81285,     0.81259,     0.81233,     0.81207,      0.8118,     0.81154,     0.81128,     0.81101,     0.81075,     0.81049,     0.81023,     0.80996,      0.8097,     0.80944,     0.80917,     0.80891,     0.80865,     0.80839,     0.80812,     0.80786,      0.8076,     0.80734,\n",
       "            0.80707,     0.80681,     0.80655,     0.80628,     0.80602,     0.80576,      0.8055,     0.80523,     0.80497,     0.80471,     0.80444,     0.80418,     0.80392,     0.80366,     0.80339,     0.80313,     0.80287,      0.8026,     0.80234,     0.80208,     0.80182,     0.80155,     0.80129,\n",
       "            0.80103,     0.80076,      0.8005,     0.80024,     0.79996,     0.79948,     0.79901,     0.79853,     0.79806,     0.79759,     0.79711,     0.79664,     0.79616,     0.79569,     0.79522,     0.79474,     0.79427,     0.79379,     0.79332,     0.79285,     0.79237,      0.7919,     0.79142,\n",
       "            0.79095,     0.79048,        0.79,     0.78953,     0.78905,     0.78858,     0.78811,     0.78763,     0.78716,     0.78668,     0.78621,     0.78574,     0.78526,     0.78479,     0.78431,     0.78384,     0.78337,     0.78289,     0.78242,     0.78194,     0.78147,       0.781,     0.78052,\n",
       "            0.78005,     0.77957,      0.7791,     0.77863,     0.77815,     0.77768,      0.7772,     0.77673,     0.77626,     0.77578,     0.77531,     0.77483,     0.77436,     0.77389,     0.77341,     0.77294,     0.77246,     0.77199,     0.77152,     0.77104,     0.77057,     0.77009,     0.76962,\n",
       "            0.76915,     0.76867,      0.7682,     0.76772,     0.76725,     0.76678,      0.7663,     0.76583,     0.76535,     0.76488,     0.76441,     0.76393,     0.76346,     0.76298,     0.76251,     0.76204,     0.76156,     0.76109,     0.76061,     0.76014,     0.75712,     0.75302,     0.74891,\n",
       "            0.74481,     0.74071,     0.73661,     0.73251,     0.72841,     0.72431,     0.72021,      0.7179,     0.71568,     0.71347,     0.71125,     0.70903,     0.70682,      0.7046,     0.70239,     0.70017,     0.69795,     0.69574,     0.69352,      0.6913,     0.68909,     0.68687,     0.68466,\n",
       "            0.68244,     0.68022,     0.67693,     0.67351,     0.67009,     0.66668,     0.66326,     0.65984,     0.65643,     0.65301,     0.64959,     0.64618,     0.64276,     0.63895,     0.63348,     0.62801,     0.62255,     0.61708,     0.61161,     0.60615,     0.60068,     0.59872,     0.59725,\n",
       "            0.59579,     0.59433,     0.59286,      0.5914,     0.58993,     0.58847,       0.587,     0.58554,     0.58407,     0.58261,     0.58115,     0.57968,     0.57822,     0.57675,     0.57529,     0.57382,     0.57236,      0.5709,     0.56943,     0.56797,      0.5665,     0.56504,     0.56357,\n",
       "            0.56211,     0.56065,     0.55618,     0.54935,     0.54251,     0.53568,     0.52885,     0.52201,     0.49107,     0.46005,     0.43727,     0.42702,     0.41677,     0.40652,     0.39502,     0.38135,     0.36769,     0.31856,     0.31528,       0.312,     0.30872,     0.30544,     0.30216,\n",
       "            0.29888,      0.2956,     0.29232,     0.28904,     0.28576,     0.28248,     0.27901,      0.2749,      0.2708,      0.2667,      0.2626,      0.2585,      0.2544,      0.2503,      0.2462,      0.2421,     0.23601,     0.22781,     0.21961,     0.21141,     0.20321,     0.18752,     0.16702,\n",
       "            0.15326,     0.14301,     0.13276,     0.12251,     0.11845,      0.1164,     0.11435,      0.1123,     0.11025,      0.1082,     0.10615,      0.1041,     0.10205,         0.1,    0.097951,    0.095901,    0.093851,    0.091801,    0.089751,    0.087701,    0.085651,    0.083601,    0.081551,\n",
       "           0.077146,    0.065431,    0.053717,    0.042002,           0,           0,           0,           0,           0,           0,           0]]), 'Confidence', 'Recall']]\n",
       "fitness: 0.8265584175124255\n",
       "keys: ['metrics/precision(B)', 'metrics/recall(B)', 'metrics/mAP50(B)', 'metrics/mAP50-95(B)']\n",
       "maps: array([    0.81781])\n",
       "names: {0: 'a license plate'}\n",
       "plot: True\n",
       "results_dict: {'metrics/precision(B)': 0.9561903124145182, 'metrics/recall(B)': 0.8732919232698482, 'metrics/mAP50(B)': 0.9053313007918884, 'metrics/mAP50-95(B)': 0.8178058749258186, 'fitness': 0.8265584175124255}\n",
       "save_dir: WindowsPath('runs/detect/train2')\n",
       "speed: {'preprocess': 0.2715587615966797, 'inference': 1.5597343444824219, 'loss': 0.0, 'postprocess': 1.2293403798883613}\n",
       "task: 'detect'"
      ]
     },
     "execution_count": 6,
     "metadata": {},
     "output_type": "execute_result"
    }
   ],
   "source": [
    "train_val_test_split(data_path)\n",
    "create_yaml_file(data_path)\n",
    "yolo_trainer()"
   ]
  },
  {
   "cell_type": "code",
   "execution_count": 1,
   "metadata": {},
   "outputs": [
    {
     "name": "stdout",
     "output_type": "stream",
     "text": [
      "Collecting flask\n",
      "  Using cached flask-3.0.3-py3-none-any.whl.metadata (3.2 kB)\n",
      "Collecting Werkzeug>=3.0.0 (from flask)\n",
      "  Using cached werkzeug-3.0.4-py3-none-any.whl.metadata (3.7 kB)\n",
      "Requirement already satisfied: Jinja2>=3.1.2 in c:\\users\\nikhi\\desktop\\projects\\llm activity\\llm test 1\\venv\\lib\\site-packages (from flask) (3.1.4)\n",
      "Collecting itsdangerous>=2.1.2 (from flask)\n",
      "  Using cached itsdangerous-2.2.0-py3-none-any.whl.metadata (1.9 kB)\n",
      "Requirement already satisfied: click>=8.1.3 in c:\\users\\nikhi\\desktop\\projects\\llm activity\\llm test 1\\venv\\lib\\site-packages (from flask) (8.1.7)\n",
      "Requirement already satisfied: blinker>=1.6.2 in c:\\users\\nikhi\\desktop\\projects\\llm activity\\llm test 1\\venv\\lib\\site-packages (from flask) (1.8.2)\n",
      "Requirement already satisfied: colorama in c:\\users\\nikhi\\desktop\\projects\\llm activity\\llm test 1\\venv\\lib\\site-packages (from click>=8.1.3->flask) (0.4.6)\n",
      "Requirement already satisfied: MarkupSafe>=2.0 in c:\\users\\nikhi\\desktop\\projects\\llm activity\\llm test 1\\venv\\lib\\site-packages (from Jinja2>=3.1.2->flask) (2.1.5)\n",
      "Using cached flask-3.0.3-py3-none-any.whl (101 kB)\n",
      "Using cached itsdangerous-2.2.0-py3-none-any.whl (16 kB)\n",
      "Using cached werkzeug-3.0.4-py3-none-any.whl (227 kB)\n",
      "Installing collected packages: Werkzeug, itsdangerous, flask\n",
      "Successfully installed Werkzeug-3.0.4 flask-3.0.3 itsdangerous-2.2.0\n"
     ]
    },
    {
     "name": "stderr",
     "output_type": "stream",
     "text": [
      "WARNING: Ignoring invalid distribution ~orch (C:\\Users\\nikhi\\Desktop\\Projects\\LLM activity\\LLM test 1\\venv\\Lib\\site-packages)\n",
      "WARNING: Ignoring invalid distribution ~orch (C:\\Users\\nikhi\\Desktop\\Projects\\LLM activity\\LLM test 1\\venv\\Lib\\site-packages)\n",
      "WARNING: Ignoring invalid distribution ~orch (C:\\Users\\nikhi\\Desktop\\Projects\\LLM activity\\LLM test 1\\venv\\Lib\\site-packages)\n"
     ]
    }
   ],
   "source": [
    "!pip install flask"
   ]
  },
  {
   "cell_type": "code",
   "execution_count": null,
   "metadata": {},
   "outputs": [],
   "source": []
  }
 ],
 "metadata": {
  "kernelspec": {
   "display_name": "venv",
   "language": "python",
   "name": "python3"
  },
  "language_info": {
   "codemirror_mode": {
    "name": "ipython",
    "version": 3
   },
   "file_extension": ".py",
   "mimetype": "text/x-python",
   "name": "python",
   "nbconvert_exporter": "python",
   "pygments_lexer": "ipython3",
   "version": "3.12.5"
  }
 },
 "nbformat": 4,
 "nbformat_minor": 2
}
